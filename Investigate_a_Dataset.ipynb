<!DOCTYPE html>
<html>
<head><meta charset="utf-8" />

<title>Investigate_a_Dataset</title>

<script src="https://cdnjs.cloudflare.com/ajax/libs/require.js/2.1.10/require.min.js"></script>
<script src="https://cdnjs.cloudflare.com/ajax/libs/jquery/2.0.3/jquery.min.js"></script>



<style type="text/css">
    /*!
*
* Twitter Bootstrap
*
*/
/*!
 * Bootstrap v3.3.7 (http://getbootstrap.com)
 * Copyright 2011-2016 Twitter, Inc.
 * Licensed under MIT (https://github.com/twbs/bootstrap/blob/master/LICENSE)
 */
/*! normalize.css v3.0.3 | MIT License | github.com/necolas/normalize.css */
html {
  font-family: sans-serif;
  -ms-text-size-adjust: 100%;
  -webkit-text-size-adjust: 100%;
}
body {
  margin: 0;
}
article,
aside,
details,
figcaption,
figure,
footer,
header,
hgroup,
main,
menu,
nav,
section,
summary {
  display: block;
}
audio,
canvas,
progress,
video {
  display: inline-block;
  vertical-align: baseline;
}
audio:not([controls]) {
  display: none;
  height: 0;
}
[hidden],
template {
  display: none;
}
a {
  background-color: transparent;
}
a:active,
a:hover {
  outline: 0;
}
abbr[title] {
  border-bottom: 1px dotted;
}
b,
strong {
  font-weight: bold;
}
dfn {
  font-style: italic;
}
h1 {
  font-size: 2em;
  margin: 0.67em 0;
}
mark {
  background: #ff0;
  color: #000;
}
small {
  font-size: 80%;
}
sub,
sup {
  font-size: 75%;
  line-height: 0;
  position: relative;
  vertical-align: baseline;
}
sup {
  top: -0.5em;
}
sub {
  bottom: -0.25em;
}
img {
  border: 0;
}
svg:not(:root) {
  overflow: hidden;
}
figure {
  margin: 1em 40px;
}
hr {
  box-sizing: content-box;
  height: 0;
}
pre {
  overflow: auto;
}
code,
kbd,
pre,
samp {
  font-family: monospace, monospace;
  font-size: 1em;
}
button,
input,
optgroup,
select,
textarea {
  color: inherit;
  font: inherit;
  margin: 0;
}
button {
  overflow: visible;
}
button,
select {
  text-transform: none;
}
button,
html input[type="button"],
input[type="reset"],
input[type="submit"] {
  -webkit-appearance: button;
  cursor: pointer;
}
button[disabled],
html input[disabled] {
  cursor: default;
}
button::-moz-focus-inner,
input::-moz-focus-inner {
  border: 0;
  padding: 0;
}
input {
  line-height: normal;
}
input[type="checkbox"],
input[type="radio"] {
  box-sizing: border-box;
  padding: 0;
}
input[type="number"]::-webkit-inner-spin-button,
input[type="number"]::-webkit-outer-spin-button {
  height: auto;
}
input[type="search"] {
  -webkit-appearance: textfield;
  box-sizing: content-box;
}
input[type="search"]::-webkit-search-cancel-button,
input[type="search"]::-webkit-search-decoration {
  -webkit-appearance: none;
}
fieldset {
  border: 1px solid #c0c0c0;
  margin: 0 2px;
  padding: 0.35em 0.625em 0.75em;
}
legend {
  border: 0;
  padding: 0;
}
textarea {
  overflow: auto;
}
optgroup {
  font-weight: bold;
}
table {
  border-collapse: collapse;
  border-spacing: 0;
}
td,
th {
  padding: 0;
}
/*! Source: https://github.com/h5bp/html5-boilerplate/blob/master/src/css/main.css */
@media print {
  *,
  *:before,
  *:after {
    background: transparent !important;
    box-shadow: none !important;
    text-shadow: none !important;
  }
  a,
  a:visited {
    text-decoration: underline;
  }
  a[href]:after {
    content: " (" attr(href) ")";
  }
  abbr[title]:after {
    content: " (" attr(title) ")";
  }
  a[href^="#"]:after,
  a[href^="javascript:"]:after {
    content: "";
  }
  pre,
  blockquote {
    border: 1px solid #999;
    page-break-inside: avoid;
  }
  thead {
    display: table-header-group;
  }
  tr,
  img {
    page-break-inside: avoid;
  }
  img {
    max-width: 100% !important;
  }
  p,
  h2,
  h3 {
    orphans: 3;
    widows: 3;
  }
  h2,
  h3 {
    page-break-after: avoid;
  }
  .navbar {
    display: none;
  }
  .btn > .caret,
  .dropup > .btn > .caret {
    border-top-color: #000 !important;
  }
  .label {
    border: 1px solid #000;
  }
  .table {
    border-collapse: collapse !important;
  }
  .table td,
  .table th {
    background-color: #fff !important;
  }
  .table-bordered th,
  .table-bordered td {
    border: 1px solid #ddd !important;
  }
}
@font-face {
  font-family: 'Glyphicons Halflings';
  src: url('../components/bootstrap/fonts/glyphicons-halflings-regular.eot');
  src: url('../components/bootstrap/fonts/glyphicons-halflings-regular.eot?#iefix') format('embedded-opentype'), url('../components/bootstrap/fonts/glyphicons-halflings-regular.woff2') format('woff2'), url('../components/bootstrap/fonts/glyphicons-halflings-regular.woff') format('woff'), url('../components/bootstrap/fonts/glyphicons-halflings-regular.ttf') format('truetype'), url('../components/bootstrap/fonts/glyphicons-halflings-regular.svg#glyphicons_halflingsregular') format('svg');
}
.glyphicon {
  position: relative;
  top: 1px;
  display: inline-block;
  font-family: 'Glyphicons Halflings';
  font-style: normal;
  font-weight: normal;
  line-height: 1;
  -webkit-font-smoothing: antialiased;
  -moz-osx-font-smoothing: grayscale;
}
.glyphicon-asterisk:before {
  content: "\002a";
}
.glyphicon-plus:before {
  content: "\002b";
}
.glyphicon-euro:before,
.glyphicon-eur:before {
  content: "\20ac";
}
.glyphicon-minus:before {
  content: "\2212";
}
.glyphicon-cloud:before {
  content: "\2601";
}
.glyphicon-envelope:before {
  content: "\2709";
}
.glyphicon-pencil:before {
  content: "\270f";
}
.glyphicon-glass:before {
  content: "\e001";
}
.glyphicon-music:before {
  content: "\e002";
}
.glyphicon-search:before {
  content: "\e003";
}
.glyphicon-heart:before {
  content: "\e005";
}
.glyphicon-star:before {
  content: "\e006";
}
.glyphicon-star-empty:before {
  content: "\e007";
}
.glyphicon-user:before {
  content: "\e008";
}
.glyphicon-film:before {
  content: "\e009";
}
.glyphicon-th-large:before {
  content: "\e010";
}
.glyphicon-th:before {
  content: "\e011";
}
.glyphicon-th-list:before {
  content: "\e012";
}
.glyphicon-ok:before {
  content: "\e013";
}
.glyphicon-remove:before {
  content: "\e014";
}
.glyphicon-zoom-in:before {
  content: "\e015";
}
.glyphicon-zoom-out:before {
  content: "\e016";
}
.glyphicon-off:before {
  content: "\e017";
}
.glyphicon-signal:before {
  content: "\e018";
}
.glyphicon-cog:before {
  content: "\e019";
}
.glyphicon-trash:before {
  content: "\e020";
}
.glyphicon-home:before {
  content: "\e021";
}
.glyphicon-file:before {
  content: "\e022";
}
.glyphicon-time:before {
  content: "\e023";
}
.glyphicon-road:before {
  content: "\e024";
}
.glyphicon-download-alt:before {
  content: "\e025";
}
.glyphicon-download:before {
  content: "\e026";
}
.glyphicon-upload:before {
  content: "\e027";
}
.glyphicon-inbox:before {
  content: "\e028";
}
.glyphicon-play-circle:before {
  content: "\e029";
}
.glyphicon-repeat:before {
  content: "\e030";
}
.glyphicon-refresh:before {
  content: "\e031";
}
.glyphicon-list-alt:before {
  content: "\e032";
}
.glyphicon-lock:before {
  content: "\e033";
}
.glyphicon-flag:before {
  content: "\e034";
}
.glyphicon-headphones:before {
  content: "\e035";
}
.glyphicon-volume-off:before {
  content: "\e036";
}
.glyphicon-volume-down:before {
  content: "\e037";
}
.glyphicon-volume-up:before {
  content: "\e038";
}
.glyphicon-qrcode:before {
  content: "\e039";
}
.glyphicon-barcode:before {
  content: "\e040";
}
.glyphicon-tag:before {
  content: "\e041";
}
.glyphicon-tags:before {
  content: "\e042";
}
.glyphicon-book:before {
  content: "\e043";
}
.glyphicon-bookmark:before {
  content: "\e044";
}
.glyphicon-print:before {
  content: "\e045";
}
.glyphicon-camera:before {
  content: "\e046";
}
.glyphicon-font:before {
  content: "\e047";
}
.glyphicon-bold:before {
  content: "\e048";
}
.glyphicon-italic:before {
  content: "\e049";
}
.glyphicon-text-height:before {
  content: "\e050";
}
.glyphicon-text-width:before {
  content: "\e051";
}
.glyphicon-align-left:before {
  content: "\e052";
}
.glyphicon-align-center:before {
  content: "\e053";
}
.glyphicon-align-right:before {
  content: "\e054";
}
.glyphicon-align-justify:before {
  content: "\e055";
}
.glyphicon-list:before {
  content: "\e056";
}
.glyphicon-indent-left:before {
  content: "\e057";
}
.glyphicon-indent-right:before {
  content: "\e058";
}
.glyphicon-facetime-video:before {
  content: "\e059";
}
.glyphicon-picture:before {
  content: "\e060";
}
.glyphicon-map-marker:before {
  content: "\e062";
}
.glyphicon-adjust:before {
  content: "\e063";
}
.glyphicon-tint:before {
  content: "\e064";
}
.glyphicon-edit:before {
  content: "\e065";
}
.glyphicon-share:before {
  content: "\e066";
}
.glyphicon-check:before {
  content: "\e067";
}
.glyphicon-move:before {
  content: "\e068";
}
.glyphicon-step-backward:before {
  content: "\e069";
}
.glyphicon-fast-backward:before {
  content: "\e070";
}
.glyphicon-backward:before {
  content: "\e071";
}
.glyphicon-play:before {
  content: "\e072";
}
.glyphicon-pause:before {
  content: "\e073";
}
.glyphicon-stop:before {
  content: "\e074";
}
.glyphicon-forward:before {
  content: "\e075";
}
.glyphicon-fast-forward:before {
  content: "\e076";
}
.glyphicon-step-forward:before {
  content: "\e077";
}
.glyphicon-eject:before {
  content: "\e078";
}
.glyphicon-chevron-left:before {
  content: "\e079";
}
.glyphicon-chevron-right:before {
  content: "\e080";
}
.glyphicon-plus-sign:before {
  content: "\e081";
}
.glyphicon-minus-sign:before {
  content: "\e082";
}
.glyphicon-remove-sign:before {
  content: "\e083";
}
.glyphicon-ok-sign:before {
  content: "\e084";
}
.glyphicon-question-sign:before {
  content: "\e085";
}
.glyphicon-info-sign:before {
  content: "\e086";
}
.glyphicon-screenshot:before {
  content: "\e087";
}
.glyphicon-remove-circle:before {
  content: "\e088";
}
.glyphicon-ok-circle:before {
  content: "\e089";
}
.glyphicon-ban-circle:before {
  content: "\e090";
}
.glyphicon-arrow-left:before {
  content: "\e091";
}
.glyphicon-arrow-right:before {
  content: "\e092";
}
.glyphicon-arrow-up:before {
  content: "\e093";
}
.glyphicon-arrow-down:before {
  content: "\e094";
}
.glyphicon-share-alt:before {
  content: "\e095";
}
.glyphicon-resize-full:before {
  content: "\e096";
}
.glyphicon-resize-small:before {
  content: "\e097";
}
.glyphicon-exclamation-sign:before {
  content: "\e101";
}
.glyphicon-gift:before {
  content: "\e102";
}
.glyphicon-leaf:before {
  content: "\e103";
}
.glyphicon-fire:before {
  content: "\e104";
}
.glyphicon-eye-open:before {
  content: "\e105";
}
.glyphicon-eye-close:before {
  content: "\e106";
}
.glyphicon-warning-sign:before {
  content: "\e107";
}
.glyphicon-plane:before {
  content: "\e108";
}
.glyphicon-calendar:before {
  content: "\e109";
}
.glyphicon-random:before {
  content: "\e110";
}
.glyphicon-comment:before {
  content: "\e111";
}
.glyphicon-magnet:before {
  content: "\e112";
}
.glyphicon-chevron-up:before {
  content: "\e113";
}
.glyphicon-chevron-down:before {
  content: "\e114";
}
.glyphicon-retweet:before {
  content: "\e115";
}
.glyphicon-shopping-cart:before {
  content: "\e116";
}
.glyphicon-folder-close:before {
  content: "\e117";
}
.glyphicon-folder-open:before {
  content: "\e118";
}
.glyphicon-resize-vertical:before {
  content: "\e119";
}
.glyphicon-resize-horizontal:before {
  content: "\e120";
}
.glyphicon-hdd:before {
  content: "\e121";
}
.glyphicon-bullhorn:before {
  content: "\e122";
}
.glyphicon-bell:before {
  content: "\e123";
}
.glyphicon-certificate:before {
  content: "\e124";
}
.glyphicon-thumbs-up:before {
  content: "\e125";
}
.glyphicon-thumbs-down:before {
  content: "\e126";
}
.glyphicon-hand-right:before {
  content: "\e127";
}
.glyphicon-hand-left:before {
  content: "\e128";
}
.glyphicon-hand-up:before {
  content: "\e129";
}
.glyphicon-hand-down:before {
  content: "\e130";
}
.glyphicon-circle-arrow-right:before {
  content: "\e131";
}
.glyphicon-circle-arrow-left:before {
  content: "\e132";
}
.glyphicon-circle-arrow-up:before {
  content: "\e133";
}
.glyphicon-circle-arrow-down:before {
  content: "\e134";
}
.glyphicon-globe:before {
  content: "\e135";
}
.glyphicon-wrench:before {
  content: "\e136";
}
.glyphicon-tasks:before {
  content: "\e137";
}
.glyphicon-filter:before {
  content: "\e138";
}
.glyphicon-briefcase:before {
  content: "\e139";
}
.glyphicon-fullscreen:before {
  content: "\e140";
}
.glyphicon-dashboard:before {
  content: "\e141";
}
.glyphicon-paperclip:before {
  content: "\e142";
}
.glyphicon-heart-empty:before {
  content: "\e143";
}
.glyphicon-link:before {
  content: "\e144";
}
.glyphicon-phone:before {
  content: "\e145";
}
.glyphicon-pushpin:before {
  content: "\e146";
}
.glyphicon-usd:before {
  content: "\e148";
}
.glyphicon-gbp:before {
  content: "\e149";
}
.glyphicon-sort:before {
  content: "\e150";
}
.glyphicon-sort-by-alphabet:before {
  content: "\e151";
}
.glyphicon-sort-by-alphabet-alt:before {
  content: "\e152";
}
.glyphicon-sort-by-order:before {
  content: "\e153";
}
.glyphicon-sort-by-order-alt:before {
  content: "\e154";
}
.glyphicon-sort-by-attributes:before {
  content: "\e155";
}
.glyphicon-sort-by-attributes-alt:before {
  content: "\e156";
}
.glyphicon-unchecked:before {
  content: "\e157";
}
.glyphicon-expand:before {
  content: "\e158";
}
.glyphicon-collapse-down:before {
  content: "\e159";
}
.glyphicon-collapse-up:before {
  content: "\e160";
}
.glyphicon-log-in:before {
  content: "\e161";
}
.glyphicon-flash:before {
  content: "\e162";
}
.glyphicon-log-out:before {
  content: "\e163";
}
.glyphicon-new-window:before {
  content: "\e164";
}
.glyphicon-record:before {
  content: "\e165";
}
.glyphicon-save:before {
  content: "\e166";
}
.glyphicon-open:before {
  content: "\e167";
}
.glyphicon-saved:before {
  content: "\e168";
}
.glyphicon-import:before {
  content: "\e169";
}
.glyphicon-export:before {
  content: "\e170";
}
.glyphicon-send:before {
  content: "\e171";
}
.glyphicon-floppy-disk:before {
  content: "\e172";
}
.glyphicon-floppy-saved:before {
  content: "\e173";
}
.glyphicon-floppy-remove:before {
  content: "\e174";
}
.glyphicon-floppy-save:before {
  content: "\e175";
}
.glyphicon-floppy-open:before {
  content: "\e176";
}
.glyphicon-credit-card:before {
  content: "\e177";
}
.glyphicon-transfer:before {
  content: "\e178";
}
.glyphicon-cutlery:before {
  content: "\e179";
}
.glyphicon-header:before {
  content: "\e180";
}
.glyphicon-compressed:before {
  content: "\e181";
}
.glyphicon-earphone:before {
  content: "\e182";
}
.glyphicon-phone-alt:before {
  content: "\e183";
}
.glyphicon-tower:before {
  content: "\e184";
}
.glyphicon-stats:before {
  content: "\e185";
}
.glyphicon-sd-video:before {
  content: "\e186";
}
.glyphicon-hd-video:before {
  content: "\e187";
}
.glyphicon-subtitles:before {
  content: "\e188";
}
.glyphicon-sound-stereo:before {
  content: "\e189";
}
.glyphicon-sound-dolby:before {
  content: "\e190";
}
.glyphicon-sound-5-1:before {
  content: "\e191";
}
.glyphicon-sound-6-1:before {
  content: "\e192";
}
.glyphicon-sound-7-1:before {
  content: "\e193";
}
.glyphicon-copyright-mark:before {
  content: "\e194";
}
.glyphicon-registration-mark:before {
  content: "\e195";
}
.glyphicon-cloud-download:before {
  content: "\e197";
}
.glyphicon-cloud-upload:before {
  content: "\e198";
}
.glyphicon-tree-conifer:before {
  content: "\e199";
}
.glyphicon-tree-deciduous:before {
  content: "\e200";
}
.glyphicon-cd:before {
  content: "\e201";
}
.glyphicon-save-file:before {
  content: "\e202";
}
.glyphicon-open-file:before {
  content: "\e203";
}
.glyphicon-level-up:before {
  content: "\e204";
}
.glyphicon-copy:before {
  content: "\e205";
}
.glyphicon-paste:before {
  content: "\e206";
}
.glyphicon-alert:before {
  content: "\e209";
}
.glyphicon-equalizer:before {
  content: "\e210";
}
.glyphicon-king:before {
  content: "\e211";
}
.glyphicon-queen:before {
  content: "\e212";
}
.glyphicon-pawn:before {
  content: "\e213";
}
.glyphicon-bishop:before {
  content: "\e214";
}
.glyphicon-knight:before {
  content: "\e215";
}
.glyphicon-baby-formula:before {
  content: "\e216";
}
.glyphicon-tent:before {
  content: "\26fa";
}
.glyphicon-blackboard:before {
  content: "\e218";
}
.glyphicon-bed:before {
  content: "\e219";
}
.glyphicon-apple:before {
  content: "\f8ff";
}
.glyphicon-erase:before {
  content: "\e221";
}
.glyphicon-hourglass:before {
  content: "\231b";
}
.glyphicon-lamp:before {
  content: "\e223";
}
.glyphicon-duplicate:before {
  content: "\e224";
}
.glyphicon-piggy-bank:before {
  content: "\e225";
}
.glyphicon-scissors:before {
  content: "\e226";
}
.glyphicon-bitcoin:before {
  content: "\e227";
}
.glyphicon-btc:before {
  content: "\e227";
}
.glyphicon-xbt:before {
  content: "\e227";
}
.glyphicon-yen:before {
  content: "\00a5";
}
.glyphicon-jpy:before {
  content: "\00a5";
}
.glyphicon-ruble:before {
  content: "\20bd";
}
.glyphicon-rub:before {
  content: "\20bd";
}
.glyphicon-scale:before {
  content: "\e230";
}
.glyphicon-ice-lolly:before {
  content: "\e231";
}
.glyphicon-ice-lolly-tasted:before {
  content: "\e232";
}
.glyphicon-education:before {
  content: "\e233";
}
.glyphicon-option-horizontal:before {
  content: "\e234";
}
.glyphicon-option-vertical:before {
  content: "\e235";
}
.glyphicon-menu-hamburger:before {
  content: "\e236";
}
.glyphicon-modal-window:before {
  content: "\e237";
}
.glyphicon-oil:before {
  content: "\e238";
}
.glyphicon-grain:before {
  content: "\e239";
}
.glyphicon-sunglasses:before {
  content: "\e240";
}
.glyphicon-text-size:before {
  content: "\e241";
}
.glyphicon-text-color:before {
  content: "\e242";
}
.glyphicon-text-background:before {
  content: "\e243";
}
.glyphicon-object-align-top:before {
  content: "\e244";
}
.glyphicon-object-align-bottom:before {
  content: "\e245";
}
.glyphicon-object-align-horizontal:before {
  content: "\e246";
}
.glyphicon-object-align-left:before {
  content: "\e247";
}
.glyphicon-object-align-vertical:before {
  content: "\e248";
}
.glyphicon-object-align-right:before {
  content: "\e249";
}
.glyphicon-triangle-right:before {
  content: "\e250";
}
.glyphicon-triangle-left:before {
  content: "\e251";
}
.glyphicon-triangle-bottom:before {
  content: "\e252";
}
.glyphicon-triangle-top:before {
  content: "\e253";
}
.glyphicon-console:before {
  content: "\e254";
}
.glyphicon-superscript:before {
  content: "\e255";
}
.glyphicon-subscript:before {
  content: "\e256";
}
.glyphicon-menu-left:before {
  content: "\e257";
}
.glyphicon-menu-right:before {
  content: "\e258";
}
.glyphicon-menu-down:before {
  content: "\e259";
}
.glyphicon-menu-up:before {
  content: "\e260";
}
* {
  -webkit-box-sizing: border-box;
  -moz-box-sizing: border-box;
  box-sizing: border-box;
}
*:before,
*:after {
  -webkit-box-sizing: border-box;
  -moz-box-sizing: border-box;
  box-sizing: border-box;
}
html {
  font-size: 10px;
  -webkit-tap-highlight-color: rgba(0, 0, 0, 0);
}
body {
  font-family: "Helvetica Neue", Helvetica, Arial, sans-serif;
  font-size: 13px;
  line-height: 1.42857143;
  color: #000;
  background-color: #fff;
}
input,
button,
select,
textarea {
  font-family: inherit;
  font-size: inherit;
  line-height: inherit;
}
a {
  color: #337ab7;
  text-decoration: none;
}
a:hover,
a:focus {
  color: #23527c;
  text-decoration: underline;
}
a:focus {
  outline: 5px auto -webkit-focus-ring-color;
  outline-offset: -2px;
}
figure {
  margin: 0;
}
img {
  vertical-align: middle;
}
.img-responsive,
.thumbnail > img,
.thumbnail a > img,
.carousel-inner > .item > img,
.carousel-inner > .item > a > img {
  display: block;
  max-width: 100%;
  height: auto;
}
.img-rounded {
  border-radius: 3px;
}
.img-thumbnail {
  padding: 4px;
  line-height: 1.42857143;
  background-color: #fff;
  border: 1px solid #ddd;
  border-radius: 2px;
  -webkit-transition: all 0.2s ease-in-out;
  -o-transition: all 0.2s ease-in-out;
  transition: all 0.2s ease-in-out;
  display: inline-block;
  max-width: 100%;
  height: auto;
}
.img-circle {
  border-radius: 50%;
}
hr {
  margin-top: 18px;
  margin-bottom: 18px;
  border: 0;
  border-top: 1px solid #eeeeee;
}
.sr-only {
  position: absolute;
  width: 1px;
  height: 1px;
  margin: -1px;
  padding: 0;
  overflow: hidden;
  clip: rect(0, 0, 0, 0);
  border: 0;
}
.sr-only-focusable:active,
.sr-only-focusable:focus {
  position: static;
  width: auto;
  height: auto;
  margin: 0;
  overflow: visible;
  clip: auto;
}
[role="button"] {
  cursor: pointer;
}
h1,
h2,
h3,
h4,
h5,
h6,
.h1,
.h2,
.h3,
.h4,
.h5,
.h6 {
  font-family: inherit;
  font-weight: 500;
  line-height: 1.1;
  color: inherit;
}
h1 small,
h2 small,
h3 small,
h4 small,
h5 small,
h6 small,
.h1 small,
.h2 small,
.h3 small,
.h4 small,
.h5 small,
.h6 small,
h1 .small,
h2 .small,
h3 .small,
h4 .small,
h5 .small,
h6 .small,
.h1 .small,
.h2 .small,
.h3 .small,
.h4 .small,
.h5 .small,
.h6 .small {
  font-weight: normal;
  line-height: 1;
  color: #777777;
}
h1,
.h1,
h2,
.h2,
h3,
.h3 {
  margin-top: 18px;
  margin-bottom: 9px;
}
h1 small,
.h1 small,
h2 small,
.h2 small,
h3 small,
.h3 small,
h1 .small,
.h1 .small,
h2 .small,
.h2 .small,
h3 .small,
.h3 .small {
  font-size: 65%;
}
h4,
.h4,
h5,
.h5,
h6,
.h6 {
  margin-top: 9px;
  margin-bottom: 9px;
}
h4 small,
.h4 small,
h5 small,
.h5 small,
h6 small,
.h6 small,
h4 .small,
.h4 .small,
h5 .small,
.h5 .small,
h6 .small,
.h6 .small {
  font-size: 75%;
}
h1,
.h1 {
  font-size: 33px;
}
h2,
.h2 {
  font-size: 27px;
}
h3,
.h3 {
  font-size: 23px;
}
h4,
.h4 {
  font-size: 17px;
}
h5,
.h5 {
  font-size: 13px;
}
h6,
.h6 {
  font-size: 12px;
}
p {
  margin: 0 0 9px;
}
.lead {
  margin-bottom: 18px;
  font-size: 14px;
  font-weight: 300;
  line-height: 1.4;
}
@media (min-width: 768px) {
  .lead {
    font-size: 19.5px;
  }
}
small,
.small {
  font-size: 92%;
}
mark,
.mark {
  background-color: #fcf8e3;
  padding: .2em;
}
.text-left {
  text-align: left;
}
.text-right {
  text-align: right;
}
.text-center {
  text-align: center;
}
.text-justify {
  text-align: justify;
}
.text-nowrap {
  white-space: nowrap;
}
.text-lowercase {
  text-transform: lowercase;
}
.text-uppercase {
  text-transform: uppercase;
}
.text-capitalize {
  text-transform: capitalize;
}
.text-muted {
  color: #777777;
}
.text-primary {
  color: #337ab7;
}
a.text-primary:hover,
a.text-primary:focus {
  color: #286090;
}
.text-success {
  color: #3c763d;
}
a.text-success:hover,
a.text-success:focus {
  color: #2b542c;
}
.text-info {
  color: #31708f;
}
a.text-info:hover,
a.text-info:focus {
  color: #245269;
}
.text-warning {
  color: #8a6d3b;
}
a.text-warning:hover,
a.text-warning:focus {
  color: #66512c;
}
.text-danger {
  color: #a94442;
}
a.text-danger:hover,
a.text-danger:focus {
  color: #843534;
}
.bg-primary {
  color: #fff;
  background-color: #337ab7;
}
a.bg-primary:hover,
a.bg-primary:focus {
  background-color: #286090;
}
.bg-success {
  background-color: #dff0d8;
}
a.bg-success:hover,
a.bg-success:focus {
  background-color: #c1e2b3;
}
.bg-info {
  background-color: #d9edf7;
}
a.bg-info:hover,
a.bg-info:focus {
  background-color: #afd9ee;
}
.bg-warning {
  background-color: #fcf8e3;
}
a.bg-warning:hover,
a.bg-warning:focus {
  background-color: #f7ecb5;
}
.bg-danger {
  background-color: #f2dede;
}
a.bg-danger:hover,
a.bg-danger:focus {
  background-color: #e4b9b9;
}
.page-header {
  padding-bottom: 8px;
  margin: 36px 0 18px;
  border-bottom: 1px solid #eeeeee;
}
ul,
ol {
  margin-top: 0;
  margin-bottom: 9px;
}
ul ul,
ol ul,
ul ol,
ol ol {
  margin-bottom: 0;
}
.list-unstyled {
  padding-left: 0;
  list-style: none;
}
.list-inline {
  padding-left: 0;
  list-style: none;
  margin-left: -5px;
}
.list-inline > li {
  display: inline-block;
  padding-left: 5px;
  padding-right: 5px;
}
dl {
  margin-top: 0;
  margin-bottom: 18px;
}
dt,
dd {
  line-height: 1.42857143;
}
dt {
  font-weight: bold;
}
dd {
  margin-left: 0;
}
@media (min-width: 541px) {
  .dl-horizontal dt {
    float: left;
    width: 160px;
    clear: left;
    text-align: right;
    overflow: hidden;
    text-overflow: ellipsis;
    white-space: nowrap;
  }
  .dl-horizontal dd {
    margin-left: 180px;
  }
}
abbr[title],
abbr[data-original-title] {
  cursor: help;
  border-bottom: 1px dotted #777777;
}
.initialism {
  font-size: 90%;
  text-transform: uppercase;
}
blockquote {
  padding: 9px 18px;
  margin: 0 0 18px;
  font-size: inherit;
  border-left: 5px solid #eeeeee;
}
blockquote p:last-child,
blockquote ul:last-child,
blockquote ol:last-child {
  margin-bottom: 0;
}
blockquote footer,
blockquote small,
blockquote .small {
  display: block;
  font-size: 80%;
  line-height: 1.42857143;
  color: #777777;
}
blockquote footer:before,
blockquote small:before,
blockquote .small:before {
  content: '\2014 \00A0';
}
.blockquote-reverse,
blockquote.pull-right {
  padding-right: 15px;
  padding-left: 0;
  border-right: 5px solid #eeeeee;
  border-left: 0;
  text-align: right;
}
.blockquote-reverse footer:before,
blockquote.pull-right footer:before,
.blockquote-reverse small:before,
blockquote.pull-right small:before,
.blockquote-reverse .small:before,
blockquote.pull-right .small:before {
  content: '';
}
.blockquote-reverse footer:after,
blockquote.pull-right footer:after,
.blockquote-reverse small:after,
blockquote.pull-right small:after,
.blockquote-reverse .small:after,
blockquote.pull-right .small:after {
  content: '\00A0 \2014';
}
address {
  margin-bottom: 18px;
  font-style: normal;
  line-height: 1.42857143;
}
code,
kbd,
pre,
samp {
  font-family: monospace;
}
code {
  padding: 2px 4px;
  font-size: 90%;
  color: #c7254e;
  background-color: #f9f2f4;
  border-radius: 2px;
}
kbd {
  padding: 2px 4px;
  font-size: 90%;
  color: #888;
  background-color: transparent;
  border-radius: 1px;
  box-shadow: inset 0 -1px 0 rgba(0, 0, 0, 0.25);
}
kbd kbd {
  padding: 0;
  font-size: 100%;
  font-weight: bold;
  box-shadow: none;
}
pre {
  display: block;
  padding: 8.5px;
  margin: 0 0 9px;
  font-size: 12px;
  line-height: 1.42857143;
  word-break: break-all;
  word-wrap: break-word;
  color: #333333;
  background-color: #f5f5f5;
  border: 1px solid #ccc;
  border-radius: 2px;
}
pre code {
  padding: 0;
  font-size: inherit;
  color: inherit;
  white-space: pre-wrap;
  background-color: transparent;
  border-radius: 0;
}
.pre-scrollable {
  max-height: 340px;
  overflow-y: scroll;
}
.container {
  margin-right: auto;
  margin-left: auto;
  padding-left: 0px;
  padding-right: 0px;
}
@media (min-width: 768px) {
  .container {
    width: 768px;
  }
}
@media (min-width: 992px) {
  .container {
    width: 940px;
  }
}
@media (min-width: 1200px) {
  .container {
    width: 1140px;
  }
}
.container-fluid {
  margin-right: auto;
  margin-left: auto;
  padding-left: 0px;
  padding-right: 0px;
}
.row {
  margin-left: 0px;
  margin-right: 0px;
}
.col-xs-1, .col-sm-1, .col-md-1, .col-lg-1, .col-xs-2, .col-sm-2, .col-md-2, .col-lg-2, .col-xs-3, .col-sm-3, .col-md-3, .col-lg-3, .col-xs-4, .col-sm-4, .col-md-4, .col-lg-4, .col-xs-5, .col-sm-5, .col-md-5, .col-lg-5, .col-xs-6, .col-sm-6, .col-md-6, .col-lg-6, .col-xs-7, .col-sm-7, .col-md-7, .col-lg-7, .col-xs-8, .col-sm-8, .col-md-8, .col-lg-8, .col-xs-9, .col-sm-9, .col-md-9, .col-lg-9, .col-xs-10, .col-sm-10, .col-md-10, .col-lg-10, .col-xs-11, .col-sm-11, .col-md-11, .col-lg-11, .col-xs-12, .col-sm-12, .col-md-12, .col-lg-12 {
  position: relative;
  min-height: 1px;
  padding-left: 0px;
  padding-right: 0px;
}
.col-xs-1, .col-xs-2, .col-xs-3, .col-xs-4, .col-xs-5, .col-xs-6, .col-xs-7, .col-xs-8, .col-xs-9, .col-xs-10, .col-xs-11, .col-xs-12 {
  float: left;
}
.col-xs-12 {
  width: 100%;
}
.col-xs-11 {
  width: 91.66666667%;
}
.col-xs-10 {
  width: 83.33333333%;
}
.col-xs-9 {
  width: 75%;
}
.col-xs-8 {
  width: 66.66666667%;
}
.col-xs-7 {
  width: 58.33333333%;
}
.col-xs-6 {
  width: 50%;
}
.col-xs-5 {
  width: 41.66666667%;
}
.col-xs-4 {
  width: 33.33333333%;
}
.col-xs-3 {
  width: 25%;
}
.col-xs-2 {
  width: 16.66666667%;
}
.col-xs-1 {
  width: 8.33333333%;
}
.col-xs-pull-12 {
  right: 100%;
}
.col-xs-pull-11 {
  right: 91.66666667%;
}
.col-xs-pull-10 {
  right: 83.33333333%;
}
.col-xs-pull-9 {
  right: 75%;
}
.col-xs-pull-8 {
  right: 66.66666667%;
}
.col-xs-pull-7 {
  right: 58.33333333%;
}
.col-xs-pull-6 {
  right: 50%;
}
.col-xs-pull-5 {
  right: 41.66666667%;
}
.col-xs-pull-4 {
  right: 33.33333333%;
}
.col-xs-pull-3 {
  right: 25%;
}
.col-xs-pull-2 {
  right: 16.66666667%;
}
.col-xs-pull-1 {
  right: 8.33333333%;
}
.col-xs-pull-0 {
  right: auto;
}
.col-xs-push-12 {
  left: 100%;
}
.col-xs-push-11 {
  left: 91.66666667%;
}
.col-xs-push-10 {
  left: 83.33333333%;
}
.col-xs-push-9 {
  left: 75%;
}
.col-xs-push-8 {
  left: 66.66666667%;
}
.col-xs-push-7 {
  left: 58.33333333%;
}
.col-xs-push-6 {
  left: 50%;
}
.col-xs-push-5 {
  left: 41.66666667%;
}
.col-xs-push-4 {
  left: 33.33333333%;
}
.col-xs-push-3 {
  left: 25%;
}
.col-xs-push-2 {
  left: 16.66666667%;
}
.col-xs-push-1 {
  left: 8.33333333%;
}
.col-xs-push-0 {
  left: auto;
}
.col-xs-offset-12 {
  margin-left: 100%;
}
.col-xs-offset-11 {
  margin-left: 91.66666667%;
}
.col-xs-offset-10 {
  margin-left: 83.33333333%;
}
.col-xs-offset-9 {
  margin-left: 75%;
}
.col-xs-offset-8 {
  margin-left: 66.66666667%;
}
.col-xs-offset-7 {
  margin-left: 58.33333333%;
}
.col-xs-offset-6 {
  margin-left: 50%;
}
.col-xs-offset-5 {
  margin-left: 41.66666667%;
}
.col-xs-offset-4 {
  margin-left: 33.33333333%;
}
.col-xs-offset-3 {
  margin-left: 25%;
}
.col-xs-offset-2 {
  margin-left: 16.66666667%;
}
.col-xs-offset-1 {
  margin-left: 8.33333333%;
}
.col-xs-offset-0 {
  margin-left: 0%;
}
@media (min-width: 768px) {
  .col-sm-1, .col-sm-2, .col-sm-3, .col-sm-4, .col-sm-5, .col-sm-6, .col-sm-7, .col-sm-8, .col-sm-9, .col-sm-10, .col-sm-11, .col-sm-12 {
    float: left;
  }
  .col-sm-12 {
    width: 100%;
  }
  .col-sm-11 {
    width: 91.66666667%;
  }
  .col-sm-10 {
    width: 83.33333333%;
  }
  .col-sm-9 {
    width: 75%;
  }
  .col-sm-8 {
    width: 66.66666667%;
  }
  .col-sm-7 {
    width: 58.33333333%;
  }
  .col-sm-6 {
    width: 50%;
  }
  .col-sm-5 {
    width: 41.66666667%;
  }
  .col-sm-4 {
    width: 33.33333333%;
  }
  .col-sm-3 {
    width: 25%;
  }
  .col-sm-2 {
    width: 16.66666667%;
  }
  .col-sm-1 {
    width: 8.33333333%;
  }
  .col-sm-pull-12 {
    right: 100%;
  }
  .col-sm-pull-11 {
    right: 91.66666667%;
  }
  .col-sm-pull-10 {
    right: 83.33333333%;
  }
  .col-sm-pull-9 {
    right: 75%;
  }
  .col-sm-pull-8 {
    right: 66.66666667%;
  }
  .col-sm-pull-7 {
    right: 58.33333333%;
  }
  .col-sm-pull-6 {
    right: 50%;
  }
  .col-sm-pull-5 {
    right: 41.66666667%;
  }
  .col-sm-pull-4 {
    right: 33.33333333%;
  }
  .col-sm-pull-3 {
    right: 25%;
  }
  .col-sm-pull-2 {
    right: 16.66666667%;
  }
  .col-sm-pull-1 {
    right: 8.33333333%;
  }
  .col-sm-pull-0 {
    right: auto;
  }
  .col-sm-push-12 {
    left: 100%;
  }
  .col-sm-push-11 {
    left: 91.66666667%;
  }
  .col-sm-push-10 {
    left: 83.33333333%;
  }
  .col-sm-push-9 {
    left: 75%;
  }
  .col-sm-push-8 {
    left: 66.66666667%;
  }
  .col-sm-push-7 {
    left: 58.33333333%;
  }
  .col-sm-push-6 {
    left: 50%;
  }
  .col-sm-push-5 {
    left: 41.66666667%;
  }
  .col-sm-push-4 {
    left: 33.33333333%;
  }
  .col-sm-push-3 {
    left: 25%;
  }
  .col-sm-push-2 {
    left: 16.66666667%;
  }
  .col-sm-push-1 {
    left: 8.33333333%;
  }
  .col-sm-push-0 {
    left: auto;
  }
  .col-sm-offset-12 {
    margin-left: 100%;
  }
  .col-sm-offset-11 {
    margin-left: 91.66666667%;
  }
  .col-sm-offset-10 {
    margin-left: 83.33333333%;
  }
  .col-sm-offset-9 {
    margin-left: 75%;
  }
  .col-sm-offset-8 {
    margin-left: 66.66666667%;
  }
  .col-sm-offset-7 {
    margin-left: 58.33333333%;
  }
  .col-sm-offset-6 {
    margin-left: 50%;
  }
  .col-sm-offset-5 {
    margin-left: 41.66666667%;
  }
  .col-sm-offset-4 {
    margin-left: 33.33333333%;
  }
  .col-sm-offset-3 {
    margin-left: 25%;
  }
  .col-sm-offset-2 {
    margin-left: 16.66666667%;
  }
  .col-sm-offset-1 {
    margin-left: 8.33333333%;
  }
  .col-sm-offset-0 {
    margin-left: 0%;
  }
}
@media (min-width: 992px) {
  .col-md-1, .col-md-2, .col-md-3, .col-md-4, .col-md-5, .col-md-6, .col-md-7, .col-md-8, .col-md-9, .col-md-10, .col-md-11, .col-md-12 {
    float: left;
  }
  .col-md-12 {
    width: 100%;
  }
  .col-md-11 {
    width: 91.66666667%;
  }
  .col-md-10 {
    width: 83.33333333%;
  }
  .col-md-9 {
    width: 75%;
  }
  .col-md-8 {
    width: 66.66666667%;
  }
  .col-md-7 {
    width: 58.33333333%;
  }
  .col-md-6 {
    width: 50%;
  }
  .col-md-5 {
    width: 41.66666667%;
  }
  .col-md-4 {
    width: 33.33333333%;
  }
  .col-md-3 {
    width: 25%;
  }
  .col-md-2 {
    width: 16.66666667%;
  }
  .col-md-1 {
    width: 8.33333333%;
  }
  .col-md-pull-12 {
    right: 100%;
  }
  .col-md-pull-11 {
    right: 91.66666667%;
  }
  .col-md-pull-10 {
    right: 83.33333333%;
  }
  .col-md-pull-9 {
    right: 75%;
  }
  .col-md-pull-8 {
    right: 66.66666667%;
  }
  .col-md-pull-7 {
    right: 58.33333333%;
  }
  .col-md-pull-6 {
    right: 50%;
  }
  .col-md-pull-5 {
    right: 41.66666667%;
  }
  .col-md-pull-4 {
    right: 33.33333333%;
  }
  .col-md-pull-3 {
    right: 25%;
  }
  .col-md-pull-2 {
    right: 16.66666667%;
  }
  .col-md-pull-1 {
    right: 8.33333333%;
  }
  .col-md-pull-0 {
    right: auto;
  }
  .col-md-push-12 {
    left: 100%;
  }
  .col-md-push-11 {
    left: 91.66666667%;
  }
  .col-md-push-10 {
    left: 83.33333333%;
  }
  .col-md-push-9 {
    left: 75%;
  }
  .col-md-push-8 {
    left: 66.66666667%;
  }
  .col-md-push-7 {
    left: 58.33333333%;
  }
  .col-md-push-6 {
    left: 50%;
  }
  .col-md-push-5 {
    left: 41.66666667%;
  }
  .col-md-push-4 {
    left: 33.33333333%;
  }
  .col-md-push-3 {
    left: 25%;
  }
  .col-md-push-2 {
    left: 16.66666667%;
  }
  .col-md-push-1 {
    left: 8.33333333%;
  }
  .col-md-push-0 {
    left: auto;
  }
  .col-md-offset-12 {
    margin-left: 100%;
  }
  .col-md-offset-11 {
    margin-left: 91.66666667%;
  }
  .col-md-offset-10 {
    margin-left: 83.33333333%;
  }
  .col-md-offset-9 {
    margin-left: 75%;
  }
  .col-md-offset-8 {
    margin-left: 66.66666667%;
  }
  .col-md-offset-7 {
    margin-left: 58.33333333%;
  }
  .col-md-offset-6 {
    margin-left: 50%;
  }
  .col-md-offset-5 {
    margin-left: 41.66666667%;
  }
  .col-md-offset-4 {
    margin-left: 33.33333333%;
  }
  .col-md-offset-3 {
    margin-left: 25%;
  }
  .col-md-offset-2 {
    margin-left: 16.66666667%;
  }
  .col-md-offset-1 {
    margin-left: 8.33333333%;
  }
  .col-md-offset-0 {
    margin-left: 0%;
  }
}
@media (min-width: 1200px) {
  .col-lg-1, .col-lg-2, .col-lg-3, .col-lg-4, .col-lg-5, .col-lg-6, .col-lg-7, .col-lg-8, .col-lg-9, .col-lg-10, .col-lg-11, .col-lg-12 {
    float: left;
  }
  .col-lg-12 {
    width: 100%;
  }
  .col-lg-11 {
    width: 91.66666667%;
  }
  .col-lg-10 {
    width: 83.33333333%;
  }
  .col-lg-9 {
    width: 75%;
  }
  .col-lg-8 {
    width: 66.66666667%;
  }
  .col-lg-7 {
    width: 58.33333333%;
  }
  .col-lg-6 {
    width: 50%;
  }
  .col-lg-5 {
    width: 41.66666667%;
  }
  .col-lg-4 {
    width: 33.33333333%;
  }
  .col-lg-3 {
    width: 25%;
  }
  .col-lg-2 {
    width: 16.66666667%;
  }
  .col-lg-1 {
    width: 8.33333333%;
  }
  .col-lg-pull-12 {
    right: 100%;
  }
  .col-lg-pull-11 {
    right: 91.66666667%;
  }
  .col-lg-pull-10 {
    right: 83.33333333%;
  }
  .col-lg-pull-9 {
    right: 75%;
  }
  .col-lg-pull-8 {
    right: 66.66666667%;
  }
  .col-lg-pull-7 {
    right: 58.33333333%;
  }
  .col-lg-pull-6 {
    right: 50%;
  }
  .col-lg-pull-5 {
    right: 41.66666667%;
  }
  .col-lg-pull-4 {
    right: 33.33333333%;
  }
  .col-lg-pull-3 {
    right: 25%;
  }
  .col-lg-pull-2 {
    right: 16.66666667%;
  }
  .col-lg-pull-1 {
    right: 8.33333333%;
  }
  .col-lg-pull-0 {
    right: auto;
  }
  .col-lg-push-12 {
    left: 100%;
  }
  .col-lg-push-11 {
    left: 91.66666667%;
  }
  .col-lg-push-10 {
    left: 83.33333333%;
  }
  .col-lg-push-9 {
    left: 75%;
  }
  .col-lg-push-8 {
    left: 66.66666667%;
  }
  .col-lg-push-7 {
    left: 58.33333333%;
  }
  .col-lg-push-6 {
    left: 50%;
  }
  .col-lg-push-5 {
    left: 41.66666667%;
  }
  .col-lg-push-4 {
    left: 33.33333333%;
  }
  .col-lg-push-3 {
    left: 25%;
  }
  .col-lg-push-2 {
    left: 16.66666667%;
  }
  .col-lg-push-1 {
    left: 8.33333333%;
  }
  .col-lg-push-0 {
    left: auto;
  }
  .col-lg-offset-12 {
    margin-left: 100%;
  }
  .col-lg-offset-11 {
    margin-left: 91.66666667%;
  }
  .col-lg-offset-10 {
    margin-left: 83.33333333%;
  }
  .col-lg-offset-9 {
    margin-left: 75%;
  }
  .col-lg-offset-8 {
    margin-left: 66.66666667%;
  }
  .col-lg-offset-7 {
    margin-left: 58.33333333%;
  }
  .col-lg-offset-6 {
    margin-left: 50%;
  }
  .col-lg-offset-5 {
    margin-left: 41.66666667%;
  }
  .col-lg-offset-4 {
    margin-left: 33.33333333%;
  }
  .col-lg-offset-3 {
    margin-left: 25%;
  }
  .col-lg-offset-2 {
    margin-left: 16.66666667%;
  }
  .col-lg-offset-1 {
    margin-left: 8.33333333%;
  }
  .col-lg-offset-0 {
    margin-left: 0%;
  }
}
table {
  background-color: transparent;
}
caption {
  padding-top: 8px;
  padding-bottom: 8px;
  color: #777777;
  text-align: left;
}
th {
  text-align: left;
}
.table {
  width: 100%;
  max-width: 100%;
  margin-bottom: 18px;
}
.table > thead > tr > th,
.table > tbody > tr > th,
.table > tfoot > tr > th,
.table > thead > tr > td,
.table > tbody > tr > td,
.table > tfoot > tr > td {
  padding: 8px;
  line-height: 1.42857143;
  vertical-align: top;
  border-top: 1px solid #ddd;
}
.table > thead > tr > th {
  vertical-align: bottom;
  border-bottom: 2px solid #ddd;
}
.table > caption + thead > tr:first-child > th,
.table > colgroup + thead > tr:first-child > th,
.table > thead:first-child > tr:first-child > th,
.table > caption + thead > tr:first-child > td,
.table > colgroup + thead > tr:first-child > td,
.table > thead:first-child > tr:first-child > td {
  border-top: 0;
}
.table > tbody + tbody {
  border-top: 2px solid #ddd;
}
.table .table {
  background-color: #fff;
}
.table-condensed > thead > tr > th,
.table-condensed > tbody > tr > th,
.table-condensed > tfoot > tr > th,
.table-condensed > thead > tr > td,
.table-condensed > tbody > tr > td,
.table-condensed > tfoot > tr > td {
  padding: 5px;
}
.table-bordered {
  border: 1px solid #ddd;
}
.table-bordered > thead > tr > th,
.table-bordered > tbody > tr > th,
.table-bordered > tfoot > tr > th,
.table-bordered > thead > tr > td,
.table-bordered > tbody > tr > td,
.table-bordered > tfoot > tr > td {
  border: 1px solid #ddd;
}
.table-bordered > thead > tr > th,
.table-bordered > thead > tr > td {
  border-bottom-width: 2px;
}
.table-striped > tbody > tr:nth-of-type(odd) {
  background-color: #f9f9f9;
}
.table-hover > tbody > tr:hover {
  background-color: #f5f5f5;
}
table col[class*="col-"] {
  position: static;
  float: none;
  display: table-column;
}
table td[class*="col-"],
table th[class*="col-"] {
  position: static;
  float: none;
  display: table-cell;
}
.table > thead > tr > td.active,
.table > tbody > tr > td.active,
.table > tfoot > tr > td.active,
.table > thead > tr > th.active,
.table > tbody > tr > th.active,
.table > tfoot > tr > th.active,
.table > thead > tr.active > td,
.table > tbody > tr.active > td,
.table > tfoot > tr.active > td,
.table > thead > tr.active > th,
.table > tbody > tr.active > th,
.table > tfoot > tr.active > th {
  background-color: #f5f5f5;
}
.table-hover > tbody > tr > td.active:hover,
.table-hover > tbody > tr > th.active:hover,
.table-hover > tbody > tr.active:hover > td,
.table-hover > tbody > tr:hover > .active,
.table-hover > tbody > tr.active:hover > th {
  background-color: #e8e8e8;
}
.table > thead > tr > td.success,
.table > tbody > tr > td.success,
.table > tfoot > tr > td.success,
.table > thead > tr > th.success,
.table > tbody > tr > th.success,
.table > tfoot > tr > th.success,
.table > thead > tr.success > td,
.table > tbody > tr.success > td,
.table > tfoot > tr.success > td,
.table > thead > tr.success > th,
.table > tbody > tr.success > th,
.table > tfoot > tr.success > th {
  background-color: #dff0d8;
}
.table-hover > tbody > tr > td.success:hover,
.table-hover > tbody > tr > th.success:hover,
.table-hover > tbody > tr.success:hover > td,
.table-hover > tbody > tr:hover > .success,
.table-hover > tbody > tr.success:hover > th {
  background-color: #d0e9c6;
}
.table > thead > tr > td.info,
.table > tbody > tr > td.info,
.table > tfoot > tr > td.info,
.table > thead > tr > th.info,
.table > tbody > tr > th.info,
.table > tfoot > tr > th.info,
.table > thead > tr.info > td,
.table > tbody > tr.info > td,
.table > tfoot > tr.info > td,
.table > thead > tr.info > th,
.table > tbody > tr.info > th,
.table > tfoot > tr.info > th {
  background-color: #d9edf7;
}
.table-hover > tbody > tr > td.info:hover,
.table-hover > tbody > tr > th.info:hover,
.table-hover > tbody > tr.info:hover > td,
.table-hover > tbody > tr:hover > .info,
.table-hover > tbody > tr.info:hover > th {
  background-color: #c4e3f3;
}
.table > thead > tr > td.warning,
.table > tbody > tr > td.warning,
.table > tfoot > tr > td.warning,
.table > thead > tr > th.warning,
.table > tbody > tr > th.warning,
.table > tfoot > tr > th.warning,
.table > thead > tr.warning > td,
.table > tbody > tr.warning > td,
.table > tfoot > tr.warning > td,
.table > thead > tr.warning > th,
.table > tbody > tr.warning > th,
.table > tfoot > tr.warning > th {
  background-color: #fcf8e3;
}
.table-hover > tbody > tr > td.warning:hover,
.table-hover > tbody > tr > th.warning:hover,
.table-hover > tbody > tr.warning:hover > td,
.table-hover > tbody > tr:hover > .warning,
.table-hover > tbody > tr.warning:hover > th {
  background-color: #faf2cc;
}
.table > thead > tr > td.danger,
.table > tbody > tr > td.danger,
.table > tfoot > tr > td.danger,
.table > thead > tr > th.danger,
.table > tbody > tr > th.danger,
.table > tfoot > tr > th.danger,
.table > thead > tr.danger > td,
.table > tbody > tr.danger > td,
.table > tfoot > tr.danger > td,
.table > thead > tr.danger > th,
.table > tbody > tr.danger > th,
.table > tfoot > tr.danger > th {
  background-color: #f2dede;
}
.table-hover > tbody > tr > td.danger:hover,
.table-hover > tbody > tr > th.danger:hover,
.table-hover > tbody > tr.danger:hover > td,
.table-hover > tbody > tr:hover > .danger,
.table-hover > tbody > tr.danger:hover > th {
  background-color: #ebcccc;
}
.table-responsive {
  overflow-x: auto;
  min-height: 0.01%;
}
@media screen and (max-width: 767px) {
  .table-responsive {
    width: 100%;
    margin-bottom: 13.5px;
    overflow-y: hidden;
    -ms-overflow-style: -ms-autohiding-scrollbar;
    border: 1px solid #ddd;
  }
  .table-responsive > .table {
    margin-bottom: 0;
  }
  .table-responsive > .table > thead > tr > th,
  .table-responsive > .table > tbody > tr > th,
  .table-responsive > .table > tfoot > tr > th,
  .table-responsive > .table > thead > tr > td,
  .table-responsive > .table > tbody > tr > td,
  .table-responsive > .table > tfoot > tr > td {
    white-space: nowrap;
  }
  .table-responsive > .table-bordered {
    border: 0;
  }
  .table-responsive > .table-bordered > thead > tr > th:first-child,
  .table-responsive > .table-bordered > tbody > tr > th:first-child,
  .table-responsive > .table-bordered > tfoot > tr > th:first-child,
  .table-responsive > .table-bordered > thead > tr > td:first-child,
  .table-responsive > .table-bordered > tbody > tr > td:first-child,
  .table-responsive > .table-bordered > tfoot > tr > td:first-child {
    border-left: 0;
  }
  .table-responsive > .table-bordered > thead > tr > th:last-child,
  .table-responsive > .table-bordered > tbody > tr > th:last-child,
  .table-responsive > .table-bordered > tfoot > tr > th:last-child,
  .table-responsive > .table-bordered > thead > tr > td:last-child,
  .table-responsive > .table-bordered > tbody > tr > td:last-child,
  .table-responsive > .table-bordered > tfoot > tr > td:last-child {
    border-right: 0;
  }
  .table-responsive > .table-bordered > tbody > tr:last-child > th,
  .table-responsive > .table-bordered > tfoot > tr:last-child > th,
  .table-responsive > .table-bordered > tbody > tr:last-child > td,
  .table-responsive > .table-bordered > tfoot > tr:last-child > td {
    border-bottom: 0;
  }
}
fieldset {
  padding: 0;
  margin: 0;
  border: 0;
  min-width: 0;
}
legend {
  display: block;
  width: 100%;
  padding: 0;
  margin-bottom: 18px;
  font-size: 19.5px;
  line-height: inherit;
  color: #333333;
  border: 0;
  border-bottom: 1px solid #e5e5e5;
}
label {
  display: inline-block;
  max-width: 100%;
  margin-bottom: 5px;
  font-weight: bold;
}
input[type="search"] {
  -webkit-box-sizing: border-box;
  -moz-box-sizing: border-box;
  box-sizing: border-box;
}
input[type="radio"],
input[type="checkbox"] {
  margin: 4px 0 0;
  margin-top: 1px \9;
  line-height: normal;
}
input[type="file"] {
  display: block;
}
input[type="range"] {
  display: block;
  width: 100%;
}
select[multiple],
select[size] {
  height: auto;
}
input[type="file"]:focus,
input[type="radio"]:focus,
input[type="checkbox"]:focus {
  outline: 5px auto -webkit-focus-ring-color;
  outline-offset: -2px;
}
output {
  display: block;
  padding-top: 7px;
  font-size: 13px;
  line-height: 1.42857143;
  color: #555555;
}
.form-control {
  display: block;
  width: 100%;
  height: 32px;
  padding: 6px 12px;
  font-size: 13px;
  line-height: 1.42857143;
  color: #555555;
  background-color: #fff;
  background-image: none;
  border: 1px solid #ccc;
  border-radius: 2px;
  -webkit-box-shadow: inset 0 1px 1px rgba(0, 0, 0, 0.075);
  box-shadow: inset 0 1px 1px rgba(0, 0, 0, 0.075);
  -webkit-transition: border-color ease-in-out .15s, box-shadow ease-in-out .15s;
  -o-transition: border-color ease-in-out .15s, box-shadow ease-in-out .15s;
  transition: border-color ease-in-out .15s, box-shadow ease-in-out .15s;
}
.form-control:focus {
  border-color: #66afe9;
  outline: 0;
  -webkit-box-shadow: inset 0 1px 1px rgba(0,0,0,.075), 0 0 8px rgba(102, 175, 233, 0.6);
  box-shadow: inset 0 1px 1px rgba(0,0,0,.075), 0 0 8px rgba(102, 175, 233, 0.6);
}
.form-control::-moz-placeholder {
  color: #999;
  opacity: 1;
}
.form-control:-ms-input-placeholder {
  color: #999;
}
.form-control::-webkit-input-placeholder {
  color: #999;
}
.form-control::-ms-expand {
  border: 0;
  background-color: transparent;
}
.form-control[disabled],
.form-control[readonly],
fieldset[disabled] .form-control {
  background-color: #eeeeee;
  opacity: 1;
}
.form-control[disabled],
fieldset[disabled] .form-control {
  cursor: not-allowed;
}
textarea.form-control {
  height: auto;
}
input[type="search"] {
  -webkit-appearance: none;
}
@media screen and (-webkit-min-device-pixel-ratio: 0) {
  input[type="date"].form-control,
  input[type="time"].form-control,
  input[type="datetime-local"].form-control,
  input[type="month"].form-control {
    line-height: 32px;
  }
  input[type="date"].input-sm,
  input[type="time"].input-sm,
  input[type="datetime-local"].input-sm,
  input[type="month"].input-sm,
  .input-group-sm input[type="date"],
  .input-group-sm input[type="time"],
  .input-group-sm input[type="datetime-local"],
  .input-group-sm input[type="month"] {
    line-height: 30px;
  }
  input[type="date"].input-lg,
  input[type="time"].input-lg,
  input[type="datetime-local"].input-lg,
  input[type="month"].input-lg,
  .input-group-lg input[type="date"],
  .input-group-lg input[type="time"],
  .input-group-lg input[type="datetime-local"],
  .input-group-lg input[type="month"] {
    line-height: 45px;
  }
}
.form-group {
  margin-bottom: 15px;
}
.radio,
.checkbox {
  position: relative;
  display: block;
  margin-top: 10px;
  margin-bottom: 10px;
}
.radio label,
.checkbox label {
  min-height: 18px;
  padding-left: 20px;
  margin-bottom: 0;
  font-weight: normal;
  cursor: pointer;
}
.radio input[type="radio"],
.radio-inline input[type="radio"],
.checkbox input[type="checkbox"],
.checkbox-inline input[type="checkbox"] {
  position: absolute;
  margin-left: -20px;
  margin-top: 4px \9;
}
.radio + .radio,
.checkbox + .checkbox {
  margin-top: -5px;
}
.radio-inline,
.checkbox-inline {
  position: relative;
  display: inline-block;
  padding-left: 20px;
  margin-bottom: 0;
  vertical-align: middle;
  font-weight: normal;
  cursor: pointer;
}
.radio-inline + .radio-inline,
.checkbox-inline + .checkbox-inline {
  margin-top: 0;
  margin-left: 10px;
}
input[type="radio"][disabled],
input[type="checkbox"][disabled],
input[type="radio"].disabled,
input[type="checkbox"].disabled,
fieldset[disabled] input[type="radio"],
fieldset[disabled] input[type="checkbox"] {
  cursor: not-allowed;
}
.radio-inline.disabled,
.checkbox-inline.disabled,
fieldset[disabled] .radio-inline,
fieldset[disabled] .checkbox-inline {
  cursor: not-allowed;
}
.radio.disabled label,
.checkbox.disabled label,
fieldset[disabled] .radio label,
fieldset[disabled] .checkbox label {
  cursor: not-allowed;
}
.form-control-static {
  padding-top: 7px;
  padding-bottom: 7px;
  margin-bottom: 0;
  min-height: 31px;
}
.form-control-static.input-lg,
.form-control-static.input-sm {
  padding-left: 0;
  padding-right: 0;
}
.input-sm {
  height: 30px;
  padding: 5px 10px;
  font-size: 12px;
  line-height: 1.5;
  border-radius: 1px;
}
select.input-sm {
  height: 30px;
  line-height: 30px;
}
textarea.input-sm,
select[multiple].input-sm {
  height: auto;
}
.form-group-sm .form-control {
  height: 30px;
  padding: 5px 10px;
  font-size: 12px;
  line-height: 1.5;
  border-radius: 1px;
}
.form-group-sm select.form-control {
  height: 30px;
  line-height: 30px;
}
.form-group-sm textarea.form-control,
.form-group-sm select[multiple].form-control {
  height: auto;
}
.form-group-sm .form-control-static {
  height: 30px;
  min-height: 30px;
  padding: 6px 10px;
  font-size: 12px;
  line-height: 1.5;
}
.input-lg {
  height: 45px;
  padding: 10px 16px;
  font-size: 17px;
  line-height: 1.3333333;
  border-radius: 3px;
}
select.input-lg {
  height: 45px;
  line-height: 45px;
}
textarea.input-lg,
select[multiple].input-lg {
  height: auto;
}
.form-group-lg .form-control {
  height: 45px;
  padding: 10px 16px;
  font-size: 17px;
  line-height: 1.3333333;
  border-radius: 3px;
}
.form-group-lg select.form-control {
  height: 45px;
  line-height: 45px;
}
.form-group-lg textarea.form-control,
.form-group-lg select[multiple].form-control {
  height: auto;
}
.form-group-lg .form-control-static {
  height: 45px;
  min-height: 35px;
  padding: 11px 16px;
  font-size: 17px;
  line-height: 1.3333333;
}
.has-feedback {
  position: relative;
}
.has-feedback .form-control {
  padding-right: 40px;
}
.form-control-feedback {
  position: absolute;
  top: 0;
  right: 0;
  z-index: 2;
  display: block;
  width: 32px;
  height: 32px;
  line-height: 32px;
  text-align: center;
  pointer-events: none;
}
.input-lg + .form-control-feedback,
.input-group-lg + .form-control-feedback,
.form-group-lg .form-control + .form-control-feedback {
  width: 45px;
  height: 45px;
  line-height: 45px;
}
.input-sm + .form-control-feedback,
.input-group-sm + .form-control-feedback,
.form-group-sm .form-control + .form-control-feedback {
  width: 30px;
  height: 30px;
  line-height: 30px;
}
.has-success .help-block,
.has-success .control-label,
.has-success .radio,
.has-success .checkbox,
.has-success .radio-inline,
.has-success .checkbox-inline,
.has-success.radio label,
.has-success.checkbox label,
.has-success.radio-inline label,
.has-success.checkbox-inline label {
  color: #3c763d;
}
.has-success .form-control {
  border-color: #3c763d;
  -webkit-box-shadow: inset 0 1px 1px rgba(0, 0, 0, 0.075);
  box-shadow: inset 0 1px 1px rgba(0, 0, 0, 0.075);
}
.has-success .form-control:focus {
  border-color: #2b542c;
  -webkit-box-shadow: inset 0 1px 1px rgba(0, 0, 0, 0.075), 0 0 6px #67b168;
  box-shadow: inset 0 1px 1px rgba(0, 0, 0, 0.075), 0 0 6px #67b168;
}
.has-success .input-group-addon {
  color: #3c763d;
  border-color: #3c763d;
  background-color: #dff0d8;
}
.has-success .form-control-feedback {
  color: #3c763d;
}
.has-warning .help-block,
.has-warning .control-label,
.has-warning .radio,
.has-warning .checkbox,
.has-warning .radio-inline,
.has-warning .checkbox-inline,
.has-warning.radio label,
.has-warning.checkbox label,
.has-warning.radio-inline label,
.has-warning.checkbox-inline label {
  color: #8a6d3b;
}
.has-warning .form-control {
  border-color: #8a6d3b;
  -webkit-box-shadow: inset 0 1px 1px rgba(0, 0, 0, 0.075);
  box-shadow: inset 0 1px 1px rgba(0, 0, 0, 0.075);
}
.has-warning .form-control:focus {
  border-color: #66512c;
  -webkit-box-shadow: inset 0 1px 1px rgba(0, 0, 0, 0.075), 0 0 6px #c0a16b;
  box-shadow: inset 0 1px 1px rgba(0, 0, 0, 0.075), 0 0 6px #c0a16b;
}
.has-warning .input-group-addon {
  color: #8a6d3b;
  border-color: #8a6d3b;
  background-color: #fcf8e3;
}
.has-warning .form-control-feedback {
  color: #8a6d3b;
}
.has-error .help-block,
.has-error .control-label,
.has-error .radio,
.has-error .checkbox,
.has-error .radio-inline,
.has-error .checkbox-inline,
.has-error.radio label,
.has-error.checkbox label,
.has-error.radio-inline label,
.has-error.checkbox-inline label {
  color: #a94442;
}
.has-error .form-control {
  border-color: #a94442;
  -webkit-box-shadow: inset 0 1px 1px rgba(0, 0, 0, 0.075);
  box-shadow: inset 0 1px 1px rgba(0, 0, 0, 0.075);
}
.has-error .form-control:focus {
  border-color: #843534;
  -webkit-box-shadow: inset 0 1px 1px rgba(0, 0, 0, 0.075), 0 0 6px #ce8483;
  box-shadow: inset 0 1px 1px rgba(0, 0, 0, 0.075), 0 0 6px #ce8483;
}
.has-error .input-group-addon {
  color: #a94442;
  border-color: #a94442;
  background-color: #f2dede;
}
.has-error .form-control-feedback {
  color: #a94442;
}
.has-feedback label ~ .form-control-feedback {
  top: 23px;
}
.has-feedback label.sr-only ~ .form-control-feedback {
  top: 0;
}
.help-block {
  display: block;
  margin-top: 5px;
  margin-bottom: 10px;
  color: #404040;
}
@media (min-width: 768px) {
  .form-inline .form-group {
    display: inline-block;
    margin-bottom: 0;
    vertical-align: middle;
  }
  .form-inline .form-control {
    display: inline-block;
    width: auto;
    vertical-align: middle;
  }
  .form-inline .form-control-static {
    display: inline-block;
  }
  .form-inline .input-group {
    display: inline-table;
    vertical-align: middle;
  }
  .form-inline .input-group .input-group-addon,
  .form-inline .input-group .input-group-btn,
  .form-inline .input-group .form-control {
    width: auto;
  }
  .form-inline .input-group > .form-control {
    width: 100%;
  }
  .form-inline .control-label {
    margin-bottom: 0;
    vertical-align: middle;
  }
  .form-inline .radio,
  .form-inline .checkbox {
    display: inline-block;
    margin-top: 0;
    margin-bottom: 0;
    vertical-align: middle;
  }
  .form-inline .radio label,
  .form-inline .checkbox label {
    padding-left: 0;
  }
  .form-inline .radio input[type="radio"],
  .form-inline .checkbox input[type="checkbox"] {
    position: relative;
    margin-left: 0;
  }
  .form-inline .has-feedback .form-control-feedback {
    top: 0;
  }
}
.form-horizontal .radio,
.form-horizontal .checkbox,
.form-horizontal .radio-inline,
.form-horizontal .checkbox-inline {
  margin-top: 0;
  margin-bottom: 0;
  padding-top: 7px;
}
.form-horizontal .radio,
.form-horizontal .checkbox {
  min-height: 25px;
}
.form-horizontal .form-group {
  margin-left: 0px;
  margin-right: 0px;
}
@media (min-width: 768px) {
  .form-horizontal .control-label {
    text-align: right;
    margin-bottom: 0;
    padding-top: 7px;
  }
}
.form-horizontal .has-feedback .form-control-feedback {
  right: 0px;
}
@media (min-width: 768px) {
  .form-horizontal .form-group-lg .control-label {
    padding-top: 11px;
    font-size: 17px;
  }
}
@media (min-width: 768px) {
  .form-horizontal .form-group-sm .control-label {
    padding-top: 6px;
    font-size: 12px;
  }
}
.btn {
  display: inline-block;
  margin-bottom: 0;
  font-weight: normal;
  text-align: center;
  vertical-align: middle;
  touch-action: manipulation;
  cursor: pointer;
  background-image: none;
  border: 1px solid transparent;
  white-space: nowrap;
  padding: 6px 12px;
  font-size: 13px;
  line-height: 1.42857143;
  border-radius: 2px;
  -webkit-user-select: none;
  -moz-user-select: none;
  -ms-user-select: none;
  user-select: none;
}
.btn:focus,
.btn:active:focus,
.btn.active:focus,
.btn.focus,
.btn:active.focus,
.btn.active.focus {
  outline: 5px auto -webkit-focus-ring-color;
  outline-offset: -2px;
}
.btn:hover,
.btn:focus,
.btn.focus {
  color: #333;
  text-decoration: none;
}
.btn:active,
.btn.active {
  outline: 0;
  background-image: none;
  -webkit-box-shadow: inset 0 3px 5px rgba(0, 0, 0, 0.125);
  box-shadow: inset 0 3px 5px rgba(0, 0, 0, 0.125);
}
.btn.disabled,
.btn[disabled],
fieldset[disabled] .btn {
  cursor: not-allowed;
  opacity: 0.65;
  filter: alpha(opacity=65);
  -webkit-box-shadow: none;
  box-shadow: none;
}
a.btn.disabled,
fieldset[disabled] a.btn {
  pointer-events: none;
}
.btn-default {
  color: #333;
  background-color: #fff;
  border-color: #ccc;
}
.btn-default:focus,
.btn-default.focus {
  color: #333;
  background-color: #e6e6e6;
  border-color: #8c8c8c;
}
.btn-default:hover {
  color: #333;
  background-color: #e6e6e6;
  border-color: #adadad;
}
.btn-default:active,
.btn-default.active,
.open > .dropdown-toggle.btn-default {
  color: #333;
  background-color: #e6e6e6;
  border-color: #adadad;
}
.btn-default:active:hover,
.btn-default.active:hover,
.open > .dropdown-toggle.btn-default:hover,
.btn-default:active:focus,
.btn-default.active:focus,
.open > .dropdown-toggle.btn-default:focus,
.btn-default:active.focus,
.btn-default.active.focus,
.open > .dropdown-toggle.btn-default.focus {
  color: #333;
  background-color: #d4d4d4;
  border-color: #8c8c8c;
}
.btn-default:active,
.btn-default.active,
.open > .dropdown-toggle.btn-default {
  background-image: none;
}
.btn-default.disabled:hover,
.btn-default[disabled]:hover,
fieldset[disabled] .btn-default:hover,
.btn-default.disabled:focus,
.btn-default[disabled]:focus,
fieldset[disabled] .btn-default:focus,
.btn-default.disabled.focus,
.btn-default[disabled].focus,
fieldset[disabled] .btn-default.focus {
  background-color: #fff;
  border-color: #ccc;
}
.btn-default .badge {
  color: #fff;
  background-color: #333;
}
.btn-primary {
  color: #fff;
  background-color: #337ab7;
  border-color: #2e6da4;
}
.btn-primary:focus,
.btn-primary.focus {
  color: #fff;
  background-color: #286090;
  border-color: #122b40;
}
.btn-primary:hover {
  color: #fff;
  background-color: #286090;
  border-color: #204d74;
}
.btn-primary:active,
.btn-primary.active,
.open > .dropdown-toggle.btn-primary {
  color: #fff;
  background-color: #286090;
  border-color: #204d74;
}
.btn-primary:active:hover,
.btn-primary.active:hover,
.open > .dropdown-toggle.btn-primary:hover,
.btn-primary:active:focus,
.btn-primary.active:focus,
.open > .dropdown-toggle.btn-primary:focus,
.btn-primary:active.focus,
.btn-primary.active.focus,
.open > .dropdown-toggle.btn-primary.focus {
  color: #fff;
  background-color: #204d74;
  border-color: #122b40;
}
.btn-primary:active,
.btn-primary.active,
.open > .dropdown-toggle.btn-primary {
  background-image: none;
}
.btn-primary.disabled:hover,
.btn-primary[disabled]:hover,
fieldset[disabled] .btn-primary:hover,
.btn-primary.disabled:focus,
.btn-primary[disabled]:focus,
fieldset[disabled] .btn-primary:focus,
.btn-primary.disabled.focus,
.btn-primary[disabled].focus,
fieldset[disabled] .btn-primary.focus {
  background-color: #337ab7;
  border-color: #2e6da4;
}
.btn-primary .badge {
  color: #337ab7;
  background-color: #fff;
}
.btn-success {
  color: #fff;
  background-color: #5cb85c;
  border-color: #4cae4c;
}
.btn-success:focus,
.btn-success.focus {
  color: #fff;
  background-color: #449d44;
  border-color: #255625;
}
.btn-success:hover {
  color: #fff;
  background-color: #449d44;
  border-color: #398439;
}
.btn-success:active,
.btn-success.active,
.open > .dropdown-toggle.btn-success {
  color: #fff;
  background-color: #449d44;
  border-color: #398439;
}
.btn-success:active:hover,
.btn-success.active:hover,
.open > .dropdown-toggle.btn-success:hover,
.btn-success:active:focus,
.btn-success.active:focus,
.open > .dropdown-toggle.btn-success:focus,
.btn-success:active.focus,
.btn-success.active.focus,
.open > .dropdown-toggle.btn-success.focus {
  color: #fff;
  background-color: #398439;
  border-color: #255625;
}
.btn-success:active,
.btn-success.active,
.open > .dropdown-toggle.btn-success {
  background-image: none;
}
.btn-success.disabled:hover,
.btn-success[disabled]:hover,
fieldset[disabled] .btn-success:hover,
.btn-success.disabled:focus,
.btn-success[disabled]:focus,
fieldset[disabled] .btn-success:focus,
.btn-success.disabled.focus,
.btn-success[disabled].focus,
fieldset[disabled] .btn-success.focus {
  background-color: #5cb85c;
  border-color: #4cae4c;
}
.btn-success .badge {
  color: #5cb85c;
  background-color: #fff;
}
.btn-info {
  color: #fff;
  background-color: #5bc0de;
  border-color: #46b8da;
}
.btn-info:focus,
.btn-info.focus {
  color: #fff;
  background-color: #31b0d5;
  border-color: #1b6d85;
}
.btn-info:hover {
  color: #fff;
  background-color: #31b0d5;
  border-color: #269abc;
}
.btn-info:active,
.btn-info.active,
.open > .dropdown-toggle.btn-info {
  color: #fff;
  background-color: #31b0d5;
  border-color: #269abc;
}
.btn-info:active:hover,
.btn-info.active:hover,
.open > .dropdown-toggle.btn-info:hover,
.btn-info:active:focus,
.btn-info.active:focus,
.open > .dropdown-toggle.btn-info:focus,
.btn-info:active.focus,
.btn-info.active.focus,
.open > .dropdown-toggle.btn-info.focus {
  color: #fff;
  background-color: #269abc;
  border-color: #1b6d85;
}
.btn-info:active,
.btn-info.active,
.open > .dropdown-toggle.btn-info {
  background-image: none;
}
.btn-info.disabled:hover,
.btn-info[disabled]:hover,
fieldset[disabled] .btn-info:hover,
.btn-info.disabled:focus,
.btn-info[disabled]:focus,
fieldset[disabled] .btn-info:focus,
.btn-info.disabled.focus,
.btn-info[disabled].focus,
fieldset[disabled] .btn-info.focus {
  background-color: #5bc0de;
  border-color: #46b8da;
}
.btn-info .badge {
  color: #5bc0de;
  background-color: #fff;
}
.btn-warning {
  color: #fff;
  background-color: #f0ad4e;
  border-color: #eea236;
}
.btn-warning:focus,
.btn-warning.focus {
  color: #fff;
  background-color: #ec971f;
  border-color: #985f0d;
}
.btn-warning:hover {
  color: #fff;
  background-color: #ec971f;
  border-color: #d58512;
}
.btn-warning:active,
.btn-warning.active,
.open > .dropdown-toggle.btn-warning {
  color: #fff;
  background-color: #ec971f;
  border-color: #d58512;
}
.btn-warning:active:hover,
.btn-warning.active:hover,
.open > .dropdown-toggle.btn-warning:hover,
.btn-warning:active:focus,
.btn-warning.active:focus,
.open > .dropdown-toggle.btn-warning:focus,
.btn-warning:active.focus,
.btn-warning.active.focus,
.open > .dropdown-toggle.btn-warning.focus {
  color: #fff;
  background-color: #d58512;
  border-color: #985f0d;
}
.btn-warning:active,
.btn-warning.active,
.open > .dropdown-toggle.btn-warning {
  background-image: none;
}
.btn-warning.disabled:hover,
.btn-warning[disabled]:hover,
fieldset[disabled] .btn-warning:hover,
.btn-warning.disabled:focus,
.btn-warning[disabled]:focus,
fieldset[disabled] .btn-warning:focus,
.btn-warning.disabled.focus,
.btn-warning[disabled].focus,
fieldset[disabled] .btn-warning.focus {
  background-color: #f0ad4e;
  border-color: #eea236;
}
.btn-warning .badge {
  color: #f0ad4e;
  background-color: #fff;
}
.btn-danger {
  color: #fff;
  background-color: #d9534f;
  border-color: #d43f3a;
}
.btn-danger:focus,
.btn-danger.focus {
  color: #fff;
  background-color: #c9302c;
  border-color: #761c19;
}
.btn-danger:hover {
  color: #fff;
  background-color: #c9302c;
  border-color: #ac2925;
}
.btn-danger:active,
.btn-danger.active,
.open > .dropdown-toggle.btn-danger {
  color: #fff;
  background-color: #c9302c;
  border-color: #ac2925;
}
.btn-danger:active:hover,
.btn-danger.active:hover,
.open > .dropdown-toggle.btn-danger:hover,
.btn-danger:active:focus,
.btn-danger.active:focus,
.open > .dropdown-toggle.btn-danger:focus,
.btn-danger:active.focus,
.btn-danger.active.focus,
.open > .dropdown-toggle.btn-danger.focus {
  color: #fff;
  background-color: #ac2925;
  border-color: #761c19;
}
.btn-danger:active,
.btn-danger.active,
.open > .dropdown-toggle.btn-danger {
  background-image: none;
}
.btn-danger.disabled:hover,
.btn-danger[disabled]:hover,
fieldset[disabled] .btn-danger:hover,
.btn-danger.disabled:focus,
.btn-danger[disabled]:focus,
fieldset[disabled] .btn-danger:focus,
.btn-danger.disabled.focus,
.btn-danger[disabled].focus,
fieldset[disabled] .btn-danger.focus {
  background-color: #d9534f;
  border-color: #d43f3a;
}
.btn-danger .badge {
  color: #d9534f;
  background-color: #fff;
}
.btn-link {
  color: #337ab7;
  font-weight: normal;
  border-radius: 0;
}
.btn-link,
.btn-link:active,
.btn-link.active,
.btn-link[disabled],
fieldset[disabled] .btn-link {
  background-color: transparent;
  -webkit-box-shadow: none;
  box-shadow: none;
}
.btn-link,
.btn-link:hover,
.btn-link:focus,
.btn-link:active {
  border-color: transparent;
}
.btn-link:hover,
.btn-link:focus {
  color: #23527c;
  text-decoration: underline;
  background-color: transparent;
}
.btn-link[disabled]:hover,
fieldset[disabled] .btn-link:hover,
.btn-link[disabled]:focus,
fieldset[disabled] .btn-link:focus {
  color: #777777;
  text-decoration: none;
}
.btn-lg,
.btn-group-lg > .btn {
  padding: 10px 16px;
  font-size: 17px;
  line-height: 1.3333333;
  border-radius: 3px;
}
.btn-sm,
.btn-group-sm > .btn {
  padding: 5px 10px;
  font-size: 12px;
  line-height: 1.5;
  border-radius: 1px;
}
.btn-xs,
.btn-group-xs > .btn {
  padding: 1px 5px;
  font-size: 12px;
  line-height: 1.5;
  border-radius: 1px;
}
.btn-block {
  display: block;
  width: 100%;
}
.btn-block + .btn-block {
  margin-top: 5px;
}
input[type="submit"].btn-block,
input[type="reset"].btn-block,
input[type="button"].btn-block {
  width: 100%;
}
.fade {
  opacity: 0;
  -webkit-transition: opacity 0.15s linear;
  -o-transition: opacity 0.15s linear;
  transition: opacity 0.15s linear;
}
.fade.in {
  opacity: 1;
}
.collapse {
  display: none;
}
.collapse.in {
  display: block;
}
tr.collapse.in {
  display: table-row;
}
tbody.collapse.in {
  display: table-row-group;
}
.collapsing {
  position: relative;
  height: 0;
  overflow: hidden;
  -webkit-transition-property: height, visibility;
  transition-property: height, visibility;
  -webkit-transition-duration: 0.35s;
  transition-duration: 0.35s;
  -webkit-transition-timing-function: ease;
  transition-timing-function: ease;
}
.caret {
  display: inline-block;
  width: 0;
  height: 0;
  margin-left: 2px;
  vertical-align: middle;
  border-top: 4px dashed;
  border-top: 4px solid \9;
  border-right: 4px solid transparent;
  border-left: 4px solid transparent;
}
.dropup,
.dropdown {
  position: relative;
}
.dropdown-toggle:focus {
  outline: 0;
}
.dropdown-menu {
  position: absolute;
  top: 100%;
  left: 0;
  z-index: 1000;
  display: none;
  float: left;
  min-width: 160px;
  padding: 5px 0;
  margin: 2px 0 0;
  list-style: none;
  font-size: 13px;
  text-align: left;
  background-color: #fff;
  border: 1px solid #ccc;
  border: 1px solid rgba(0, 0, 0, 0.15);
  border-radius: 2px;
  -webkit-box-shadow: 0 6px 12px rgba(0, 0, 0, 0.175);
  box-shadow: 0 6px 12px rgba(0, 0, 0, 0.175);
  background-clip: padding-box;
}
.dropdown-menu.pull-right {
  right: 0;
  left: auto;
}
.dropdown-menu .divider {
  height: 1px;
  margin: 8px 0;
  overflow: hidden;
  background-color: #e5e5e5;
}
.dropdown-menu > li > a {
  display: block;
  padding: 3px 20px;
  clear: both;
  font-weight: normal;
  line-height: 1.42857143;
  color: #333333;
  white-space: nowrap;
}
.dropdown-menu > li > a:hover,
.dropdown-menu > li > a:focus {
  text-decoration: none;
  color: #262626;
  background-color: #f5f5f5;
}
.dropdown-menu > .active > a,
.dropdown-menu > .active > a:hover,
.dropdown-menu > .active > a:focus {
  color: #fff;
  text-decoration: none;
  outline: 0;
  background-color: #337ab7;
}
.dropdown-menu > .disabled > a,
.dropdown-menu > .disabled > a:hover,
.dropdown-menu > .disabled > a:focus {
  color: #777777;
}
.dropdown-menu > .disabled > a:hover,
.dropdown-menu > .disabled > a:focus {
  text-decoration: none;
  background-color: transparent;
  background-image: none;
  filter: progid:DXImageTransform.Microsoft.gradient(enabled = false);
  cursor: not-allowed;
}
.open > .dropdown-menu {
  display: block;
}
.open > a {
  outline: 0;
}
.dropdown-menu-right {
  left: auto;
  right: 0;
}
.dropdown-menu-left {
  left: 0;
  right: auto;
}
.dropdown-header {
  display: block;
  padding: 3px 20px;
  font-size: 12px;
  line-height: 1.42857143;
  color: #777777;
  white-space: nowrap;
}
.dropdown-backdrop {
  position: fixed;
  left: 0;
  right: 0;
  bottom: 0;
  top: 0;
  z-index: 990;
}
.pull-right > .dropdown-menu {
  right: 0;
  left: auto;
}
.dropup .caret,
.navbar-fixed-bottom .dropdown .caret {
  border-top: 0;
  border-bottom: 4px dashed;
  border-bottom: 4px solid \9;
  content: "";
}
.dropup .dropdown-menu,
.navbar-fixed-bottom .dropdown .dropdown-menu {
  top: auto;
  bottom: 100%;
  margin-bottom: 2px;
}
@media (min-width: 541px) {
  .navbar-right .dropdown-menu {
    left: auto;
    right: 0;
  }
  .navbar-right .dropdown-menu-left {
    left: 0;
    right: auto;
  }
}
.btn-group,
.btn-group-vertical {
  position: relative;
  display: inline-block;
  vertical-align: middle;
}
.btn-group > .btn,
.btn-group-vertical > .btn {
  position: relative;
  float: left;
}
.btn-group > .btn:hover,
.btn-group-vertical > .btn:hover,
.btn-group > .btn:focus,
.btn-group-vertical > .btn:focus,
.btn-group > .btn:active,
.btn-group-vertical > .btn:active,
.btn-group > .btn.active,
.btn-group-vertical > .btn.active {
  z-index: 2;
}
.btn-group .btn + .btn,
.btn-group .btn + .btn-group,
.btn-group .btn-group + .btn,
.btn-group .btn-group + .btn-group {
  margin-left: -1px;
}
.btn-toolbar {
  margin-left: -5px;
}
.btn-toolbar .btn,
.btn-toolbar .btn-group,
.btn-toolbar .input-group {
  float: left;
}
.btn-toolbar > .btn,
.btn-toolbar > .btn-group,
.btn-toolbar > .input-group {
  margin-left: 5px;
}
.btn-group > .btn:not(:first-child):not(:last-child):not(.dropdown-toggle) {
  border-radius: 0;
}
.btn-group > .btn:first-child {
  margin-left: 0;
}
.btn-group > .btn:first-child:not(:last-child):not(.dropdown-toggle) {
  border-bottom-right-radius: 0;
  border-top-right-radius: 0;
}
.btn-group > .btn:last-child:not(:first-child),
.btn-group > .dropdown-toggle:not(:first-child) {
  border-bottom-left-radius: 0;
  border-top-left-radius: 0;
}
.btn-group > .btn-group {
  float: left;
}
.btn-group > .btn-group:not(:first-child):not(:last-child) > .btn {
  border-radius: 0;
}
.btn-group > .btn-group:first-child:not(:last-child) > .btn:last-child,
.btn-group > .btn-group:first-child:not(:last-child) > .dropdown-toggle {
  border-bottom-right-radius: 0;
  border-top-right-radius: 0;
}
.btn-group > .btn-group:last-child:not(:first-child) > .btn:first-child {
  border-bottom-left-radius: 0;
  border-top-left-radius: 0;
}
.btn-group .dropdown-toggle:active,
.btn-group.open .dropdown-toggle {
  outline: 0;
}
.btn-group > .btn + .dropdown-toggle {
  padding-left: 8px;
  padding-right: 8px;
}
.btn-group > .btn-lg + .dropdown-toggle {
  padding-left: 12px;
  padding-right: 12px;
}
.btn-group.open .dropdown-toggle {
  -webkit-box-shadow: inset 0 3px 5px rgba(0, 0, 0, 0.125);
  box-shadow: inset 0 3px 5px rgba(0, 0, 0, 0.125);
}
.btn-group.open .dropdown-toggle.btn-link {
  -webkit-box-shadow: none;
  box-shadow: none;
}
.btn .caret {
  margin-left: 0;
}
.btn-lg .caret {
  border-width: 5px 5px 0;
  border-bottom-width: 0;
}
.dropup .btn-lg .caret {
  border-width: 0 5px 5px;
}
.btn-group-vertical > .btn,
.btn-group-vertical > .btn-group,
.btn-group-vertical > .btn-group > .btn {
  display: block;
  float: none;
  width: 100%;
  max-width: 100%;
}
.btn-group-vertical > .btn-group > .btn {
  float: none;
}
.btn-group-vertical > .btn + .btn,
.btn-group-vertical > .btn + .btn-group,
.btn-group-vertical > .btn-group + .btn,
.btn-group-vertical > .btn-group + .btn-group {
  margin-top: -1px;
  margin-left: 0;
}
.btn-group-vertical > .btn:not(:first-child):not(:last-child) {
  border-radius: 0;
}
.btn-group-vertical > .btn:first-child:not(:last-child) {
  border-top-right-radius: 2px;
  border-top-left-radius: 2px;
  border-bottom-right-radius: 0;
  border-bottom-left-radius: 0;
}
.btn-group-vertical > .btn:last-child:not(:first-child) {
  border-top-right-radius: 0;
  border-top-left-radius: 0;
  border-bottom-right-radius: 2px;
  border-bottom-left-radius: 2px;
}
.btn-group-vertical > .btn-group:not(:first-child):not(:last-child) > .btn {
  border-radius: 0;
}
.btn-group-vertical > .btn-group:first-child:not(:last-child) > .btn:last-child,
.btn-group-vertical > .btn-group:first-child:not(:last-child) > .dropdown-toggle {
  border-bottom-right-radius: 0;
  border-bottom-left-radius: 0;
}
.btn-group-vertical > .btn-group:last-child:not(:first-child) > .btn:first-child {
  border-top-right-radius: 0;
  border-top-left-radius: 0;
}
.btn-group-justified {
  display: table;
  width: 100%;
  table-layout: fixed;
  border-collapse: separate;
}
.btn-group-justified > .btn,
.btn-group-justified > .btn-group {
  float: none;
  display: table-cell;
  width: 1%;
}
.btn-group-justified > .btn-group .btn {
  width: 100%;
}
.btn-group-justified > .btn-group .dropdown-menu {
  left: auto;
}
[data-toggle="buttons"] > .btn input[type="radio"],
[data-toggle="buttons"] > .btn-group > .btn input[type="radio"],
[data-toggle="buttons"] > .btn input[type="checkbox"],
[data-toggle="buttons"] > .btn-group > .btn input[type="checkbox"] {
  position: absolute;
  clip: rect(0, 0, 0, 0);
  pointer-events: none;
}
.input-group {
  position: relative;
  display: table;
  border-collapse: separate;
}
.input-group[class*="col-"] {
  float: none;
  padding-left: 0;
  padding-right: 0;
}
.input-group .form-control {
  position: relative;
  z-index: 2;
  float: left;
  width: 100%;
  margin-bottom: 0;
}
.input-group .form-control:focus {
  z-index: 3;
}
.input-group-lg > .form-control,
.input-group-lg > .input-group-addon,
.input-group-lg > .input-group-btn > .btn {
  height: 45px;
  padding: 10px 16px;
  font-size: 17px;
  line-height: 1.3333333;
  border-radius: 3px;
}
select.input-group-lg > .form-control,
select.input-group-lg > .input-group-addon,
select.input-group-lg > .input-group-btn > .btn {
  height: 45px;
  line-height: 45px;
}
textarea.input-group-lg > .form-control,
textarea.input-group-lg > .input-group-addon,
textarea.input-group-lg > .input-group-btn > .btn,
select[multiple].input-group-lg > .form-control,
select[multiple].input-group-lg > .input-group-addon,
select[multiple].input-group-lg > .input-group-btn > .btn {
  height: auto;
}
.input-group-sm > .form-control,
.input-group-sm > .input-group-addon,
.input-group-sm > .input-group-btn > .btn {
  height: 30px;
  padding: 5px 10px;
  font-size: 12px;
  line-height: 1.5;
  border-radius: 1px;
}
select.input-group-sm > .form-control,
select.input-group-sm > .input-group-addon,
select.input-group-sm > .input-group-btn > .btn {
  height: 30px;
  line-height: 30px;
}
textarea.input-group-sm > .form-control,
textarea.input-group-sm > .input-group-addon,
textarea.input-group-sm > .input-group-btn > .btn,
select[multiple].input-group-sm > .form-control,
select[multiple].input-group-sm > .input-group-addon,
select[multiple].input-group-sm > .input-group-btn > .btn {
  height: auto;
}
.input-group-addon,
.input-group-btn,
.input-group .form-control {
  display: table-cell;
}
.input-group-addon:not(:first-child):not(:last-child),
.input-group-btn:not(:first-child):not(:last-child),
.input-group .form-control:not(:first-child):not(:last-child) {
  border-radius: 0;
}
.input-group-addon,
.input-group-btn {
  width: 1%;
  white-space: nowrap;
  vertical-align: middle;
}
.input-group-addon {
  padding: 6px 12px;
  font-size: 13px;
  font-weight: normal;
  line-height: 1;
  color: #555555;
  text-align: center;
  background-color: #eeeeee;
  border: 1px solid #ccc;
  border-radius: 2px;
}
.input-group-addon.input-sm {
  padding: 5px 10px;
  font-size: 12px;
  border-radius: 1px;
}
.input-group-addon.input-lg {
  padding: 10px 16px;
  font-size: 17px;
  border-radius: 3px;
}
.input-group-addon input[type="radio"],
.input-group-addon input[type="checkbox"] {
  margin-top: 0;
}
.input-group .form-control:first-child,
.input-group-addon:first-child,
.input-group-btn:first-child > .btn,
.input-group-btn:first-child > .btn-group > .btn,
.input-group-btn:first-child > .dropdown-toggle,
.input-group-btn:last-child > .btn:not(:last-child):not(.dropdown-toggle),
.input-group-btn:last-child > .btn-group:not(:last-child) > .btn {
  border-bottom-right-radius: 0;
  border-top-right-radius: 0;
}
.input-group-addon:first-child {
  border-right: 0;
}
.input-group .form-control:last-child,
.input-group-addon:last-child,
.input-group-btn:last-child > .btn,
.input-group-btn:last-child > .btn-group > .btn,
.input-group-btn:last-child > .dropdown-toggle,
.input-group-btn:first-child > .btn:not(:first-child),
.input-group-btn:first-child > .btn-group:not(:first-child) > .btn {
  border-bottom-left-radius: 0;
  border-top-left-radius: 0;
}
.input-group-addon:last-child {
  border-left: 0;
}
.input-group-btn {
  position: relative;
  font-size: 0;
  white-space: nowrap;
}
.input-group-btn > .btn {
  position: relative;
}
.input-group-btn > .btn + .btn {
  margin-left: -1px;
}
.input-group-btn > .btn:hover,
.input-group-btn > .btn:focus,
.input-group-btn > .btn:active {
  z-index: 2;
}
.input-group-btn:first-child > .btn,
.input-group-btn:first-child > .btn-group {
  margin-right: -1px;
}
.input-group-btn:last-child > .btn,
.input-group-btn:last-child > .btn-group {
  z-index: 2;
  margin-left: -1px;
}
.nav {
  margin-bottom: 0;
  padding-left: 0;
  list-style: none;
}
.nav > li {
  position: relative;
  display: block;
}
.nav > li > a {
  position: relative;
  display: block;
  padding: 10px 15px;
}
.nav > li > a:hover,
.nav > li > a:focus {
  text-decoration: none;
  background-color: #eeeeee;
}
.nav > li.disabled > a {
  color: #777777;
}
.nav > li.disabled > a:hover,
.nav > li.disabled > a:focus {
  color: #777777;
  text-decoration: none;
  background-color: transparent;
  cursor: not-allowed;
}
.nav .open > a,
.nav .open > a:hover,
.nav .open > a:focus {
  background-color: #eeeeee;
  border-color: #337ab7;
}
.nav .nav-divider {
  height: 1px;
  margin: 8px 0;
  overflow: hidden;
  background-color: #e5e5e5;
}
.nav > li > a > img {
  max-width: none;
}
.nav-tabs {
  border-bottom: 1px solid #ddd;
}
.nav-tabs > li {
  float: left;
  margin-bottom: -1px;
}
.nav-tabs > li > a {
  margin-right: 2px;
  line-height: 1.42857143;
  border: 1px solid transparent;
  border-radius: 2px 2px 0 0;
}
.nav-tabs > li > a:hover {
  border-color: #eeeeee #eeeeee #ddd;
}
.nav-tabs > li.active > a,
.nav-tabs > li.active > a:hover,
.nav-tabs > li.active > a:focus {
  color: #555555;
  background-color: #fff;
  border: 1px solid #ddd;
  border-bottom-color: transparent;
  cursor: default;
}
.nav-tabs.nav-justified {
  width: 100%;
  border-bottom: 0;
}
.nav-tabs.nav-justified > li {
  float: none;
}
.nav-tabs.nav-justified > li > a {
  text-align: center;
  margin-bottom: 5px;
}
.nav-tabs.nav-justified > .dropdown .dropdown-menu {
  top: auto;
  left: auto;
}
@media (min-width: 768px) {
  .nav-tabs.nav-justified > li {
    display: table-cell;
    width: 1%;
  }
  .nav-tabs.nav-justified > li > a {
    margin-bottom: 0;
  }
}
.nav-tabs.nav-justified > li > a {
  margin-right: 0;
  border-radius: 2px;
}
.nav-tabs.nav-justified > .active > a,
.nav-tabs.nav-justified > .active > a:hover,
.nav-tabs.nav-justified > .active > a:focus {
  border: 1px solid #ddd;
}
@media (min-width: 768px) {
  .nav-tabs.nav-justified > li > a {
    border-bottom: 1px solid #ddd;
    border-radius: 2px 2px 0 0;
  }
  .nav-tabs.nav-justified > .active > a,
  .nav-tabs.nav-justified > .active > a:hover,
  .nav-tabs.nav-justified > .active > a:focus {
    border-bottom-color: #fff;
  }
}
.nav-pills > li {
  float: left;
}
.nav-pills > li > a {
  border-radius: 2px;
}
.nav-pills > li + li {
  margin-left: 2px;
}
.nav-pills > li.active > a,
.nav-pills > li.active > a:hover,
.nav-pills > li.active > a:focus {
  color: #fff;
  background-color: #337ab7;
}
.nav-stacked > li {
  float: none;
}
.nav-stacked > li + li {
  margin-top: 2px;
  margin-left: 0;
}
.nav-justified {
  width: 100%;
}
.nav-justified > li {
  float: none;
}
.nav-justified > li > a {
  text-align: center;
  margin-bottom: 5px;
}
.nav-justified > .dropdown .dropdown-menu {
  top: auto;
  left: auto;
}
@media (min-width: 768px) {
  .nav-justified > li {
    display: table-cell;
    width: 1%;
  }
  .nav-justified > li > a {
    margin-bottom: 0;
  }
}
.nav-tabs-justified {
  border-bottom: 0;
}
.nav-tabs-justified > li > a {
  margin-right: 0;
  border-radius: 2px;
}
.nav-tabs-justified > .active > a,
.nav-tabs-justified > .active > a:hover,
.nav-tabs-justified > .active > a:focus {
  border: 1px solid #ddd;
}
@media (min-width: 768px) {
  .nav-tabs-justified > li > a {
    border-bottom: 1px solid #ddd;
    border-radius: 2px 2px 0 0;
  }
  .nav-tabs-justified > .active > a,
  .nav-tabs-justified > .active > a:hover,
  .nav-tabs-justified > .active > a:focus {
    border-bottom-color: #fff;
  }
}
.tab-content > .tab-pane {
  display: none;
}
.tab-content > .active {
  display: block;
}
.nav-tabs .dropdown-menu {
  margin-top: -1px;
  border-top-right-radius: 0;
  border-top-left-radius: 0;
}
.navbar {
  position: relative;
  min-height: 30px;
  margin-bottom: 18px;
  border: 1px solid transparent;
}
@media (min-width: 541px) {
  .navbar {
    border-radius: 2px;
  }
}
@media (min-width: 541px) {
  .navbar-header {
    float: left;
  }
}
.navbar-collapse {
  overflow-x: visible;
  padding-right: 0px;
  padding-left: 0px;
  border-top: 1px solid transparent;
  box-shadow: inset 0 1px 0 rgba(255, 255, 255, 0.1);
  -webkit-overflow-scrolling: touch;
}
.navbar-collapse.in {
  overflow-y: auto;
}
@media (min-width: 541px) {
  .navbar-collapse {
    width: auto;
    border-top: 0;
    box-shadow: none;
  }
  .navbar-collapse.collapse {
    display: block !important;
    height: auto !important;
    padding-bottom: 0;
    overflow: visible !important;
  }
  .navbar-collapse.in {
    overflow-y: visible;
  }
  .navbar-fixed-top .navbar-collapse,
  .navbar-static-top .navbar-collapse,
  .navbar-fixed-bottom .navbar-collapse {
    padding-left: 0;
    padding-right: 0;
  }
}
.navbar-fixed-top .navbar-collapse,
.navbar-fixed-bottom .navbar-collapse {
  max-height: 340px;
}
@media (max-device-width: 540px) and (orientation: landscape) {
  .navbar-fixed-top .navbar-collapse,
  .navbar-fixed-bottom .navbar-collapse {
    max-height: 200px;
  }
}
.container > .navbar-header,
.container-fluid > .navbar-header,
.container > .navbar-collapse,
.container-fluid > .navbar-collapse {
  margin-right: 0px;
  margin-left: 0px;
}
@media (min-width: 541px) {
  .container > .navbar-header,
  .container-fluid > .navbar-header,
  .container > .navbar-collapse,
  .container-fluid > .navbar-collapse {
    margin-right: 0;
    margin-left: 0;
  }
}
.navbar-static-top {
  z-index: 1000;
  border-width: 0 0 1px;
}
@media (min-width: 541px) {
  .navbar-static-top {
    border-radius: 0;
  }
}
.navbar-fixed-top,
.navbar-fixed-bottom {
  position: fixed;
  right: 0;
  left: 0;
  z-index: 1030;
}
@media (min-width: 541px) {
  .navbar-fixed-top,
  .navbar-fixed-bottom {
    border-radius: 0;
  }
}
.navbar-fixed-top {
  top: 0;
  border-width: 0 0 1px;
}
.navbar-fixed-bottom {
  bottom: 0;
  margin-bottom: 0;
  border-width: 1px 0 0;
}
.navbar-brand {
  float: left;
  padding: 6px 0px;
  font-size: 17px;
  line-height: 18px;
  height: 30px;
}
.navbar-brand:hover,
.navbar-brand:focus {
  text-decoration: none;
}
.navbar-brand > img {
  display: block;
}
@media (min-width: 541px) {
  .navbar > .container .navbar-brand,
  .navbar > .container-fluid .navbar-brand {
    margin-left: 0px;
  }
}
.navbar-toggle {
  position: relative;
  float: right;
  margin-right: 0px;
  padding: 9px 10px;
  margin-top: -2px;
  margin-bottom: -2px;
  background-color: transparent;
  background-image: none;
  border: 1px solid transparent;
  border-radius: 2px;
}
.navbar-toggle:focus {
  outline: 0;
}
.navbar-toggle .icon-bar {
  display: block;
  width: 22px;
  height: 2px;
  border-radius: 1px;
}
.navbar-toggle .icon-bar + .icon-bar {
  margin-top: 4px;
}
@media (min-width: 541px) {
  .navbar-toggle {
    display: none;
  }
}
.navbar-nav {
  margin: 3px 0px;
}
.navbar-nav > li > a {
  padding-top: 10px;
  padding-bottom: 10px;
  line-height: 18px;
}
@media (max-width: 540px) {
  .navbar-nav .open .dropdown-menu {
    position: static;
    float: none;
    width: auto;
    margin-top: 0;
    background-color: transparent;
    border: 0;
    box-shadow: none;
  }
  .navbar-nav .open .dropdown-menu > li > a,
  .navbar-nav .open .dropdown-menu .dropdown-header {
    padding: 5px 15px 5px 25px;
  }
  .navbar-nav .open .dropdown-menu > li > a {
    line-height: 18px;
  }
  .navbar-nav .open .dropdown-menu > li > a:hover,
  .navbar-nav .open .dropdown-menu > li > a:focus {
    background-image: none;
  }
}
@media (min-width: 541px) {
  .navbar-nav {
    float: left;
    margin: 0;
  }
  .navbar-nav > li {
    float: left;
  }
  .navbar-nav > li > a {
    padding-top: 6px;
    padding-bottom: 6px;
  }
}
.navbar-form {
  margin-left: 0px;
  margin-right: 0px;
  padding: 10px 0px;
  border-top: 1px solid transparent;
  border-bottom: 1px solid transparent;
  -webkit-box-shadow: inset 0 1px 0 rgba(255, 255, 255, 0.1), 0 1px 0 rgba(255, 255, 255, 0.1);
  box-shadow: inset 0 1px 0 rgba(255, 255, 255, 0.1), 0 1px 0 rgba(255, 255, 255, 0.1);
  margin-top: -1px;
  margin-bottom: -1px;
}
@media (min-width: 768px) {
  .navbar-form .form-group {
    display: inline-block;
    margin-bottom: 0;
    vertical-align: middle;
  }
  .navbar-form .form-control {
    display: inline-block;
    width: auto;
    vertical-align: middle;
  }
  .navbar-form .form-control-static {
    display: inline-block;
  }
  .navbar-form .input-group {
    display: inline-table;
    vertical-align: middle;
  }
  .navbar-form .input-group .input-group-addon,
  .navbar-form .input-group .input-group-btn,
  .navbar-form .input-group .form-control {
    width: auto;
  }
  .navbar-form .input-group > .form-control {
    width: 100%;
  }
  .navbar-form .control-label {
    margin-bottom: 0;
    vertical-align: middle;
  }
  .navbar-form .radio,
  .navbar-form .checkbox {
    display: inline-block;
    margin-top: 0;
    margin-bottom: 0;
    vertical-align: middle;
  }
  .navbar-form .radio label,
  .navbar-form .checkbox label {
    padding-left: 0;
  }
  .navbar-form .radio input[type="radio"],
  .navbar-form .checkbox input[type="checkbox"] {
    position: relative;
    margin-left: 0;
  }
  .navbar-form .has-feedback .form-control-feedback {
    top: 0;
  }
}
@media (max-width: 540px) {
  .navbar-form .form-group {
    margin-bottom: 5px;
  }
  .navbar-form .form-group:last-child {
    margin-bottom: 0;
  }
}
@media (min-width: 541px) {
  .navbar-form {
    width: auto;
    border: 0;
    margin-left: 0;
    margin-right: 0;
    padding-top: 0;
    padding-bottom: 0;
    -webkit-box-shadow: none;
    box-shadow: none;
  }
}
.navbar-nav > li > .dropdown-menu {
  margin-top: 0;
  border-top-right-radius: 0;
  border-top-left-radius: 0;
}
.navbar-fixed-bottom .navbar-nav > li > .dropdown-menu {
  margin-bottom: 0;
  border-top-right-radius: 2px;
  border-top-left-radius: 2px;
  border-bottom-right-radius: 0;
  border-bottom-left-radius: 0;
}
.navbar-btn {
  margin-top: -1px;
  margin-bottom: -1px;
}
.navbar-btn.btn-sm {
  margin-top: 0px;
  margin-bottom: 0px;
}
.navbar-btn.btn-xs {
  margin-top: 4px;
  margin-bottom: 4px;
}
.navbar-text {
  margin-top: 6px;
  margin-bottom: 6px;
}
@media (min-width: 541px) {
  .navbar-text {
    float: left;
    margin-left: 0px;
    margin-right: 0px;
  }
}
@media (min-width: 541px) {
  .navbar-left {
    float: left !important;
    float: left;
  }
  .navbar-right {
    float: right !important;
    float: right;
    margin-right: 0px;
  }
  .navbar-right ~ .navbar-right {
    margin-right: 0;
  }
}
.navbar-default {
  background-color: #f8f8f8;
  border-color: #e7e7e7;
}
.navbar-default .navbar-brand {
  color: #777;
}
.navbar-default .navbar-brand:hover,
.navbar-default .navbar-brand:focus {
  color: #5e5e5e;
  background-color: transparent;
}
.navbar-default .navbar-text {
  color: #777;
}
.navbar-default .navbar-nav > li > a {
  color: #777;
}
.navbar-default .navbar-nav > li > a:hover,
.navbar-default .navbar-nav > li > a:focus {
  color: #333;
  background-color: transparent;
}
.navbar-default .navbar-nav > .active > a,
.navbar-default .navbar-nav > .active > a:hover,
.navbar-default .navbar-nav > .active > a:focus {
  color: #555;
  background-color: #e7e7e7;
}
.navbar-default .navbar-nav > .disabled > a,
.navbar-default .navbar-nav > .disabled > a:hover,
.navbar-default .navbar-nav > .disabled > a:focus {
  color: #ccc;
  background-color: transparent;
}
.navbar-default .navbar-toggle {
  border-color: #ddd;
}
.navbar-default .navbar-toggle:hover,
.navbar-default .navbar-toggle:focus {
  background-color: #ddd;
}
.navbar-default .navbar-toggle .icon-bar {
  background-color: #888;
}
.navbar-default .navbar-collapse,
.navbar-default .navbar-form {
  border-color: #e7e7e7;
}
.navbar-default .navbar-nav > .open > a,
.navbar-default .navbar-nav > .open > a:hover,
.navbar-default .navbar-nav > .open > a:focus {
  background-color: #e7e7e7;
  color: #555;
}
@media (max-width: 540px) {
  .navbar-default .navbar-nav .open .dropdown-menu > li > a {
    color: #777;
  }
  .navbar-default .navbar-nav .open .dropdown-menu > li > a:hover,
  .navbar-default .navbar-nav .open .dropdown-menu > li > a:focus {
    color: #333;
    background-color: transparent;
  }
  .navbar-default .navbar-nav .open .dropdown-menu > .active > a,
  .navbar-default .navbar-nav .open .dropdown-menu > .active > a:hover,
  .navbar-default .navbar-nav .open .dropdown-menu > .active > a:focus {
    color: #555;
    background-color: #e7e7e7;
  }
  .navbar-default .navbar-nav .open .dropdown-menu > .disabled > a,
  .navbar-default .navbar-nav .open .dropdown-menu > .disabled > a:hover,
  .navbar-default .navbar-nav .open .dropdown-menu > .disabled > a:focus {
    color: #ccc;
    background-color: transparent;
  }
}
.navbar-default .navbar-link {
  color: #777;
}
.navbar-default .navbar-link:hover {
  color: #333;
}
.navbar-default .btn-link {
  color: #777;
}
.navbar-default .btn-link:hover,
.navbar-default .btn-link:focus {
  color: #333;
}
.navbar-default .btn-link[disabled]:hover,
fieldset[disabled] .navbar-default .btn-link:hover,
.navbar-default .btn-link[disabled]:focus,
fieldset[disabled] .navbar-default .btn-link:focus {
  color: #ccc;
}
.navbar-inverse {
  background-color: #222;
  border-color: #080808;
}
.navbar-inverse .navbar-brand {
  color: #9d9d9d;
}
.navbar-inverse .navbar-brand:hover,
.navbar-inverse .navbar-brand:focus {
  color: #fff;
  background-color: transparent;
}
.navbar-inverse .navbar-text {
  color: #9d9d9d;
}
.navbar-inverse .navbar-nav > li > a {
  color: #9d9d9d;
}
.navbar-inverse .navbar-nav > li > a:hover,
.navbar-inverse .navbar-nav > li > a:focus {
  color: #fff;
  background-color: transparent;
}
.navbar-inverse .navbar-nav > .active > a,
.navbar-inverse .navbar-nav > .active > a:hover,
.navbar-inverse .navbar-nav > .active > a:focus {
  color: #fff;
  background-color: #080808;
}
.navbar-inverse .navbar-nav > .disabled > a,
.navbar-inverse .navbar-nav > .disabled > a:hover,
.navbar-inverse .navbar-nav > .disabled > a:focus {
  color: #444;
  background-color: transparent;
}
.navbar-inverse .navbar-toggle {
  border-color: #333;
}
.navbar-inverse .navbar-toggle:hover,
.navbar-inverse .navbar-toggle:focus {
  background-color: #333;
}
.navbar-inverse .navbar-toggle .icon-bar {
  background-color: #fff;
}
.navbar-inverse .navbar-collapse,
.navbar-inverse .navbar-form {
  border-color: #101010;
}
.navbar-inverse .navbar-nav > .open > a,
.navbar-inverse .navbar-nav > .open > a:hover,
.navbar-inverse .navbar-nav > .open > a:focus {
  background-color: #080808;
  color: #fff;
}
@media (max-width: 540px) {
  .navbar-inverse .navbar-nav .open .dropdown-menu > .dropdown-header {
    border-color: #080808;
  }
  .navbar-inverse .navbar-nav .open .dropdown-menu .divider {
    background-color: #080808;
  }
  .navbar-inverse .navbar-nav .open .dropdown-menu > li > a {
    color: #9d9d9d;
  }
  .navbar-inverse .navbar-nav .open .dropdown-menu > li > a:hover,
  .navbar-inverse .navbar-nav .open .dropdown-menu > li > a:focus {
    color: #fff;
    background-color: transparent;
  }
  .navbar-inverse .navbar-nav .open .dropdown-menu > .active > a,
  .navbar-inverse .navbar-nav .open .dropdown-menu > .active > a:hover,
  .navbar-inverse .navbar-nav .open .dropdown-menu > .active > a:focus {
    color: #fff;
    background-color: #080808;
  }
  .navbar-inverse .navbar-nav .open .dropdown-menu > .disabled > a,
  .navbar-inverse .navbar-nav .open .dropdown-menu > .disabled > a:hover,
  .navbar-inverse .navbar-nav .open .dropdown-menu > .disabled > a:focus {
    color: #444;
    background-color: transparent;
  }
}
.navbar-inverse .navbar-link {
  color: #9d9d9d;
}
.navbar-inverse .navbar-link:hover {
  color: #fff;
}
.navbar-inverse .btn-link {
  color: #9d9d9d;
}
.navbar-inverse .btn-link:hover,
.navbar-inverse .btn-link:focus {
  color: #fff;
}
.navbar-inverse .btn-link[disabled]:hover,
fieldset[disabled] .navbar-inverse .btn-link:hover,
.navbar-inverse .btn-link[disabled]:focus,
fieldset[disabled] .navbar-inverse .btn-link:focus {
  color: #444;
}
.breadcrumb {
  padding: 8px 15px;
  margin-bottom: 18px;
  list-style: none;
  background-color: #f5f5f5;
  border-radius: 2px;
}
.breadcrumb > li {
  display: inline-block;
}
.breadcrumb > li + li:before {
  content: "/\00a0";
  padding: 0 5px;
  color: #5e5e5e;
}
.breadcrumb > .active {
  color: #777777;
}
.pagination {
  display: inline-block;
  padding-left: 0;
  margin: 18px 0;
  border-radius: 2px;
}
.pagination > li {
  display: inline;
}
.pagination > li > a,
.pagination > li > span {
  position: relative;
  float: left;
  padding: 6px 12px;
  line-height: 1.42857143;
  text-decoration: none;
  color: #337ab7;
  background-color: #fff;
  border: 1px solid #ddd;
  margin-left: -1px;
}
.pagination > li:first-child > a,
.pagination > li:first-child > span {
  margin-left: 0;
  border-bottom-left-radius: 2px;
  border-top-left-radius: 2px;
}
.pagination > li:last-child > a,
.pagination > li:last-child > span {
  border-bottom-right-radius: 2px;
  border-top-right-radius: 2px;
}
.pagination > li > a:hover,
.pagination > li > span:hover,
.pagination > li > a:focus,
.pagination > li > span:focus {
  z-index: 2;
  color: #23527c;
  background-color: #eeeeee;
  border-color: #ddd;
}
.pagination > .active > a,
.pagination > .active > span,
.pagination > .active > a:hover,
.pagination > .active > span:hover,
.pagination > .active > a:focus,
.pagination > .active > span:focus {
  z-index: 3;
  color: #fff;
  background-color: #337ab7;
  border-color: #337ab7;
  cursor: default;
}
.pagination > .disabled > span,
.pagination > .disabled > span:hover,
.pagination > .disabled > span:focus,
.pagination > .disabled > a,
.pagination > .disabled > a:hover,
.pagination > .disabled > a:focus {
  color: #777777;
  background-color: #fff;
  border-color: #ddd;
  cursor: not-allowed;
}
.pagination-lg > li > a,
.pagination-lg > li > span {
  padding: 10px 16px;
  font-size: 17px;
  line-height: 1.3333333;
}
.pagination-lg > li:first-child > a,
.pagination-lg > li:first-child > span {
  border-bottom-left-radius: 3px;
  border-top-left-radius: 3px;
}
.pagination-lg > li:last-child > a,
.pagination-lg > li:last-child > span {
  border-bottom-right-radius: 3px;
  border-top-right-radius: 3px;
}
.pagination-sm > li > a,
.pagination-sm > li > span {
  padding: 5px 10px;
  font-size: 12px;
  line-height: 1.5;
}
.pagination-sm > li:first-child > a,
.pagination-sm > li:first-child > span {
  border-bottom-left-radius: 1px;
  border-top-left-radius: 1px;
}
.pagination-sm > li:last-child > a,
.pagination-sm > li:last-child > span {
  border-bottom-right-radius: 1px;
  border-top-right-radius: 1px;
}
.pager {
  padding-left: 0;
  margin: 18px 0;
  list-style: none;
  text-align: center;
}
.pager li {
  display: inline;
}
.pager li > a,
.pager li > span {
  display: inline-block;
  padding: 5px 14px;
  background-color: #fff;
  border: 1px solid #ddd;
  border-radius: 15px;
}
.pager li > a:hover,
.pager li > a:focus {
  text-decoration: none;
  background-color: #eeeeee;
}
.pager .next > a,
.pager .next > span {
  float: right;
}
.pager .previous > a,
.pager .previous > span {
  float: left;
}
.pager .disabled > a,
.pager .disabled > a:hover,
.pager .disabled > a:focus,
.pager .disabled > span {
  color: #777777;
  background-color: #fff;
  cursor: not-allowed;
}
.label {
  display: inline;
  padding: .2em .6em .3em;
  font-size: 75%;
  font-weight: bold;
  line-height: 1;
  color: #fff;
  text-align: center;
  white-space: nowrap;
  vertical-align: baseline;
  border-radius: .25em;
}
a.label:hover,
a.label:focus {
  color: #fff;
  text-decoration: none;
  cursor: pointer;
}
.label:empty {
  display: none;
}
.btn .label {
  position: relative;
  top: -1px;
}
.label-default {
  background-color: #777777;
}
.label-default[href]:hover,
.label-default[href]:focus {
  background-color: #5e5e5e;
}
.label-primary {
  background-color: #337ab7;
}
.label-primary[href]:hover,
.label-primary[href]:focus {
  background-color: #286090;
}
.label-success {
  background-color: #5cb85c;
}
.label-success[href]:hover,
.label-success[href]:focus {
  background-color: #449d44;
}
.label-info {
  background-color: #5bc0de;
}
.label-info[href]:hover,
.label-info[href]:focus {
  background-color: #31b0d5;
}
.label-warning {
  background-color: #f0ad4e;
}
.label-warning[href]:hover,
.label-warning[href]:focus {
  background-color: #ec971f;
}
.label-danger {
  background-color: #d9534f;
}
.label-danger[href]:hover,
.label-danger[href]:focus {
  background-color: #c9302c;
}
.badge {
  display: inline-block;
  min-width: 10px;
  padding: 3px 7px;
  font-size: 12px;
  font-weight: bold;
  color: #fff;
  line-height: 1;
  vertical-align: middle;
  white-space: nowrap;
  text-align: center;
  background-color: #777777;
  border-radius: 10px;
}
.badge:empty {
  display: none;
}
.btn .badge {
  position: relative;
  top: -1px;
}
.btn-xs .badge,
.btn-group-xs > .btn .badge {
  top: 0;
  padding: 1px 5px;
}
a.badge:hover,
a.badge:focus {
  color: #fff;
  text-decoration: none;
  cursor: pointer;
}
.list-group-item.active > .badge,
.nav-pills > .active > a > .badge {
  color: #337ab7;
  background-color: #fff;
}
.list-group-item > .badge {
  float: right;
}
.list-group-item > .badge + .badge {
  margin-right: 5px;
}
.nav-pills > li > a > .badge {
  margin-left: 3px;
}
.jumbotron {
  padding-top: 30px;
  padding-bottom: 30px;
  margin-bottom: 30px;
  color: inherit;
  background-color: #eeeeee;
}
.jumbotron h1,
.jumbotron .h1 {
  color: inherit;
}
.jumbotron p {
  margin-bottom: 15px;
  font-size: 20px;
  font-weight: 200;
}
.jumbotron > hr {
  border-top-color: #d5d5d5;
}
.container .jumbotron,
.container-fluid .jumbotron {
  border-radius: 3px;
  padding-left: 0px;
  padding-right: 0px;
}
.jumbotron .container {
  max-width: 100%;
}
@media screen and (min-width: 768px) {
  .jumbotron {
    padding-top: 48px;
    padding-bottom: 48px;
  }
  .container .jumbotron,
  .container-fluid .jumbotron {
    padding-left: 60px;
    padding-right: 60px;
  }
  .jumbotron h1,
  .jumbotron .h1 {
    font-size: 59px;
  }
}
.thumbnail {
  display: block;
  padding: 4px;
  margin-bottom: 18px;
  line-height: 1.42857143;
  background-color: #fff;
  border: 1px solid #ddd;
  border-radius: 2px;
  -webkit-transition: border 0.2s ease-in-out;
  -o-transition: border 0.2s ease-in-out;
  transition: border 0.2s ease-in-out;
}
.thumbnail > img,
.thumbnail a > img {
  margin-left: auto;
  margin-right: auto;
}
a.thumbnail:hover,
a.thumbnail:focus,
a.thumbnail.active {
  border-color: #337ab7;
}
.thumbnail .caption {
  padding: 9px;
  color: #000;
}
.alert {
  padding: 15px;
  margin-bottom: 18px;
  border: 1px solid transparent;
  border-radius: 2px;
}
.alert h4 {
  margin-top: 0;
  color: inherit;
}
.alert .alert-link {
  font-weight: bold;
}
.alert > p,
.alert > ul {
  margin-bottom: 0;
}
.alert > p + p {
  margin-top: 5px;
}
.alert-dismissable,
.alert-dismissible {
  padding-right: 35px;
}
.alert-dismissable .close,
.alert-dismissible .close {
  position: relative;
  top: -2px;
  right: -21px;
  color: inherit;
}
.alert-success {
  background-color: #dff0d8;
  border-color: #d6e9c6;
  color: #3c763d;
}
.alert-success hr {
  border-top-color: #c9e2b3;
}
.alert-success .alert-link {
  color: #2b542c;
}
.alert-info {
  background-color: #d9edf7;
  border-color: #bce8f1;
  color: #31708f;
}
.alert-info hr {
  border-top-color: #a6e1ec;
}
.alert-info .alert-link {
  color: #245269;
}
.alert-warning {
  background-color: #fcf8e3;
  border-color: #faebcc;
  color: #8a6d3b;
}
.alert-warning hr {
  border-top-color: #f7e1b5;
}
.alert-warning .alert-link {
  color: #66512c;
}
.alert-danger {
  background-color: #f2dede;
  border-color: #ebccd1;
  color: #a94442;
}
.alert-danger hr {
  border-top-color: #e4b9c0;
}
.alert-danger .alert-link {
  color: #843534;
}
@-webkit-keyframes progress-bar-stripes {
  from {
    background-position: 40px 0;
  }
  to {
    background-position: 0 0;
  }
}
@keyframes progress-bar-stripes {
  from {
    background-position: 40px 0;
  }
  to {
    background-position: 0 0;
  }
}
.progress {
  overflow: hidden;
  height: 18px;
  margin-bottom: 18px;
  background-color: #f5f5f5;
  border-radius: 2px;
  -webkit-box-shadow: inset 0 1px 2px rgba(0, 0, 0, 0.1);
  box-shadow: inset 0 1px 2px rgba(0, 0, 0, 0.1);
}
.progress-bar {
  float: left;
  width: 0%;
  height: 100%;
  font-size: 12px;
  line-height: 18px;
  color: #fff;
  text-align: center;
  background-color: #337ab7;
  -webkit-box-shadow: inset 0 -1px 0 rgba(0, 0, 0, 0.15);
  box-shadow: inset 0 -1px 0 rgba(0, 0, 0, 0.15);
  -webkit-transition: width 0.6s ease;
  -o-transition: width 0.6s ease;
  transition: width 0.6s ease;
}
.progress-striped .progress-bar,
.progress-bar-striped {
  background-image: -webkit-linear-gradient(45deg, rgba(255, 255, 255, 0.15) 25%, transparent 25%, transparent 50%, rgba(255, 255, 255, 0.15) 50%, rgba(255, 255, 255, 0.15) 75%, transparent 75%, transparent);
  background-image: -o-linear-gradient(45deg, rgba(255, 255, 255, 0.15) 25%, transparent 25%, transparent 50%, rgba(255, 255, 255, 0.15) 50%, rgba(255, 255, 255, 0.15) 75%, transparent 75%, transparent);
  background-image: linear-gradient(45deg, rgba(255, 255, 255, 0.15) 25%, transparent 25%, transparent 50%, rgba(255, 255, 255, 0.15) 50%, rgba(255, 255, 255, 0.15) 75%, transparent 75%, transparent);
  background-size: 40px 40px;
}
.progress.active .progress-bar,
.progress-bar.active {
  -webkit-animation: progress-bar-stripes 2s linear infinite;
  -o-animation: progress-bar-stripes 2s linear infinite;
  animation: progress-bar-stripes 2s linear infinite;
}
.progress-bar-success {
  background-color: #5cb85c;
}
.progress-striped .progress-bar-success {
  background-image: -webkit-linear-gradient(45deg, rgba(255, 255, 255, 0.15) 25%, transparent 25%, transparent 50%, rgba(255, 255, 255, 0.15) 50%, rgba(255, 255, 255, 0.15) 75%, transparent 75%, transparent);
  background-image: -o-linear-gradient(45deg, rgba(255, 255, 255, 0.15) 25%, transparent 25%, transparent 50%, rgba(255, 255, 255, 0.15) 50%, rgba(255, 255, 255, 0.15) 75%, transparent 75%, transparent);
  background-image: linear-gradient(45deg, rgba(255, 255, 255, 0.15) 25%, transparent 25%, transparent 50%, rgba(255, 255, 255, 0.15) 50%, rgba(255, 255, 255, 0.15) 75%, transparent 75%, transparent);
}
.progress-bar-info {
  background-color: #5bc0de;
}
.progress-striped .progress-bar-info {
  background-image: -webkit-linear-gradient(45deg, rgba(255, 255, 255, 0.15) 25%, transparent 25%, transparent 50%, rgba(255, 255, 255, 0.15) 50%, rgba(255, 255, 255, 0.15) 75%, transparent 75%, transparent);
  background-image: -o-linear-gradient(45deg, rgba(255, 255, 255, 0.15) 25%, transparent 25%, transparent 50%, rgba(255, 255, 255, 0.15) 50%, rgba(255, 255, 255, 0.15) 75%, transparent 75%, transparent);
  background-image: linear-gradient(45deg, rgba(255, 255, 255, 0.15) 25%, transparent 25%, transparent 50%, rgba(255, 255, 255, 0.15) 50%, rgba(255, 255, 255, 0.15) 75%, transparent 75%, transparent);
}
.progress-bar-warning {
  background-color: #f0ad4e;
}
.progress-striped .progress-bar-warning {
  background-image: -webkit-linear-gradient(45deg, rgba(255, 255, 255, 0.15) 25%, transparent 25%, transparent 50%, rgba(255, 255, 255, 0.15) 50%, rgba(255, 255, 255, 0.15) 75%, transparent 75%, transparent);
  background-image: -o-linear-gradient(45deg, rgba(255, 255, 255, 0.15) 25%, transparent 25%, transparent 50%, rgba(255, 255, 255, 0.15) 50%, rgba(255, 255, 255, 0.15) 75%, transparent 75%, transparent);
  background-image: linear-gradient(45deg, rgba(255, 255, 255, 0.15) 25%, transparent 25%, transparent 50%, rgba(255, 255, 255, 0.15) 50%, rgba(255, 255, 255, 0.15) 75%, transparent 75%, transparent);
}
.progress-bar-danger {
  background-color: #d9534f;
}
.progress-striped .progress-bar-danger {
  background-image: -webkit-linear-gradient(45deg, rgba(255, 255, 255, 0.15) 25%, transparent 25%, transparent 50%, rgba(255, 255, 255, 0.15) 50%, rgba(255, 255, 255, 0.15) 75%, transparent 75%, transparent);
  background-image: -o-linear-gradient(45deg, rgba(255, 255, 255, 0.15) 25%, transparent 25%, transparent 50%, rgba(255, 255, 255, 0.15) 50%, rgba(255, 255, 255, 0.15) 75%, transparent 75%, transparent);
  background-image: linear-gradient(45deg, rgba(255, 255, 255, 0.15) 25%, transparent 25%, transparent 50%, rgba(255, 255, 255, 0.15) 50%, rgba(255, 255, 255, 0.15) 75%, transparent 75%, transparent);
}
.media {
  margin-top: 15px;
}
.media:first-child {
  margin-top: 0;
}
.media,
.media-body {
  zoom: 1;
  overflow: hidden;
}
.media-body {
  width: 10000px;
}
.media-object {
  display: block;
}
.media-object.img-thumbnail {
  max-width: none;
}
.media-right,
.media > .pull-right {
  padding-left: 10px;
}
.media-left,
.media > .pull-left {
  padding-right: 10px;
}
.media-left,
.media-right,
.media-body {
  display: table-cell;
  vertical-align: top;
}
.media-middle {
  vertical-align: middle;
}
.media-bottom {
  vertical-align: bottom;
}
.media-heading {
  margin-top: 0;
  margin-bottom: 5px;
}
.media-list {
  padding-left: 0;
  list-style: none;
}
.list-group {
  margin-bottom: 20px;
  padding-left: 0;
}
.list-group-item {
  position: relative;
  display: block;
  padding: 10px 15px;
  margin-bottom: -1px;
  background-color: #fff;
  border: 1px solid #ddd;
}
.list-group-item:first-child {
  border-top-right-radius: 2px;
  border-top-left-radius: 2px;
}
.list-group-item:last-child {
  margin-bottom: 0;
  border-bottom-right-radius: 2px;
  border-bottom-left-radius: 2px;
}
a.list-group-item,
button.list-group-item {
  color: #555;
}
a.list-group-item .list-group-item-heading,
button.list-group-item .list-group-item-heading {
  color: #333;
}
a.list-group-item:hover,
button.list-group-item:hover,
a.list-group-item:focus,
button.list-group-item:focus {
  text-decoration: none;
  color: #555;
  background-color: #f5f5f5;
}
button.list-group-item {
  width: 100%;
  text-align: left;
}
.list-group-item.disabled,
.list-group-item.disabled:hover,
.list-group-item.disabled:focus {
  background-color: #eeeeee;
  color: #777777;
  cursor: not-allowed;
}
.list-group-item.disabled .list-group-item-heading,
.list-group-item.disabled:hover .list-group-item-heading,
.list-group-item.disabled:focus .list-group-item-heading {
  color: inherit;
}
.list-group-item.disabled .list-group-item-text,
.list-group-item.disabled:hover .list-group-item-text,
.list-group-item.disabled:focus .list-group-item-text {
  color: #777777;
}
.list-group-item.active,
.list-group-item.active:hover,
.list-group-item.active:focus {
  z-index: 2;
  color: #fff;
  background-color: #337ab7;
  border-color: #337ab7;
}
.list-group-item.active .list-group-item-heading,
.list-group-item.active:hover .list-group-item-heading,
.list-group-item.active:focus .list-group-item-heading,
.list-group-item.active .list-group-item-heading > small,
.list-group-item.active:hover .list-group-item-heading > small,
.list-group-item.active:focus .list-group-item-heading > small,
.list-group-item.active .list-group-item-heading > .small,
.list-group-item.active:hover .list-group-item-heading > .small,
.list-group-item.active:focus .list-group-item-heading > .small {
  color: inherit;
}
.list-group-item.active .list-group-item-text,
.list-group-item.active:hover .list-group-item-text,
.list-group-item.active:focus .list-group-item-text {
  color: #c7ddef;
}
.list-group-item-success {
  color: #3c763d;
  background-color: #dff0d8;
}
a.list-group-item-success,
button.list-group-item-success {
  color: #3c763d;
}
a.list-group-item-success .list-group-item-heading,
button.list-group-item-success .list-group-item-heading {
  color: inherit;
}
a.list-group-item-success:hover,
button.list-group-item-success:hover,
a.list-group-item-success:focus,
button.list-group-item-success:focus {
  color: #3c763d;
  background-color: #d0e9c6;
}
a.list-group-item-success.active,
button.list-group-item-success.active,
a.list-group-item-success.active:hover,
button.list-group-item-success.active:hover,
a.list-group-item-success.active:focus,
button.list-group-item-success.active:focus {
  color: #fff;
  background-color: #3c763d;
  border-color: #3c763d;
}
.list-group-item-info {
  color: #31708f;
  background-color: #d9edf7;
}
a.list-group-item-info,
button.list-group-item-info {
  color: #31708f;
}
a.list-group-item-info .list-group-item-heading,
button.list-group-item-info .list-group-item-heading {
  color: inherit;
}
a.list-group-item-info:hover,
button.list-group-item-info:hover,
a.list-group-item-info:focus,
button.list-group-item-info:focus {
  color: #31708f;
  background-color: #c4e3f3;
}
a.list-group-item-info.active,
button.list-group-item-info.active,
a.list-group-item-info.active:hover,
button.list-group-item-info.active:hover,
a.list-group-item-info.active:focus,
button.list-group-item-info.active:focus {
  color: #fff;
  background-color: #31708f;
  border-color: #31708f;
}
.list-group-item-warning {
  color: #8a6d3b;
  background-color: #fcf8e3;
}
a.list-group-item-warning,
button.list-group-item-warning {
  color: #8a6d3b;
}
a.list-group-item-warning .list-group-item-heading,
button.list-group-item-warning .list-group-item-heading {
  color: inherit;
}
a.list-group-item-warning:hover,
button.list-group-item-warning:hover,
a.list-group-item-warning:focus,
button.list-group-item-warning:focus {
  color: #8a6d3b;
  background-color: #faf2cc;
}
a.list-group-item-warning.active,
button.list-group-item-warning.active,
a.list-group-item-warning.active:hover,
button.list-group-item-warning.active:hover,
a.list-group-item-warning.active:focus,
button.list-group-item-warning.active:focus {
  color: #fff;
  background-color: #8a6d3b;
  border-color: #8a6d3b;
}
.list-group-item-danger {
  color: #a94442;
  background-color: #f2dede;
}
a.list-group-item-danger,
button.list-group-item-danger {
  color: #a94442;
}
a.list-group-item-danger .list-group-item-heading,
button.list-group-item-danger .list-group-item-heading {
  color: inherit;
}
a.list-group-item-danger:hover,
button.list-group-item-danger:hover,
a.list-group-item-danger:focus,
button.list-group-item-danger:focus {
  color: #a94442;
  background-color: #ebcccc;
}
a.list-group-item-danger.active,
button.list-group-item-danger.active,
a.list-group-item-danger.active:hover,
button.list-group-item-danger.active:hover,
a.list-group-item-danger.active:focus,
button.list-group-item-danger.active:focus {
  color: #fff;
  background-color: #a94442;
  border-color: #a94442;
}
.list-group-item-heading {
  margin-top: 0;
  margin-bottom: 5px;
}
.list-group-item-text {
  margin-bottom: 0;
  line-height: 1.3;
}
.panel {
  margin-bottom: 18px;
  background-color: #fff;
  border: 1px solid transparent;
  border-radius: 2px;
  -webkit-box-shadow: 0 1px 1px rgba(0, 0, 0, 0.05);
  box-shadow: 0 1px 1px rgba(0, 0, 0, 0.05);
}
.panel-body {
  padding: 15px;
}
.panel-heading {
  padding: 10px 15px;
  border-bottom: 1px solid transparent;
  border-top-right-radius: 1px;
  border-top-left-radius: 1px;
}
.panel-heading > .dropdown .dropdown-toggle {
  color: inherit;
}
.panel-title {
  margin-top: 0;
  margin-bottom: 0;
  font-size: 15px;
  color: inherit;
}
.panel-title > a,
.panel-title > small,
.panel-title > .small,
.panel-title > small > a,
.panel-title > .small > a {
  color: inherit;
}
.panel-footer {
  padding: 10px 15px;
  background-color: #f5f5f5;
  border-top: 1px solid #ddd;
  border-bottom-right-radius: 1px;
  border-bottom-left-radius: 1px;
}
.panel > .list-group,
.panel > .panel-collapse > .list-group {
  margin-bottom: 0;
}
.panel > .list-group .list-group-item,
.panel > .panel-collapse > .list-group .list-group-item {
  border-width: 1px 0;
  border-radius: 0;
}
.panel > .list-group:first-child .list-group-item:first-child,
.panel > .panel-collapse > .list-group:first-child .list-group-item:first-child {
  border-top: 0;
  border-top-right-radius: 1px;
  border-top-left-radius: 1px;
}
.panel > .list-group:last-child .list-group-item:last-child,
.panel > .panel-collapse > .list-group:last-child .list-group-item:last-child {
  border-bottom: 0;
  border-bottom-right-radius: 1px;
  border-bottom-left-radius: 1px;
}
.panel > .panel-heading + .panel-collapse > .list-group .list-group-item:first-child {
  border-top-right-radius: 0;
  border-top-left-radius: 0;
}
.panel-heading + .list-group .list-group-item:first-child {
  border-top-width: 0;
}
.list-group + .panel-footer {
  border-top-width: 0;
}
.panel > .table,
.panel > .table-responsive > .table,
.panel > .panel-collapse > .table {
  margin-bottom: 0;
}
.panel > .table caption,
.panel > .table-responsive > .table caption,
.panel > .panel-collapse > .table caption {
  padding-left: 15px;
  padding-right: 15px;
}
.panel > .table:first-child,
.panel > .table-responsive:first-child > .table:first-child {
  border-top-right-radius: 1px;
  border-top-left-radius: 1px;
}
.panel > .table:first-child > thead:first-child > tr:first-child,
.panel > .table-responsive:first-child > .table:first-child > thead:first-child > tr:first-child,
.panel > .table:first-child > tbody:first-child > tr:first-child,
.panel > .table-responsive:first-child > .table:first-child > tbody:first-child > tr:first-child {
  border-top-left-radius: 1px;
  border-top-right-radius: 1px;
}
.panel > .table:first-child > thead:first-child > tr:first-child td:first-child,
.panel > .table-responsive:first-child > .table:first-child > thead:first-child > tr:first-child td:first-child,
.panel > .table:first-child > tbody:first-child > tr:first-child td:first-child,
.panel > .table-responsive:first-child > .table:first-child > tbody:first-child > tr:first-child td:first-child,
.panel > .table:first-child > thead:first-child > tr:first-child th:first-child,
.panel > .table-responsive:first-child > .table:first-child > thead:first-child > tr:first-child th:first-child,
.panel > .table:first-child > tbody:first-child > tr:first-child th:first-child,
.panel > .table-responsive:first-child > .table:first-child > tbody:first-child > tr:first-child th:first-child {
  border-top-left-radius: 1px;
}
.panel > .table:first-child > thead:first-child > tr:first-child td:last-child,
.panel > .table-responsive:first-child > .table:first-child > thead:first-child > tr:first-child td:last-child,
.panel > .table:first-child > tbody:first-child > tr:first-child td:last-child,
.panel > .table-responsive:first-child > .table:first-child > tbody:first-child > tr:first-child td:last-child,
.panel > .table:first-child > thead:first-child > tr:first-child th:last-child,
.panel > .table-responsive:first-child > .table:first-child > thead:first-child > tr:first-child th:last-child,
.panel > .table:first-child > tbody:first-child > tr:first-child th:last-child,
.panel > .table-responsive:first-child > .table:first-child > tbody:first-child > tr:first-child th:last-child {
  border-top-right-radius: 1px;
}
.panel > .table:last-child,
.panel > .table-responsive:last-child > .table:last-child {
  border-bottom-right-radius: 1px;
  border-bottom-left-radius: 1px;
}
.panel > .table:last-child > tbody:last-child > tr:last-child,
.panel > .table-responsive:last-child > .table:last-child > tbody:last-child > tr:last-child,
.panel > .table:last-child > tfoot:last-child > tr:last-child,
.panel > .table-responsive:last-child > .table:last-child > tfoot:last-child > tr:last-child {
  border-bottom-left-radius: 1px;
  border-bottom-right-radius: 1px;
}
.panel > .table:last-child > tbody:last-child > tr:last-child td:first-child,
.panel > .table-responsive:last-child > .table:last-child > tbody:last-child > tr:last-child td:first-child,
.panel > .table:last-child > tfoot:last-child > tr:last-child td:first-child,
.panel > .table-responsive:last-child > .table:last-child > tfoot:last-child > tr:last-child td:first-child,
.panel > .table:last-child > tbody:last-child > tr:last-child th:first-child,
.panel > .table-responsive:last-child > .table:last-child > tbody:last-child > tr:last-child th:first-child,
.panel > .table:last-child > tfoot:last-child > tr:last-child th:first-child,
.panel > .table-responsive:last-child > .table:last-child > tfoot:last-child > tr:last-child th:first-child {
  border-bottom-left-radius: 1px;
}
.panel > .table:last-child > tbody:last-child > tr:last-child td:last-child,
.panel > .table-responsive:last-child > .table:last-child > tbody:last-child > tr:last-child td:last-child,
.panel > .table:last-child > tfoot:last-child > tr:last-child td:last-child,
.panel > .table-responsive:last-child > .table:last-child > tfoot:last-child > tr:last-child td:last-child,
.panel > .table:last-child > tbody:last-child > tr:last-child th:last-child,
.panel > .table-responsive:last-child > .table:last-child > tbody:last-child > tr:last-child th:last-child,
.panel > .table:last-child > tfoot:last-child > tr:last-child th:last-child,
.panel > .table-responsive:last-child > .table:last-child > tfoot:last-child > tr:last-child th:last-child {
  border-bottom-right-radius: 1px;
}
.panel > .panel-body + .table,
.panel > .panel-body + .table-responsive,
.panel > .table + .panel-body,
.panel > .table-responsive + .panel-body {
  border-top: 1px solid #ddd;
}
.panel > .table > tbody:first-child > tr:first-child th,
.panel > .table > tbody:first-child > tr:first-child td {
  border-top: 0;
}
.panel > .table-bordered,
.panel > .table-responsive > .table-bordered {
  border: 0;
}
.panel > .table-bordered > thead > tr > th:first-child,
.panel > .table-responsive > .table-bordered > thead > tr > th:first-child,
.panel > .table-bordered > tbody > tr > th:first-child,
.panel > .table-responsive > .table-bordered > tbody > tr > th:first-child,
.panel > .table-bordered > tfoot > tr > th:first-child,
.panel > .table-responsive > .table-bordered > tfoot > tr > th:first-child,
.panel > .table-bordered > thead > tr > td:first-child,
.panel > .table-responsive > .table-bordered > thead > tr > td:first-child,
.panel > .table-bordered > tbody > tr > td:first-child,
.panel > .table-responsive > .table-bordered > tbody > tr > td:first-child,
.panel > .table-bordered > tfoot > tr > td:first-child,
.panel > .table-responsive > .table-bordered > tfoot > tr > td:first-child {
  border-left: 0;
}
.panel > .table-bordered > thead > tr > th:last-child,
.panel > .table-responsive > .table-bordered > thead > tr > th:last-child,
.panel > .table-bordered > tbody > tr > th:last-child,
.panel > .table-responsive > .table-bordered > tbody > tr > th:last-child,
.panel > .table-bordered > tfoot > tr > th:last-child,
.panel > .table-responsive > .table-bordered > tfoot > tr > th:last-child,
.panel > .table-bordered > thead > tr > td:last-child,
.panel > .table-responsive > .table-bordered > thead > tr > td:last-child,
.panel > .table-bordered > tbody > tr > td:last-child,
.panel > .table-responsive > .table-bordered > tbody > tr > td:last-child,
.panel > .table-bordered > tfoot > tr > td:last-child,
.panel > .table-responsive > .table-bordered > tfoot > tr > td:last-child {
  border-right: 0;
}
.panel > .table-bordered > thead > tr:first-child > td,
.panel > .table-responsive > .table-bordered > thead > tr:first-child > td,
.panel > .table-bordered > tbody > tr:first-child > td,
.panel > .table-responsive > .table-bordered > tbody > tr:first-child > td,
.panel > .table-bordered > thead > tr:first-child > th,
.panel > .table-responsive > .table-bordered > thead > tr:first-child > th,
.panel > .table-bordered > tbody > tr:first-child > th,
.panel > .table-responsive > .table-bordered > tbody > tr:first-child > th {
  border-bottom: 0;
}
.panel > .table-bordered > tbody > tr:last-child > td,
.panel > .table-responsive > .table-bordered > tbody > tr:last-child > td,
.panel > .table-bordered > tfoot > tr:last-child > td,
.panel > .table-responsive > .table-bordered > tfoot > tr:last-child > td,
.panel > .table-bordered > tbody > tr:last-child > th,
.panel > .table-responsive > .table-bordered > tbody > tr:last-child > th,
.panel > .table-bordered > tfoot > tr:last-child > th,
.panel > .table-responsive > .table-bordered > tfoot > tr:last-child > th {
  border-bottom: 0;
}
.panel > .table-responsive {
  border: 0;
  margin-bottom: 0;
}
.panel-group {
  margin-bottom: 18px;
}
.panel-group .panel {
  margin-bottom: 0;
  border-radius: 2px;
}
.panel-group .panel + .panel {
  margin-top: 5px;
}
.panel-group .panel-heading {
  border-bottom: 0;
}
.panel-group .panel-heading + .panel-collapse > .panel-body,
.panel-group .panel-heading + .panel-collapse > .list-group {
  border-top: 1px solid #ddd;
}
.panel-group .panel-footer {
  border-top: 0;
}
.panel-group .panel-footer + .panel-collapse .panel-body {
  border-bottom: 1px solid #ddd;
}
.panel-default {
  border-color: #ddd;
}
.panel-default > .panel-heading {
  color: #333333;
  background-color: #f5f5f5;
  border-color: #ddd;
}
.panel-default > .panel-heading + .panel-collapse > .panel-body {
  border-top-color: #ddd;
}
.panel-default > .panel-heading .badge {
  color: #f5f5f5;
  background-color: #333333;
}
.panel-default > .panel-footer + .panel-collapse > .panel-body {
  border-bottom-color: #ddd;
}
.panel-primary {
  border-color: #337ab7;
}
.panel-primary > .panel-heading {
  color: #fff;
  background-color: #337ab7;
  border-color: #337ab7;
}
.panel-primary > .panel-heading + .panel-collapse > .panel-body {
  border-top-color: #337ab7;
}
.panel-primary > .panel-heading .badge {
  color: #337ab7;
  background-color: #fff;
}
.panel-primary > .panel-footer + .panel-collapse > .panel-body {
  border-bottom-color: #337ab7;
}
.panel-success {
  border-color: #d6e9c6;
}
.panel-success > .panel-heading {
  color: #3c763d;
  background-color: #dff0d8;
  border-color: #d6e9c6;
}
.panel-success > .panel-heading + .panel-collapse > .panel-body {
  border-top-color: #d6e9c6;
}
.panel-success > .panel-heading .badge {
  color: #dff0d8;
  background-color: #3c763d;
}
.panel-success > .panel-footer + .panel-collapse > .panel-body {
  border-bottom-color: #d6e9c6;
}
.panel-info {
  border-color: #bce8f1;
}
.panel-info > .panel-heading {
  color: #31708f;
  background-color: #d9edf7;
  border-color: #bce8f1;
}
.panel-info > .panel-heading + .panel-collapse > .panel-body {
  border-top-color: #bce8f1;
}
.panel-info > .panel-heading .badge {
  color: #d9edf7;
  background-color: #31708f;
}
.panel-info > .panel-footer + .panel-collapse > .panel-body {
  border-bottom-color: #bce8f1;
}
.panel-warning {
  border-color: #faebcc;
}
.panel-warning > .panel-heading {
  color: #8a6d3b;
  background-color: #fcf8e3;
  border-color: #faebcc;
}
.panel-warning > .panel-heading + .panel-collapse > .panel-body {
  border-top-color: #faebcc;
}
.panel-warning > .panel-heading .badge {
  color: #fcf8e3;
  background-color: #8a6d3b;
}
.panel-warning > .panel-footer + .panel-collapse > .panel-body {
  border-bottom-color: #faebcc;
}
.panel-danger {
  border-color: #ebccd1;
}
.panel-danger > .panel-heading {
  color: #a94442;
  background-color: #f2dede;
  border-color: #ebccd1;
}
.panel-danger > .panel-heading + .panel-collapse > .panel-body {
  border-top-color: #ebccd1;
}
.panel-danger > .panel-heading .badge {
  color: #f2dede;
  background-color: #a94442;
}
.panel-danger > .panel-footer + .panel-collapse > .panel-body {
  border-bottom-color: #ebccd1;
}
.embed-responsive {
  position: relative;
  display: block;
  height: 0;
  padding: 0;
  overflow: hidden;
}
.embed-responsive .embed-responsive-item,
.embed-responsive iframe,
.embed-responsive embed,
.embed-responsive object,
.embed-responsive video {
  position: absolute;
  top: 0;
  left: 0;
  bottom: 0;
  height: 100%;
  width: 100%;
  border: 0;
}
.embed-responsive-16by9 {
  padding-bottom: 56.25%;
}
.embed-responsive-4by3 {
  padding-bottom: 75%;
}
.well {
  min-height: 20px;
  padding: 19px;
  margin-bottom: 20px;
  background-color: #f5f5f5;
  border: 1px solid #e3e3e3;
  border-radius: 2px;
  -webkit-box-shadow: inset 0 1px 1px rgba(0, 0, 0, 0.05);
  box-shadow: inset 0 1px 1px rgba(0, 0, 0, 0.05);
}
.well blockquote {
  border-color: #ddd;
  border-color: rgba(0, 0, 0, 0.15);
}
.well-lg {
  padding: 24px;
  border-radius: 3px;
}
.well-sm {
  padding: 9px;
  border-radius: 1px;
}
.close {
  float: right;
  font-size: 19.5px;
  font-weight: bold;
  line-height: 1;
  color: #000;
  text-shadow: 0 1px 0 #fff;
  opacity: 0.2;
  filter: alpha(opacity=20);
}
.close:hover,
.close:focus {
  color: #000;
  text-decoration: none;
  cursor: pointer;
  opacity: 0.5;
  filter: alpha(opacity=50);
}
button.close {
  padding: 0;
  cursor: pointer;
  background: transparent;
  border: 0;
  -webkit-appearance: none;
}
.modal-open {
  overflow: hidden;
}
.modal {
  display: none;
  overflow: hidden;
  position: fixed;
  top: 0;
  right: 0;
  bottom: 0;
  left: 0;
  z-index: 1050;
  -webkit-overflow-scrolling: touch;
  outline: 0;
}
.modal.fade .modal-dialog {
  -webkit-transform: translate(0, -25%);
  -ms-transform: translate(0, -25%);
  -o-transform: translate(0, -25%);
  transform: translate(0, -25%);
  -webkit-transition: -webkit-transform 0.3s ease-out;
  -moz-transition: -moz-transform 0.3s ease-out;
  -o-transition: -o-transform 0.3s ease-out;
  transition: transform 0.3s ease-out;
}
.modal.in .modal-dialog {
  -webkit-transform: translate(0, 0);
  -ms-transform: translate(0, 0);
  -o-transform: translate(0, 0);
  transform: translate(0, 0);
}
.modal-open .modal {
  overflow-x: hidden;
  overflow-y: auto;
}
.modal-dialog {
  position: relative;
  width: auto;
  margin: 10px;
}
.modal-content {
  position: relative;
  background-color: #fff;
  border: 1px solid #999;
  border: 1px solid rgba(0, 0, 0, 0.2);
  border-radius: 3px;
  -webkit-box-shadow: 0 3px 9px rgba(0, 0, 0, 0.5);
  box-shadow: 0 3px 9px rgba(0, 0, 0, 0.5);
  background-clip: padding-box;
  outline: 0;
}
.modal-backdrop {
  position: fixed;
  top: 0;
  right: 0;
  bottom: 0;
  left: 0;
  z-index: 1040;
  background-color: #000;
}
.modal-backdrop.fade {
  opacity: 0;
  filter: alpha(opacity=0);
}
.modal-backdrop.in {
  opacity: 0.5;
  filter: alpha(opacity=50);
}
.modal-header {
  padding: 15px;
  border-bottom: 1px solid #e5e5e5;
}
.modal-header .close {
  margin-top: -2px;
}
.modal-title {
  margin: 0;
  line-height: 1.42857143;
}
.modal-body {
  position: relative;
  padding: 15px;
}
.modal-footer {
  padding: 15px;
  text-align: right;
  border-top: 1px solid #e5e5e5;
}
.modal-footer .btn + .btn {
  margin-left: 5px;
  margin-bottom: 0;
}
.modal-footer .btn-group .btn + .btn {
  margin-left: -1px;
}
.modal-footer .btn-block + .btn-block {
  margin-left: 0;
}
.modal-scrollbar-measure {
  position: absolute;
  top: -9999px;
  width: 50px;
  height: 50px;
  overflow: scroll;
}
@media (min-width: 768px) {
  .modal-dialog {
    width: 600px;
    margin: 30px auto;
  }
  .modal-content {
    -webkit-box-shadow: 0 5px 15px rgba(0, 0, 0, 0.5);
    box-shadow: 0 5px 15px rgba(0, 0, 0, 0.5);
  }
  .modal-sm {
    width: 300px;
  }
}
@media (min-width: 992px) {
  .modal-lg {
    width: 900px;
  }
}
.tooltip {
  position: absolute;
  z-index: 1070;
  display: block;
  font-family: "Helvetica Neue", Helvetica, Arial, sans-serif;
  font-style: normal;
  font-weight: normal;
  letter-spacing: normal;
  line-break: auto;
  line-height: 1.42857143;
  text-align: left;
  text-align: start;
  text-decoration: none;
  text-shadow: none;
  text-transform: none;
  white-space: normal;
  word-break: normal;
  word-spacing: normal;
  word-wrap: normal;
  font-size: 12px;
  opacity: 0;
  filter: alpha(opacity=0);
}
.tooltip.in {
  opacity: 0.9;
  filter: alpha(opacity=90);
}
.tooltip.top {
  margin-top: -3px;
  padding: 5px 0;
}
.tooltip.right {
  margin-left: 3px;
  padding: 0 5px;
}
.tooltip.bottom {
  margin-top: 3px;
  padding: 5px 0;
}
.tooltip.left {
  margin-left: -3px;
  padding: 0 5px;
}
.tooltip-inner {
  max-width: 200px;
  padding: 3px 8px;
  color: #fff;
  text-align: center;
  background-color: #000;
  border-radius: 2px;
}
.tooltip-arrow {
  position: absolute;
  width: 0;
  height: 0;
  border-color: transparent;
  border-style: solid;
}
.tooltip.top .tooltip-arrow {
  bottom: 0;
  left: 50%;
  margin-left: -5px;
  border-width: 5px 5px 0;
  border-top-color: #000;
}
.tooltip.top-left .tooltip-arrow {
  bottom: 0;
  right: 5px;
  margin-bottom: -5px;
  border-width: 5px 5px 0;
  border-top-color: #000;
}
.tooltip.top-right .tooltip-arrow {
  bottom: 0;
  left: 5px;
  margin-bottom: -5px;
  border-width: 5px 5px 0;
  border-top-color: #000;
}
.tooltip.right .tooltip-arrow {
  top: 50%;
  left: 0;
  margin-top: -5px;
  border-width: 5px 5px 5px 0;
  border-right-color: #000;
}
.tooltip.left .tooltip-arrow {
  top: 50%;
  right: 0;
  margin-top: -5px;
  border-width: 5px 0 5px 5px;
  border-left-color: #000;
}
.tooltip.bottom .tooltip-arrow {
  top: 0;
  left: 50%;
  margin-left: -5px;
  border-width: 0 5px 5px;
  border-bottom-color: #000;
}
.tooltip.bottom-left .tooltip-arrow {
  top: 0;
  right: 5px;
  margin-top: -5px;
  border-width: 0 5px 5px;
  border-bottom-color: #000;
}
.tooltip.bottom-right .tooltip-arrow {
  top: 0;
  left: 5px;
  margin-top: -5px;
  border-width: 0 5px 5px;
  border-bottom-color: #000;
}
.popover {
  position: absolute;
  top: 0;
  left: 0;
  z-index: 1060;
  display: none;
  max-width: 276px;
  padding: 1px;
  font-family: "Helvetica Neue", Helvetica, Arial, sans-serif;
  font-style: normal;
  font-weight: normal;
  letter-spacing: normal;
  line-break: auto;
  line-height: 1.42857143;
  text-align: left;
  text-align: start;
  text-decoration: none;
  text-shadow: none;
  text-transform: none;
  white-space: normal;
  word-break: normal;
  word-spacing: normal;
  word-wrap: normal;
  font-size: 13px;
  background-color: #fff;
  background-clip: padding-box;
  border: 1px solid #ccc;
  border: 1px solid rgba(0, 0, 0, 0.2);
  border-radius: 3px;
  -webkit-box-shadow: 0 5px 10px rgba(0, 0, 0, 0.2);
  box-shadow: 0 5px 10px rgba(0, 0, 0, 0.2);
}
.popover.top {
  margin-top: -10px;
}
.popover.right {
  margin-left: 10px;
}
.popover.bottom {
  margin-top: 10px;
}
.popover.left {
  margin-left: -10px;
}
.popover-title {
  margin: 0;
  padding: 8px 14px;
  font-size: 13px;
  background-color: #f7f7f7;
  border-bottom: 1px solid #ebebeb;
  border-radius: 2px 2px 0 0;
}
.popover-content {
  padding: 9px 14px;
}
.popover > .arrow,
.popover > .arrow:after {
  position: absolute;
  display: block;
  width: 0;
  height: 0;
  border-color: transparent;
  border-style: solid;
}
.popover > .arrow {
  border-width: 11px;
}
.popover > .arrow:after {
  border-width: 10px;
  content: "";
}
.popover.top > .arrow {
  left: 50%;
  margin-left: -11px;
  border-bottom-width: 0;
  border-top-color: #999999;
  border-top-color: rgba(0, 0, 0, 0.25);
  bottom: -11px;
}
.popover.top > .arrow:after {
  content: " ";
  bottom: 1px;
  margin-left: -10px;
  border-bottom-width: 0;
  border-top-color: #fff;
}
.popover.right > .arrow {
  top: 50%;
  left: -11px;
  margin-top: -11px;
  border-left-width: 0;
  border-right-color: #999999;
  border-right-color: rgba(0, 0, 0, 0.25);
}
.popover.right > .arrow:after {
  content: " ";
  left: 1px;
  bottom: -10px;
  border-left-width: 0;
  border-right-color: #fff;
}
.popover.bottom > .arrow {
  left: 50%;
  margin-left: -11px;
  border-top-width: 0;
  border-bottom-color: #999999;
  border-bottom-color: rgba(0, 0, 0, 0.25);
  top: -11px;
}
.popover.bottom > .arrow:after {
  content: " ";
  top: 1px;
  margin-left: -10px;
  border-top-width: 0;
  border-bottom-color: #fff;
}
.popover.left > .arrow {
  top: 50%;
  right: -11px;
  margin-top: -11px;
  border-right-width: 0;
  border-left-color: #999999;
  border-left-color: rgba(0, 0, 0, 0.25);
}
.popover.left > .arrow:after {
  content: " ";
  right: 1px;
  border-right-width: 0;
  border-left-color: #fff;
  bottom: -10px;
}
.carousel {
  position: relative;
}
.carousel-inner {
  position: relative;
  overflow: hidden;
  width: 100%;
}
.carousel-inner > .item {
  display: none;
  position: relative;
  -webkit-transition: 0.6s ease-in-out left;
  -o-transition: 0.6s ease-in-out left;
  transition: 0.6s ease-in-out left;
}
.carousel-inner > .item > img,
.carousel-inner > .item > a > img {
  line-height: 1;
}
@media all and (transform-3d), (-webkit-transform-3d) {
  .carousel-inner > .item {
    -webkit-transition: -webkit-transform 0.6s ease-in-out;
    -moz-transition: -moz-transform 0.6s ease-in-out;
    -o-transition: -o-transform 0.6s ease-in-out;
    transition: transform 0.6s ease-in-out;
    -webkit-backface-visibility: hidden;
    -moz-backface-visibility: hidden;
    backface-visibility: hidden;
    -webkit-perspective: 1000px;
    -moz-perspective: 1000px;
    perspective: 1000px;
  }
  .carousel-inner > .item.next,
  .carousel-inner > .item.active.right {
    -webkit-transform: translate3d(100%, 0, 0);
    transform: translate3d(100%, 0, 0);
    left: 0;
  }
  .carousel-inner > .item.prev,
  .carousel-inner > .item.active.left {
    -webkit-transform: translate3d(-100%, 0, 0);
    transform: translate3d(-100%, 0, 0);
    left: 0;
  }
  .carousel-inner > .item.next.left,
  .carousel-inner > .item.prev.right,
  .carousel-inner > .item.active {
    -webkit-transform: translate3d(0, 0, 0);
    transform: translate3d(0, 0, 0);
    left: 0;
  }
}
.carousel-inner > .active,
.carousel-inner > .next,
.carousel-inner > .prev {
  display: block;
}
.carousel-inner > .active {
  left: 0;
}
.carousel-inner > .next,
.carousel-inner > .prev {
  position: absolute;
  top: 0;
  width: 100%;
}
.carousel-inner > .next {
  left: 100%;
}
.carousel-inner > .prev {
  left: -100%;
}
.carousel-inner > .next.left,
.carousel-inner > .prev.right {
  left: 0;
}
.carousel-inner > .active.left {
  left: -100%;
}
.carousel-inner > .active.right {
  left: 100%;
}
.carousel-control {
  position: absolute;
  top: 0;
  left: 0;
  bottom: 0;
  width: 15%;
  opacity: 0.5;
  filter: alpha(opacity=50);
  font-size: 20px;
  color: #fff;
  text-align: center;
  text-shadow: 0 1px 2px rgba(0, 0, 0, 0.6);
  background-color: rgba(0, 0, 0, 0);
}
.carousel-control.left {
  background-image: -webkit-linear-gradient(left, rgba(0, 0, 0, 0.5) 0%, rgba(0, 0, 0, 0.0001) 100%);
  background-image: -o-linear-gradient(left, rgba(0, 0, 0, 0.5) 0%, rgba(0, 0, 0, 0.0001) 100%);
  background-image: linear-gradient(to right, rgba(0, 0, 0, 0.5) 0%, rgba(0, 0, 0, 0.0001) 100%);
  background-repeat: repeat-x;
  filter: progid:DXImageTransform.Microsoft.gradient(startColorstr='#80000000', endColorstr='#00000000', GradientType=1);
}
.carousel-control.right {
  left: auto;
  right: 0;
  background-image: -webkit-linear-gradient(left, rgba(0, 0, 0, 0.0001) 0%, rgba(0, 0, 0, 0.5) 100%);
  background-image: -o-linear-gradient(left, rgba(0, 0, 0, 0.0001) 0%, rgba(0, 0, 0, 0.5) 100%);
  background-image: linear-gradient(to right, rgba(0, 0, 0, 0.0001) 0%, rgba(0, 0, 0, 0.5) 100%);
  background-repeat: repeat-x;
  filter: progid:DXImageTransform.Microsoft.gradient(startColorstr='#00000000', endColorstr='#80000000', GradientType=1);
}
.carousel-control:hover,
.carousel-control:focus {
  outline: 0;
  color: #fff;
  text-decoration: none;
  opacity: 0.9;
  filter: alpha(opacity=90);
}
.carousel-control .icon-prev,
.carousel-control .icon-next,
.carousel-control .glyphicon-chevron-left,
.carousel-control .glyphicon-chevron-right {
  position: absolute;
  top: 50%;
  margin-top: -10px;
  z-index: 5;
  display: inline-block;
}
.carousel-control .icon-prev,
.carousel-control .glyphicon-chevron-left {
  left: 50%;
  margin-left: -10px;
}
.carousel-control .icon-next,
.carousel-control .glyphicon-chevron-right {
  right: 50%;
  margin-right: -10px;
}
.carousel-control .icon-prev,
.carousel-control .icon-next {
  width: 20px;
  height: 20px;
  line-height: 1;
  font-family: serif;
}
.carousel-control .icon-prev:before {
  content: '\2039';
}
.carousel-control .icon-next:before {
  content: '\203a';
}
.carousel-indicators {
  position: absolute;
  bottom: 10px;
  left: 50%;
  z-index: 15;
  width: 60%;
  margin-left: -30%;
  padding-left: 0;
  list-style: none;
  text-align: center;
}
.carousel-indicators li {
  display: inline-block;
  width: 10px;
  height: 10px;
  margin: 1px;
  text-indent: -999px;
  border: 1px solid #fff;
  border-radius: 10px;
  cursor: pointer;
  background-color: #000 \9;
  background-color: rgba(0, 0, 0, 0);
}
.carousel-indicators .active {
  margin: 0;
  width: 12px;
  height: 12px;
  background-color: #fff;
}
.carousel-caption {
  position: absolute;
  left: 15%;
  right: 15%;
  bottom: 20px;
  z-index: 10;
  padding-top: 20px;
  padding-bottom: 20px;
  color: #fff;
  text-align: center;
  text-shadow: 0 1px 2px rgba(0, 0, 0, 0.6);
}
.carousel-caption .btn {
  text-shadow: none;
}
@media screen and (min-width: 768px) {
  .carousel-control .glyphicon-chevron-left,
  .carousel-control .glyphicon-chevron-right,
  .carousel-control .icon-prev,
  .carousel-control .icon-next {
    width: 30px;
    height: 30px;
    margin-top: -10px;
    font-size: 30px;
  }
  .carousel-control .glyphicon-chevron-left,
  .carousel-control .icon-prev {
    margin-left: -10px;
  }
  .carousel-control .glyphicon-chevron-right,
  .carousel-control .icon-next {
    margin-right: -10px;
  }
  .carousel-caption {
    left: 20%;
    right: 20%;
    padding-bottom: 30px;
  }
  .carousel-indicators {
    bottom: 20px;
  }
}
.clearfix:before,
.clearfix:after,
.dl-horizontal dd:before,
.dl-horizontal dd:after,
.container:before,
.container:after,
.container-fluid:before,
.container-fluid:after,
.row:before,
.row:after,
.form-horizontal .form-group:before,
.form-horizontal .form-group:after,
.btn-toolbar:before,
.btn-toolbar:after,
.btn-group-vertical > .btn-group:before,
.btn-group-vertical > .btn-group:after,
.nav:before,
.nav:after,
.navbar:before,
.navbar:after,
.navbar-header:before,
.navbar-header:after,
.navbar-collapse:before,
.navbar-collapse:after,
.pager:before,
.pager:after,
.panel-body:before,
.panel-body:after,
.modal-header:before,
.modal-header:after,
.modal-footer:before,
.modal-footer:after,
.item_buttons:before,
.item_buttons:after {
  content: " ";
  display: table;
}
.clearfix:after,
.dl-horizontal dd:after,
.container:after,
.container-fluid:after,
.row:after,
.form-horizontal .form-group:after,
.btn-toolbar:after,
.btn-group-vertical > .btn-group:after,
.nav:after,
.navbar:after,
.navbar-header:after,
.navbar-collapse:after,
.pager:after,
.panel-body:after,
.modal-header:after,
.modal-footer:after,
.item_buttons:after {
  clear: both;
}
.center-block {
  display: block;
  margin-left: auto;
  margin-right: auto;
}
.pull-right {
  float: right !important;
}
.pull-left {
  float: left !important;
}
.hide {
  display: none !important;
}
.show {
  display: block !important;
}
.invisible {
  visibility: hidden;
}
.text-hide {
  font: 0/0 a;
  color: transparent;
  text-shadow: none;
  background-color: transparent;
  border: 0;
}
.hidden {
  display: none !important;
}
.affix {
  position: fixed;
}
@-ms-viewport {
  width: device-width;
}
.visible-xs,
.visible-sm,
.visible-md,
.visible-lg {
  display: none !important;
}
.visible-xs-block,
.visible-xs-inline,
.visible-xs-inline-block,
.visible-sm-block,
.visible-sm-inline,
.visible-sm-inline-block,
.visible-md-block,
.visible-md-inline,
.visible-md-inline-block,
.visible-lg-block,
.visible-lg-inline,
.visible-lg-inline-block {
  display: none !important;
}
@media (max-width: 767px) {
  .visible-xs {
    display: block !important;
  }
  table.visible-xs {
    display: table !important;
  }
  tr.visible-xs {
    display: table-row !important;
  }
  th.visible-xs,
  td.visible-xs {
    display: table-cell !important;
  }
}
@media (max-width: 767px) {
  .visible-xs-block {
    display: block !important;
  }
}
@media (max-width: 767px) {
  .visible-xs-inline {
    display: inline !important;
  }
}
@media (max-width: 767px) {
  .visible-xs-inline-block {
    display: inline-block !important;
  }
}
@media (min-width: 768px) and (max-width: 991px) {
  .visible-sm {
    display: block !important;
  }
  table.visible-sm {
    display: table !important;
  }
  tr.visible-sm {
    display: table-row !important;
  }
  th.visible-sm,
  td.visible-sm {
    display: table-cell !important;
  }
}
@media (min-width: 768px) and (max-width: 991px) {
  .visible-sm-block {
    display: block !important;
  }
}
@media (min-width: 768px) and (max-width: 991px) {
  .visible-sm-inline {
    display: inline !important;
  }
}
@media (min-width: 768px) and (max-width: 991px) {
  .visible-sm-inline-block {
    display: inline-block !important;
  }
}
@media (min-width: 992px) and (max-width: 1199px) {
  .visible-md {
    display: block !important;
  }
  table.visible-md {
    display: table !important;
  }
  tr.visible-md {
    display: table-row !important;
  }
  th.visible-md,
  td.visible-md {
    display: table-cell !important;
  }
}
@media (min-width: 992px) and (max-width: 1199px) {
  .visible-md-block {
    display: block !important;
  }
}
@media (min-width: 992px) and (max-width: 1199px) {
  .visible-md-inline {
    display: inline !important;
  }
}
@media (min-width: 992px) and (max-width: 1199px) {
  .visible-md-inline-block {
    display: inline-block !important;
  }
}
@media (min-width: 1200px) {
  .visible-lg {
    display: block !important;
  }
  table.visible-lg {
    display: table !important;
  }
  tr.visible-lg {
    display: table-row !important;
  }
  th.visible-lg,
  td.visible-lg {
    display: table-cell !important;
  }
}
@media (min-width: 1200px) {
  .visible-lg-block {
    display: block !important;
  }
}
@media (min-width: 1200px) {
  .visible-lg-inline {
    display: inline !important;
  }
}
@media (min-width: 1200px) {
  .visible-lg-inline-block {
    display: inline-block !important;
  }
}
@media (max-width: 767px) {
  .hidden-xs {
    display: none !important;
  }
}
@media (min-width: 768px) and (max-width: 991px) {
  .hidden-sm {
    display: none !important;
  }
}
@media (min-width: 992px) and (max-width: 1199px) {
  .hidden-md {
    display: none !important;
  }
}
@media (min-width: 1200px) {
  .hidden-lg {
    display: none !important;
  }
}
.visible-print {
  display: none !important;
}
@media print {
  .visible-print {
    display: block !important;
  }
  table.visible-print {
    display: table !important;
  }
  tr.visible-print {
    display: table-row !important;
  }
  th.visible-print,
  td.visible-print {
    display: table-cell !important;
  }
}
.visible-print-block {
  display: none !important;
}
@media print {
  .visible-print-block {
    display: block !important;
  }
}
.visible-print-inline {
  display: none !important;
}
@media print {
  .visible-print-inline {
    display: inline !important;
  }
}
.visible-print-inline-block {
  display: none !important;
}
@media print {
  .visible-print-inline-block {
    display: inline-block !important;
  }
}
@media print {
  .hidden-print {
    display: none !important;
  }
}
/*!
*
* Font Awesome
*
*/
/*!
 *  Font Awesome 4.7.0 by @davegandy - http://fontawesome.io - @fontawesome
 *  License - http://fontawesome.io/license (Font: SIL OFL 1.1, CSS: MIT License)
 */
/* FONT PATH
 * -------------------------- */
@font-face {
  font-family: 'FontAwesome';
  src: url('../components/font-awesome/fonts/fontawesome-webfont.eot?v=4.7.0');
  src: url('../components/font-awesome/fonts/fontawesome-webfont.eot?#iefix&v=4.7.0') format('embedded-opentype'), url('../components/font-awesome/fonts/fontawesome-webfont.woff2?v=4.7.0') format('woff2'), url('../components/font-awesome/fonts/fontawesome-webfont.woff?v=4.7.0') format('woff'), url('../components/font-awesome/fonts/fontawesome-webfont.ttf?v=4.7.0') format('truetype'), url('../components/font-awesome/fonts/fontawesome-webfont.svg?v=4.7.0#fontawesomeregular') format('svg');
  font-weight: normal;
  font-style: normal;
}
.fa {
  display: inline-block;
  font: normal normal normal 14px/1 FontAwesome;
  font-size: inherit;
  text-rendering: auto;
  -webkit-font-smoothing: antialiased;
  -moz-osx-font-smoothing: grayscale;
}
/* makes the font 33% larger relative to the icon container */
.fa-lg {
  font-size: 1.33333333em;
  line-height: 0.75em;
  vertical-align: -15%;
}
.fa-2x {
  font-size: 2em;
}
.fa-3x {
  font-size: 3em;
}
.fa-4x {
  font-size: 4em;
}
.fa-5x {
  font-size: 5em;
}
.fa-fw {
  width: 1.28571429em;
  text-align: center;
}
.fa-ul {
  padding-left: 0;
  margin-left: 2.14285714em;
  list-style-type: none;
}
.fa-ul > li {
  position: relative;
}
.fa-li {
  position: absolute;
  left: -2.14285714em;
  width: 2.14285714em;
  top: 0.14285714em;
  text-align: center;
}
.fa-li.fa-lg {
  left: -1.85714286em;
}
.fa-border {
  padding: .2em .25em .15em;
  border: solid 0.08em #eee;
  border-radius: .1em;
}
.fa-pull-left {
  float: left;
}
.fa-pull-right {
  float: right;
}
.fa.fa-pull-left {
  margin-right: .3em;
}
.fa.fa-pull-right {
  margin-left: .3em;
}
/* Deprecated as of 4.4.0 */
.pull-right {
  float: right;
}
.pull-left {
  float: left;
}
.fa.pull-left {
  margin-right: .3em;
}
.fa.pull-right {
  margin-left: .3em;
}
.fa-spin {
  -webkit-animation: fa-spin 2s infinite linear;
  animation: fa-spin 2s infinite linear;
}
.fa-pulse {
  -webkit-animation: fa-spin 1s infinite steps(8);
  animation: fa-spin 1s infinite steps(8);
}
@-webkit-keyframes fa-spin {
  0% {
    -webkit-transform: rotate(0deg);
    transform: rotate(0deg);
  }
  100% {
    -webkit-transform: rotate(359deg);
    transform: rotate(359deg);
  }
}
@keyframes fa-spin {
  0% {
    -webkit-transform: rotate(0deg);
    transform: rotate(0deg);
  }
  100% {
    -webkit-transform: rotate(359deg);
    transform: rotate(359deg);
  }
}
.fa-rotate-90 {
  -ms-filter: "progid:DXImageTransform.Microsoft.BasicImage(rotation=1)";
  -webkit-transform: rotate(90deg);
  -ms-transform: rotate(90deg);
  transform: rotate(90deg);
}
.fa-rotate-180 {
  -ms-filter: "progid:DXImageTransform.Microsoft.BasicImage(rotation=2)";
  -webkit-transform: rotate(180deg);
  -ms-transform: rotate(180deg);
  transform: rotate(180deg);
}
.fa-rotate-270 {
  -ms-filter: "progid:DXImageTransform.Microsoft.BasicImage(rotation=3)";
  -webkit-transform: rotate(270deg);
  -ms-transform: rotate(270deg);
  transform: rotate(270deg);
}
.fa-flip-horizontal {
  -ms-filter: "progid:DXImageTransform.Microsoft.BasicImage(rotation=0, mirror=1)";
  -webkit-transform: scale(-1, 1);
  -ms-transform: scale(-1, 1);
  transform: scale(-1, 1);
}
.fa-flip-vertical {
  -ms-filter: "progid:DXImageTransform.Microsoft.BasicImage(rotation=2, mirror=1)";
  -webkit-transform: scale(1, -1);
  -ms-transform: scale(1, -1);
  transform: scale(1, -1);
}
:root .fa-rotate-90,
:root .fa-rotate-180,
:root .fa-rotate-270,
:root .fa-flip-horizontal,
:root .fa-flip-vertical {
  filter: none;
}
.fa-stack {
  position: relative;
  display: inline-block;
  width: 2em;
  height: 2em;
  line-height: 2em;
  vertical-align: middle;
}
.fa-stack-1x,
.fa-stack-2x {
  position: absolute;
  left: 0;
  width: 100%;
  text-align: center;
}
.fa-stack-1x {
  line-height: inherit;
}
.fa-stack-2x {
  font-size: 2em;
}
.fa-inverse {
  color: #fff;
}
/* Font Awesome uses the Unicode Private Use Area (PUA) to ensure screen
   readers do not read off random characters that represent icons */
.fa-glass:before {
  content: "\f000";
}
.fa-music:before {
  content: "\f001";
}
.fa-search:before {
  content: "\f002";
}
.fa-envelope-o:before {
  content: "\f003";
}
.fa-heart:before {
  content: "\f004";
}
.fa-star:before {
  content: "\f005";
}
.fa-star-o:before {
  content: "\f006";
}
.fa-user:before {
  content: "\f007";
}
.fa-film:before {
  content: "\f008";
}
.fa-th-large:before {
  content: "\f009";
}
.fa-th:before {
  content: "\f00a";
}
.fa-th-list:before {
  content: "\f00b";
}
.fa-check:before {
  content: "\f00c";
}
.fa-remove:before,
.fa-close:before,
.fa-times:before {
  content: "\f00d";
}
.fa-search-plus:before {
  content: "\f00e";
}
.fa-search-minus:before {
  content: "\f010";
}
.fa-power-off:before {
  content: "\f011";
}
.fa-signal:before {
  content: "\f012";
}
.fa-gear:before,
.fa-cog:before {
  content: "\f013";
}
.fa-trash-o:before {
  content: "\f014";
}
.fa-home:before {
  content: "\f015";
}
.fa-file-o:before {
  content: "\f016";
}
.fa-clock-o:before {
  content: "\f017";
}
.fa-road:before {
  content: "\f018";
}
.fa-download:before {
  content: "\f019";
}
.fa-arrow-circle-o-down:before {
  content: "\f01a";
}
.fa-arrow-circle-o-up:before {
  content: "\f01b";
}
.fa-inbox:before {
  content: "\f01c";
}
.fa-play-circle-o:before {
  content: "\f01d";
}
.fa-rotate-right:before,
.fa-repeat:before {
  content: "\f01e";
}
.fa-refresh:before {
  content: "\f021";
}
.fa-list-alt:before {
  content: "\f022";
}
.fa-lock:before {
  content: "\f023";
}
.fa-flag:before {
  content: "\f024";
}
.fa-headphones:before {
  content: "\f025";
}
.fa-volume-off:before {
  content: "\f026";
}
.fa-volume-down:before {
  content: "\f027";
}
.fa-volume-up:before {
  content: "\f028";
}
.fa-qrcode:before {
  content: "\f029";
}
.fa-barcode:before {
  content: "\f02a";
}
.fa-tag:before {
  content: "\f02b";
}
.fa-tags:before {
  content: "\f02c";
}
.fa-book:before {
  content: "\f02d";
}
.fa-bookmark:before {
  content: "\f02e";
}
.fa-print:before {
  content: "\f02f";
}
.fa-camera:before {
  content: "\f030";
}
.fa-font:before {
  content: "\f031";
}
.fa-bold:before {
  content: "\f032";
}
.fa-italic:before {
  content: "\f033";
}
.fa-text-height:before {
  content: "\f034";
}
.fa-text-width:before {
  content: "\f035";
}
.fa-align-left:before {
  content: "\f036";
}
.fa-align-center:before {
  content: "\f037";
}
.fa-align-right:before {
  content: "\f038";
}
.fa-align-justify:before {
  content: "\f039";
}
.fa-list:before {
  content: "\f03a";
}
.fa-dedent:before,
.fa-outdent:before {
  content: "\f03b";
}
.fa-indent:before {
  content: "\f03c";
}
.fa-video-camera:before {
  content: "\f03d";
}
.fa-photo:before,
.fa-image:before,
.fa-picture-o:before {
  content: "\f03e";
}
.fa-pencil:before {
  content: "\f040";
}
.fa-map-marker:before {
  content: "\f041";
}
.fa-adjust:before {
  content: "\f042";
}
.fa-tint:before {
  content: "\f043";
}
.fa-edit:before,
.fa-pencil-square-o:before {
  content: "\f044";
}
.fa-share-square-o:before {
  content: "\f045";
}
.fa-check-square-o:before {
  content: "\f046";
}
.fa-arrows:before {
  content: "\f047";
}
.fa-step-backward:before {
  content: "\f048";
}
.fa-fast-backward:before {
  content: "\f049";
}
.fa-backward:before {
  content: "\f04a";
}
.fa-play:before {
  content: "\f04b";
}
.fa-pause:before {
  content: "\f04c";
}
.fa-stop:before {
  content: "\f04d";
}
.fa-forward:before {
  content: "\f04e";
}
.fa-fast-forward:before {
  content: "\f050";
}
.fa-step-forward:before {
  content: "\f051";
}
.fa-eject:before {
  content: "\f052";
}
.fa-chevron-left:before {
  content: "\f053";
}
.fa-chevron-right:before {
  content: "\f054";
}
.fa-plus-circle:before {
  content: "\f055";
}
.fa-minus-circle:before {
  content: "\f056";
}
.fa-times-circle:before {
  content: "\f057";
}
.fa-check-circle:before {
  content: "\f058";
}
.fa-question-circle:before {
  content: "\f059";
}
.fa-info-circle:before {
  content: "\f05a";
}
.fa-crosshairs:before {
  content: "\f05b";
}
.fa-times-circle-o:before {
  content: "\f05c";
}
.fa-check-circle-o:before {
  content: "\f05d";
}
.fa-ban:before {
  content: "\f05e";
}
.fa-arrow-left:before {
  content: "\f060";
}
.fa-arrow-right:before {
  content: "\f061";
}
.fa-arrow-up:before {
  content: "\f062";
}
.fa-arrow-down:before {
  content: "\f063";
}
.fa-mail-forward:before,
.fa-share:before {
  content: "\f064";
}
.fa-expand:before {
  content: "\f065";
}
.fa-compress:before {
  content: "\f066";
}
.fa-plus:before {
  content: "\f067";
}
.fa-minus:before {
  content: "\f068";
}
.fa-asterisk:before {
  content: "\f069";
}
.fa-exclamation-circle:before {
  content: "\f06a";
}
.fa-gift:before {
  content: "\f06b";
}
.fa-leaf:before {
  content: "\f06c";
}
.fa-fire:before {
  content: "\f06d";
}
.fa-eye:before {
  content: "\f06e";
}
.fa-eye-slash:before {
  content: "\f070";
}
.fa-warning:before,
.fa-exclamation-triangle:before {
  content: "\f071";
}
.fa-plane:before {
  content: "\f072";
}
.fa-calendar:before {
  content: "\f073";
}
.fa-random:before {
  content: "\f074";
}
.fa-comment:before {
  content: "\f075";
}
.fa-magnet:before {
  content: "\f076";
}
.fa-chevron-up:before {
  content: "\f077";
}
.fa-chevron-down:before {
  content: "\f078";
}
.fa-retweet:before {
  content: "\f079";
}
.fa-shopping-cart:before {
  content: "\f07a";
}
.fa-folder:before {
  content: "\f07b";
}
.fa-folder-open:before {
  content: "\f07c";
}
.fa-arrows-v:before {
  content: "\f07d";
}
.fa-arrows-h:before {
  content: "\f07e";
}
.fa-bar-chart-o:before,
.fa-bar-chart:before {
  content: "\f080";
}
.fa-twitter-square:before {
  content: "\f081";
}
.fa-facebook-square:before {
  content: "\f082";
}
.fa-camera-retro:before {
  content: "\f083";
}
.fa-key:before {
  content: "\f084";
}
.fa-gears:before,
.fa-cogs:before {
  content: "\f085";
}
.fa-comments:before {
  content: "\f086";
}
.fa-thumbs-o-up:before {
  content: "\f087";
}
.fa-thumbs-o-down:before {
  content: "\f088";
}
.fa-star-half:before {
  content: "\f089";
}
.fa-heart-o:before {
  content: "\f08a";
}
.fa-sign-out:before {
  content: "\f08b";
}
.fa-linkedin-square:before {
  content: "\f08c";
}
.fa-thumb-tack:before {
  content: "\f08d";
}
.fa-external-link:before {
  content: "\f08e";
}
.fa-sign-in:before {
  content: "\f090";
}
.fa-trophy:before {
  content: "\f091";
}
.fa-github-square:before {
  content: "\f092";
}
.fa-upload:before {
  content: "\f093";
}
.fa-lemon-o:before {
  content: "\f094";
}
.fa-phone:before {
  content: "\f095";
}
.fa-square-o:before {
  content: "\f096";
}
.fa-bookmark-o:before {
  content: "\f097";
}
.fa-phone-square:before {
  content: "\f098";
}
.fa-twitter:before {
  content: "\f099";
}
.fa-facebook-f:before,
.fa-facebook:before {
  content: "\f09a";
}
.fa-github:before {
  content: "\f09b";
}
.fa-unlock:before {
  content: "\f09c";
}
.fa-credit-card:before {
  content: "\f09d";
}
.fa-feed:before,
.fa-rss:before {
  content: "\f09e";
}
.fa-hdd-o:before {
  content: "\f0a0";
}
.fa-bullhorn:before {
  content: "\f0a1";
}
.fa-bell:before {
  content: "\f0f3";
}
.fa-certificate:before {
  content: "\f0a3";
}
.fa-hand-o-right:before {
  content: "\f0a4";
}
.fa-hand-o-left:before {
  content: "\f0a5";
}
.fa-hand-o-up:before {
  content: "\f0a6";
}
.fa-hand-o-down:before {
  content: "\f0a7";
}
.fa-arrow-circle-left:before {
  content: "\f0a8";
}
.fa-arrow-circle-right:before {
  content: "\f0a9";
}
.fa-arrow-circle-up:before {
  content: "\f0aa";
}
.fa-arrow-circle-down:before {
  content: "\f0ab";
}
.fa-globe:before {
  content: "\f0ac";
}
.fa-wrench:before {
  content: "\f0ad";
}
.fa-tasks:before {
  content: "\f0ae";
}
.fa-filter:before {
  content: "\f0b0";
}
.fa-briefcase:before {
  content: "\f0b1";
}
.fa-arrows-alt:before {
  content: "\f0b2";
}
.fa-group:before,
.fa-users:before {
  content: "\f0c0";
}
.fa-chain:before,
.fa-link:before {
  content: "\f0c1";
}
.fa-cloud:before {
  content: "\f0c2";
}
.fa-flask:before {
  content: "\f0c3";
}
.fa-cut:before,
.fa-scissors:before {
  content: "\f0c4";
}
.fa-copy:before,
.fa-files-o:before {
  content: "\f0c5";
}
.fa-paperclip:before {
  content: "\f0c6";
}
.fa-save:before,
.fa-floppy-o:before {
  content: "\f0c7";
}
.fa-square:before {
  content: "\f0c8";
}
.fa-navicon:before,
.fa-reorder:before,
.fa-bars:before {
  content: "\f0c9";
}
.fa-list-ul:before {
  content: "\f0ca";
}
.fa-list-ol:before {
  content: "\f0cb";
}
.fa-strikethrough:before {
  content: "\f0cc";
}
.fa-underline:before {
  content: "\f0cd";
}
.fa-table:before {
  content: "\f0ce";
}
.fa-magic:before {
  content: "\f0d0";
}
.fa-truck:before {
  content: "\f0d1";
}
.fa-pinterest:before {
  content: "\f0d2";
}
.fa-pinterest-square:before {
  content: "\f0d3";
}
.fa-google-plus-square:before {
  content: "\f0d4";
}
.fa-google-plus:before {
  content: "\f0d5";
}
.fa-money:before {
  content: "\f0d6";
}
.fa-caret-down:before {
  content: "\f0d7";
}
.fa-caret-up:before {
  content: "\f0d8";
}
.fa-caret-left:before {
  content: "\f0d9";
}
.fa-caret-right:before {
  content: "\f0da";
}
.fa-columns:before {
  content: "\f0db";
}
.fa-unsorted:before,
.fa-sort:before {
  content: "\f0dc";
}
.fa-sort-down:before,
.fa-sort-desc:before {
  content: "\f0dd";
}
.fa-sort-up:before,
.fa-sort-asc:before {
  content: "\f0de";
}
.fa-envelope:before {
  content: "\f0e0";
}
.fa-linkedin:before {
  content: "\f0e1";
}
.fa-rotate-left:before,
.fa-undo:before {
  content: "\f0e2";
}
.fa-legal:before,
.fa-gavel:before {
  content: "\f0e3";
}
.fa-dashboard:before,
.fa-tachometer:before {
  content: "\f0e4";
}
.fa-comment-o:before {
  content: "\f0e5";
}
.fa-comments-o:before {
  content: "\f0e6";
}
.fa-flash:before,
.fa-bolt:before {
  content: "\f0e7";
}
.fa-sitemap:before {
  content: "\f0e8";
}
.fa-umbrella:before {
  content: "\f0e9";
}
.fa-paste:before,
.fa-clipboard:before {
  content: "\f0ea";
}
.fa-lightbulb-o:before {
  content: "\f0eb";
}
.fa-exchange:before {
  content: "\f0ec";
}
.fa-cloud-download:before {
  content: "\f0ed";
}
.fa-cloud-upload:before {
  content: "\f0ee";
}
.fa-user-md:before {
  content: "\f0f0";
}
.fa-stethoscope:before {
  content: "\f0f1";
}
.fa-suitcase:before {
  content: "\f0f2";
}
.fa-bell-o:before {
  content: "\f0a2";
}
.fa-coffee:before {
  content: "\f0f4";
}
.fa-cutlery:before {
  content: "\f0f5";
}
.fa-file-text-o:before {
  content: "\f0f6";
}
.fa-building-o:before {
  content: "\f0f7";
}
.fa-hospital-o:before {
  content: "\f0f8";
}
.fa-ambulance:before {
  content: "\f0f9";
}
.fa-medkit:before {
  content: "\f0fa";
}
.fa-fighter-jet:before {
  content: "\f0fb";
}
.fa-beer:before {
  content: "\f0fc";
}
.fa-h-square:before {
  content: "\f0fd";
}
.fa-plus-square:before {
  content: "\f0fe";
}
.fa-angle-double-left:before {
  content: "\f100";
}
.fa-angle-double-right:before {
  content: "\f101";
}
.fa-angle-double-up:before {
  content: "\f102";
}
.fa-angle-double-down:before {
  content: "\f103";
}
.fa-angle-left:before {
  content: "\f104";
}
.fa-angle-right:before {
  content: "\f105";
}
.fa-angle-up:before {
  content: "\f106";
}
.fa-angle-down:before {
  content: "\f107";
}
.fa-desktop:before {
  content: "\f108";
}
.fa-laptop:before {
  content: "\f109";
}
.fa-tablet:before {
  content: "\f10a";
}
.fa-mobile-phone:before,
.fa-mobile:before {
  content: "\f10b";
}
.fa-circle-o:before {
  content: "\f10c";
}
.fa-quote-left:before {
  content: "\f10d";
}
.fa-quote-right:before {
  content: "\f10e";
}
.fa-spinner:before {
  content: "\f110";
}
.fa-circle:before {
  content: "\f111";
}
.fa-mail-reply:before,
.fa-reply:before {
  content: "\f112";
}
.fa-github-alt:before {
  content: "\f113";
}
.fa-folder-o:before {
  content: "\f114";
}
.fa-folder-open-o:before {
  content: "\f115";
}
.fa-smile-o:before {
  content: "\f118";
}
.fa-frown-o:before {
  content: "\f119";
}
.fa-meh-o:before {
  content: "\f11a";
}
.fa-gamepad:before {
  content: "\f11b";
}
.fa-keyboard-o:before {
  content: "\f11c";
}
.fa-flag-o:before {
  content: "\f11d";
}
.fa-flag-checkered:before {
  content: "\f11e";
}
.fa-terminal:before {
  content: "\f120";
}
.fa-code:before {
  content: "\f121";
}
.fa-mail-reply-all:before,
.fa-reply-all:before {
  content: "\f122";
}
.fa-star-half-empty:before,
.fa-star-half-full:before,
.fa-star-half-o:before {
  content: "\f123";
}
.fa-location-arrow:before {
  content: "\f124";
}
.fa-crop:before {
  content: "\f125";
}
.fa-code-fork:before {
  content: "\f126";
}
.fa-unlink:before,
.fa-chain-broken:before {
  content: "\f127";
}
.fa-question:before {
  content: "\f128";
}
.fa-info:before {
  content: "\f129";
}
.fa-exclamation:before {
  content: "\f12a";
}
.fa-superscript:before {
  content: "\f12b";
}
.fa-subscript:before {
  content: "\f12c";
}
.fa-eraser:before {
  content: "\f12d";
}
.fa-puzzle-piece:before {
  content: "\f12e";
}
.fa-microphone:before {
  content: "\f130";
}
.fa-microphone-slash:before {
  content: "\f131";
}
.fa-shield:before {
  content: "\f132";
}
.fa-calendar-o:before {
  content: "\f133";
}
.fa-fire-extinguisher:before {
  content: "\f134";
}
.fa-rocket:before {
  content: "\f135";
}
.fa-maxcdn:before {
  content: "\f136";
}
.fa-chevron-circle-left:before {
  content: "\f137";
}
.fa-chevron-circle-right:before {
  content: "\f138";
}
.fa-chevron-circle-up:before {
  content: "\f139";
}
.fa-chevron-circle-down:before {
  content: "\f13a";
}
.fa-html5:before {
  content: "\f13b";
}
.fa-css3:before {
  content: "\f13c";
}
.fa-anchor:before {
  content: "\f13d";
}
.fa-unlock-alt:before {
  content: "\f13e";
}
.fa-bullseye:before {
  content: "\f140";
}
.fa-ellipsis-h:before {
  content: "\f141";
}
.fa-ellipsis-v:before {
  content: "\f142";
}
.fa-rss-square:before {
  content: "\f143";
}
.fa-play-circle:before {
  content: "\f144";
}
.fa-ticket:before {
  content: "\f145";
}
.fa-minus-square:before {
  content: "\f146";
}
.fa-minus-square-o:before {
  content: "\f147";
}
.fa-level-up:before {
  content: "\f148";
}
.fa-level-down:before {
  content: "\f149";
}
.fa-check-square:before {
  content: "\f14a";
}
.fa-pencil-square:before {
  content: "\f14b";
}
.fa-external-link-square:before {
  content: "\f14c";
}
.fa-share-square:before {
  content: "\f14d";
}
.fa-compass:before {
  content: "\f14e";
}
.fa-toggle-down:before,
.fa-caret-square-o-down:before {
  content: "\f150";
}
.fa-toggle-up:before,
.fa-caret-square-o-up:before {
  content: "\f151";
}
.fa-toggle-right:before,
.fa-caret-square-o-right:before {
  content: "\f152";
}
.fa-euro:before,
.fa-eur:before {
  content: "\f153";
}
.fa-gbp:before {
  content: "\f154";
}
.fa-dollar:before,
.fa-usd:before {
  content: "\f155";
}
.fa-rupee:before,
.fa-inr:before {
  content: "\f156";
}
.fa-cny:before,
.fa-rmb:before,
.fa-yen:before,
.fa-jpy:before {
  content: "\f157";
}
.fa-ruble:before,
.fa-rouble:before,
.fa-rub:before {
  content: "\f158";
}
.fa-won:before,
.fa-krw:before {
  content: "\f159";
}
.fa-bitcoin:before,
.fa-btc:before {
  content: "\f15a";
}
.fa-file:before {
  content: "\f15b";
}
.fa-file-text:before {
  content: "\f15c";
}
.fa-sort-alpha-asc:before {
  content: "\f15d";
}
.fa-sort-alpha-desc:before {
  content: "\f15e";
}
.fa-sort-amount-asc:before {
  content: "\f160";
}
.fa-sort-amount-desc:before {
  content: "\f161";
}
.fa-sort-numeric-asc:before {
  content: "\f162";
}
.fa-sort-numeric-desc:before {
  content: "\f163";
}
.fa-thumbs-up:before {
  content: "\f164";
}
.fa-thumbs-down:before {
  content: "\f165";
}
.fa-youtube-square:before {
  content: "\f166";
}
.fa-youtube:before {
  content: "\f167";
}
.fa-xing:before {
  content: "\f168";
}
.fa-xing-square:before {
  content: "\f169";
}
.fa-youtube-play:before {
  content: "\f16a";
}
.fa-dropbox:before {
  content: "\f16b";
}
.fa-stack-overflow:before {
  content: "\f16c";
}
.fa-instagram:before {
  content: "\f16d";
}
.fa-flickr:before {
  content: "\f16e";
}
.fa-adn:before {
  content: "\f170";
}
.fa-bitbucket:before {
  content: "\f171";
}
.fa-bitbucket-square:before {
  content: "\f172";
}
.fa-tumblr:before {
  content: "\f173";
}
.fa-tumblr-square:before {
  content: "\f174";
}
.fa-long-arrow-down:before {
  content: "\f175";
}
.fa-long-arrow-up:before {
  content: "\f176";
}
.fa-long-arrow-left:before {
  content: "\f177";
}
.fa-long-arrow-right:before {
  content: "\f178";
}
.fa-apple:before {
  content: "\f179";
}
.fa-windows:before {
  content: "\f17a";
}
.fa-android:before {
  content: "\f17b";
}
.fa-linux:before {
  content: "\f17c";
}
.fa-dribbble:before {
  content: "\f17d";
}
.fa-skype:before {
  content: "\f17e";
}
.fa-foursquare:before {
  content: "\f180";
}
.fa-trello:before {
  content: "\f181";
}
.fa-female:before {
  content: "\f182";
}
.fa-male:before {
  content: "\f183";
}
.fa-gittip:before,
.fa-gratipay:before {
  content: "\f184";
}
.fa-sun-o:before {
  content: "\f185";
}
.fa-moon-o:before {
  content: "\f186";
}
.fa-archive:before {
  content: "\f187";
}
.fa-bug:before {
  content: "\f188";
}
.fa-vk:before {
  content: "\f189";
}
.fa-weibo:before {
  content: "\f18a";
}
.fa-renren:before {
  content: "\f18b";
}
.fa-pagelines:before {
  content: "\f18c";
}
.fa-stack-exchange:before {
  content: "\f18d";
}
.fa-arrow-circle-o-right:before {
  content: "\f18e";
}
.fa-arrow-circle-o-left:before {
  content: "\f190";
}
.fa-toggle-left:before,
.fa-caret-square-o-left:before {
  content: "\f191";
}
.fa-dot-circle-o:before {
  content: "\f192";
}
.fa-wheelchair:before {
  content: "\f193";
}
.fa-vimeo-square:before {
  content: "\f194";
}
.fa-turkish-lira:before,
.fa-try:before {
  content: "\f195";
}
.fa-plus-square-o:before {
  content: "\f196";
}
.fa-space-shuttle:before {
  content: "\f197";
}
.fa-slack:before {
  content: "\f198";
}
.fa-envelope-square:before {
  content: "\f199";
}
.fa-wordpress:before {
  content: "\f19a";
}
.fa-openid:before {
  content: "\f19b";
}
.fa-institution:before,
.fa-bank:before,
.fa-university:before {
  content: "\f19c";
}
.fa-mortar-board:before,
.fa-graduation-cap:before {
  content: "\f19d";
}
.fa-yahoo:before {
  content: "\f19e";
}
.fa-google:before {
  content: "\f1a0";
}
.fa-reddit:before {
  content: "\f1a1";
}
.fa-reddit-square:before {
  content: "\f1a2";
}
.fa-stumbleupon-circle:before {
  content: "\f1a3";
}
.fa-stumbleupon:before {
  content: "\f1a4";
}
.fa-delicious:before {
  content: "\f1a5";
}
.fa-digg:before {
  content: "\f1a6";
}
.fa-pied-piper-pp:before {
  content: "\f1a7";
}
.fa-pied-piper-alt:before {
  content: "\f1a8";
}
.fa-drupal:before {
  content: "\f1a9";
}
.fa-joomla:before {
  content: "\f1aa";
}
.fa-language:before {
  content: "\f1ab";
}
.fa-fax:before {
  content: "\f1ac";
}
.fa-building:before {
  content: "\f1ad";
}
.fa-child:before {
  content: "\f1ae";
}
.fa-paw:before {
  content: "\f1b0";
}
.fa-spoon:before {
  content: "\f1b1";
}
.fa-cube:before {
  content: "\f1b2";
}
.fa-cubes:before {
  content: "\f1b3";
}
.fa-behance:before {
  content: "\f1b4";
}
.fa-behance-square:before {
  content: "\f1b5";
}
.fa-steam:before {
  content: "\f1b6";
}
.fa-steam-square:before {
  content: "\f1b7";
}
.fa-recycle:before {
  content: "\f1b8";
}
.fa-automobile:before,
.fa-car:before {
  content: "\f1b9";
}
.fa-cab:before,
.fa-taxi:before {
  content: "\f1ba";
}
.fa-tree:before {
  content: "\f1bb";
}
.fa-spotify:before {
  content: "\f1bc";
}
.fa-deviantart:before {
  content: "\f1bd";
}
.fa-soundcloud:before {
  content: "\f1be";
}
.fa-database:before {
  content: "\f1c0";
}
.fa-file-pdf-o:before {
  content: "\f1c1";
}
.fa-file-word-o:before {
  content: "\f1c2";
}
.fa-file-excel-o:before {
  content: "\f1c3";
}
.fa-file-powerpoint-o:before {
  content: "\f1c4";
}
.fa-file-photo-o:before,
.fa-file-picture-o:before,
.fa-file-image-o:before {
  content: "\f1c5";
}
.fa-file-zip-o:before,
.fa-file-archive-o:before {
  content: "\f1c6";
}
.fa-file-sound-o:before,
.fa-file-audio-o:before {
  content: "\f1c7";
}
.fa-file-movie-o:before,
.fa-file-video-o:before {
  content: "\f1c8";
}
.fa-file-code-o:before {
  content: "\f1c9";
}
.fa-vine:before {
  content: "\f1ca";
}
.fa-codepen:before {
  content: "\f1cb";
}
.fa-jsfiddle:before {
  content: "\f1cc";
}
.fa-life-bouy:before,
.fa-life-buoy:before,
.fa-life-saver:before,
.fa-support:before,
.fa-life-ring:before {
  content: "\f1cd";
}
.fa-circle-o-notch:before {
  content: "\f1ce";
}
.fa-ra:before,
.fa-resistance:before,
.fa-rebel:before {
  content: "\f1d0";
}
.fa-ge:before,
.fa-empire:before {
  content: "\f1d1";
}
.fa-git-square:before {
  content: "\f1d2";
}
.fa-git:before {
  content: "\f1d3";
}
.fa-y-combinator-square:before,
.fa-yc-square:before,
.fa-hacker-news:before {
  content: "\f1d4";
}
.fa-tencent-weibo:before {
  content: "\f1d5";
}
.fa-qq:before {
  content: "\f1d6";
}
.fa-wechat:before,
.fa-weixin:before {
  content: "\f1d7";
}
.fa-send:before,
.fa-paper-plane:before {
  content: "\f1d8";
}
.fa-send-o:before,
.fa-paper-plane-o:before {
  content: "\f1d9";
}
.fa-history:before {
  content: "\f1da";
}
.fa-circle-thin:before {
  content: "\f1db";
}
.fa-header:before {
  content: "\f1dc";
}
.fa-paragraph:before {
  content: "\f1dd";
}
.fa-sliders:before {
  content: "\f1de";
}
.fa-share-alt:before {
  content: "\f1e0";
}
.fa-share-alt-square:before {
  content: "\f1e1";
}
.fa-bomb:before {
  content: "\f1e2";
}
.fa-soccer-ball-o:before,
.fa-futbol-o:before {
  content: "\f1e3";
}
.fa-tty:before {
  content: "\f1e4";
}
.fa-binoculars:before {
  content: "\f1e5";
}
.fa-plug:before {
  content: "\f1e6";
}
.fa-slideshare:before {
  content: "\f1e7";
}
.fa-twitch:before {
  content: "\f1e8";
}
.fa-yelp:before {
  content: "\f1e9";
}
.fa-newspaper-o:before {
  content: "\f1ea";
}
.fa-wifi:before {
  content: "\f1eb";
}
.fa-calculator:before {
  content: "\f1ec";
}
.fa-paypal:before {
  content: "\f1ed";
}
.fa-google-wallet:before {
  content: "\f1ee";
}
.fa-cc-visa:before {
  content: "\f1f0";
}
.fa-cc-mastercard:before {
  content: "\f1f1";
}
.fa-cc-discover:before {
  content: "\f1f2";
}
.fa-cc-amex:before {
  content: "\f1f3";
}
.fa-cc-paypal:before {
  content: "\f1f4";
}
.fa-cc-stripe:before {
  content: "\f1f5";
}
.fa-bell-slash:before {
  content: "\f1f6";
}
.fa-bell-slash-o:before {
  content: "\f1f7";
}
.fa-trash:before {
  content: "\f1f8";
}
.fa-copyright:before {
  content: "\f1f9";
}
.fa-at:before {
  content: "\f1fa";
}
.fa-eyedropper:before {
  content: "\f1fb";
}
.fa-paint-brush:before {
  content: "\f1fc";
}
.fa-birthday-cake:before {
  content: "\f1fd";
}
.fa-area-chart:before {
  content: "\f1fe";
}
.fa-pie-chart:before {
  content: "\f200";
}
.fa-line-chart:before {
  content: "\f201";
}
.fa-lastfm:before {
  content: "\f202";
}
.fa-lastfm-square:before {
  content: "\f203";
}
.fa-toggle-off:before {
  content: "\f204";
}
.fa-toggle-on:before {
  content: "\f205";
}
.fa-bicycle:before {
  content: "\f206";
}
.fa-bus:before {
  content: "\f207";
}
.fa-ioxhost:before {
  content: "\f208";
}
.fa-angellist:before {
  content: "\f209";
}
.fa-cc:before {
  content: "\f20a";
}
.fa-shekel:before,
.fa-sheqel:before,
.fa-ils:before {
  content: "\f20b";
}
.fa-meanpath:before {
  content: "\f20c";
}
.fa-buysellads:before {
  content: "\f20d";
}
.fa-connectdevelop:before {
  content: "\f20e";
}
.fa-dashcube:before {
  content: "\f210";
}
.fa-forumbee:before {
  content: "\f211";
}
.fa-leanpub:before {
  content: "\f212";
}
.fa-sellsy:before {
  content: "\f213";
}
.fa-shirtsinbulk:before {
  content: "\f214";
}
.fa-simplybuilt:before {
  content: "\f215";
}
.fa-skyatlas:before {
  content: "\f216";
}
.fa-cart-plus:before {
  content: "\f217";
}
.fa-cart-arrow-down:before {
  content: "\f218";
}
.fa-diamond:before {
  content: "\f219";
}
.fa-ship:before {
  content: "\f21a";
}
.fa-user-secret:before {
  content: "\f21b";
}
.fa-motorcycle:before {
  content: "\f21c";
}
.fa-street-view:before {
  content: "\f21d";
}
.fa-heartbeat:before {
  content: "\f21e";
}
.fa-venus:before {
  content: "\f221";
}
.fa-mars:before {
  content: "\f222";
}
.fa-mercury:before {
  content: "\f223";
}
.fa-intersex:before,
.fa-transgender:before {
  content: "\f224";
}
.fa-transgender-alt:before {
  content: "\f225";
}
.fa-venus-double:before {
  content: "\f226";
}
.fa-mars-double:before {
  content: "\f227";
}
.fa-venus-mars:before {
  content: "\f228";
}
.fa-mars-stroke:before {
  content: "\f229";
}
.fa-mars-stroke-v:before {
  content: "\f22a";
}
.fa-mars-stroke-h:before {
  content: "\f22b";
}
.fa-neuter:before {
  content: "\f22c";
}
.fa-genderless:before {
  content: "\f22d";
}
.fa-facebook-official:before {
  content: "\f230";
}
.fa-pinterest-p:before {
  content: "\f231";
}
.fa-whatsapp:before {
  content: "\f232";
}
.fa-server:before {
  content: "\f233";
}
.fa-user-plus:before {
  content: "\f234";
}
.fa-user-times:before {
  content: "\f235";
}
.fa-hotel:before,
.fa-bed:before {
  content: "\f236";
}
.fa-viacoin:before {
  content: "\f237";
}
.fa-train:before {
  content: "\f238";
}
.fa-subway:before {
  content: "\f239";
}
.fa-medium:before {
  content: "\f23a";
}
.fa-yc:before,
.fa-y-combinator:before {
  content: "\f23b";
}
.fa-optin-monster:before {
  content: "\f23c";
}
.fa-opencart:before {
  content: "\f23d";
}
.fa-expeditedssl:before {
  content: "\f23e";
}
.fa-battery-4:before,
.fa-battery:before,
.fa-battery-full:before {
  content: "\f240";
}
.fa-battery-3:before,
.fa-battery-three-quarters:before {
  content: "\f241";
}
.fa-battery-2:before,
.fa-battery-half:before {
  content: "\f242";
}
.fa-battery-1:before,
.fa-battery-quarter:before {
  content: "\f243";
}
.fa-battery-0:before,
.fa-battery-empty:before {
  content: "\f244";
}
.fa-mouse-pointer:before {
  content: "\f245";
}
.fa-i-cursor:before {
  content: "\f246";
}
.fa-object-group:before {
  content: "\f247";
}
.fa-object-ungroup:before {
  content: "\f248";
}
.fa-sticky-note:before {
  content: "\f249";
}
.fa-sticky-note-o:before {
  content: "\f24a";
}
.fa-cc-jcb:before {
  content: "\f24b";
}
.fa-cc-diners-club:before {
  content: "\f24c";
}
.fa-clone:before {
  content: "\f24d";
}
.fa-balance-scale:before {
  content: "\f24e";
}
.fa-hourglass-o:before {
  content: "\f250";
}
.fa-hourglass-1:before,
.fa-hourglass-start:before {
  content: "\f251";
}
.fa-hourglass-2:before,
.fa-hourglass-half:before {
  content: "\f252";
}
.fa-hourglass-3:before,
.fa-hourglass-end:before {
  content: "\f253";
}
.fa-hourglass:before {
  content: "\f254";
}
.fa-hand-grab-o:before,
.fa-hand-rock-o:before {
  content: "\f255";
}
.fa-hand-stop-o:before,
.fa-hand-paper-o:before {
  content: "\f256";
}
.fa-hand-scissors-o:before {
  content: "\f257";
}
.fa-hand-lizard-o:before {
  content: "\f258";
}
.fa-hand-spock-o:before {
  content: "\f259";
}
.fa-hand-pointer-o:before {
  content: "\f25a";
}
.fa-hand-peace-o:before {
  content: "\f25b";
}
.fa-trademark:before {
  content: "\f25c";
}
.fa-registered:before {
  content: "\f25d";
}
.fa-creative-commons:before {
  content: "\f25e";
}
.fa-gg:before {
  content: "\f260";
}
.fa-gg-circle:before {
  content: "\f261";
}
.fa-tripadvisor:before {
  content: "\f262";
}
.fa-odnoklassniki:before {
  content: "\f263";
}
.fa-odnoklassniki-square:before {
  content: "\f264";
}
.fa-get-pocket:before {
  content: "\f265";
}
.fa-wikipedia-w:before {
  content: "\f266";
}
.fa-safari:before {
  content: "\f267";
}
.fa-chrome:before {
  content: "\f268";
}
.fa-firefox:before {
  content: "\f269";
}
.fa-opera:before {
  content: "\f26a";
}
.fa-internet-explorer:before {
  content: "\f26b";
}
.fa-tv:before,
.fa-television:before {
  content: "\f26c";
}
.fa-contao:before {
  content: "\f26d";
}
.fa-500px:before {
  content: "\f26e";
}
.fa-amazon:before {
  content: "\f270";
}
.fa-calendar-plus-o:before {
  content: "\f271";
}
.fa-calendar-minus-o:before {
  content: "\f272";
}
.fa-calendar-times-o:before {
  content: "\f273";
}
.fa-calendar-check-o:before {
  content: "\f274";
}
.fa-industry:before {
  content: "\f275";
}
.fa-map-pin:before {
  content: "\f276";
}
.fa-map-signs:before {
  content: "\f277";
}
.fa-map-o:before {
  content: "\f278";
}
.fa-map:before {
  content: "\f279";
}
.fa-commenting:before {
  content: "\f27a";
}
.fa-commenting-o:before {
  content: "\f27b";
}
.fa-houzz:before {
  content: "\f27c";
}
.fa-vimeo:before {
  content: "\f27d";
}
.fa-black-tie:before {
  content: "\f27e";
}
.fa-fonticons:before {
  content: "\f280";
}
.fa-reddit-alien:before {
  content: "\f281";
}
.fa-edge:before {
  content: "\f282";
}
.fa-credit-card-alt:before {
  content: "\f283";
}
.fa-codiepie:before {
  content: "\f284";
}
.fa-modx:before {
  content: "\f285";
}
.fa-fort-awesome:before {
  content: "\f286";
}
.fa-usb:before {
  content: "\f287";
}
.fa-product-hunt:before {
  content: "\f288";
}
.fa-mixcloud:before {
  content: "\f289";
}
.fa-scribd:before {
  content: "\f28a";
}
.fa-pause-circle:before {
  content: "\f28b";
}
.fa-pause-circle-o:before {
  content: "\f28c";
}
.fa-stop-circle:before {
  content: "\f28d";
}
.fa-stop-circle-o:before {
  content: "\f28e";
}
.fa-shopping-bag:before {
  content: "\f290";
}
.fa-shopping-basket:before {
  content: "\f291";
}
.fa-hashtag:before {
  content: "\f292";
}
.fa-bluetooth:before {
  content: "\f293";
}
.fa-bluetooth-b:before {
  content: "\f294";
}
.fa-percent:before {
  content: "\f295";
}
.fa-gitlab:before {
  content: "\f296";
}
.fa-wpbeginner:before {
  content: "\f297";
}
.fa-wpforms:before {
  content: "\f298";
}
.fa-envira:before {
  content: "\f299";
}
.fa-universal-access:before {
  content: "\f29a";
}
.fa-wheelchair-alt:before {
  content: "\f29b";
}
.fa-question-circle-o:before {
  content: "\f29c";
}
.fa-blind:before {
  content: "\f29d";
}
.fa-audio-description:before {
  content: "\f29e";
}
.fa-volume-control-phone:before {
  content: "\f2a0";
}
.fa-braille:before {
  content: "\f2a1";
}
.fa-assistive-listening-systems:before {
  content: "\f2a2";
}
.fa-asl-interpreting:before,
.fa-american-sign-language-interpreting:before {
  content: "\f2a3";
}
.fa-deafness:before,
.fa-hard-of-hearing:before,
.fa-deaf:before {
  content: "\f2a4";
}
.fa-glide:before {
  content: "\f2a5";
}
.fa-glide-g:before {
  content: "\f2a6";
}
.fa-signing:before,
.fa-sign-language:before {
  content: "\f2a7";
}
.fa-low-vision:before {
  content: "\f2a8";
}
.fa-viadeo:before {
  content: "\f2a9";
}
.fa-viadeo-square:before {
  content: "\f2aa";
}
.fa-snapchat:before {
  content: "\f2ab";
}
.fa-snapchat-ghost:before {
  content: "\f2ac";
}
.fa-snapchat-square:before {
  content: "\f2ad";
}
.fa-pied-piper:before {
  content: "\f2ae";
}
.fa-first-order:before {
  content: "\f2b0";
}
.fa-yoast:before {
  content: "\f2b1";
}
.fa-themeisle:before {
  content: "\f2b2";
}
.fa-google-plus-circle:before,
.fa-google-plus-official:before {
  content: "\f2b3";
}
.fa-fa:before,
.fa-font-awesome:before {
  content: "\f2b4";
}
.fa-handshake-o:before {
  content: "\f2b5";
}
.fa-envelope-open:before {
  content: "\f2b6";
}
.fa-envelope-open-o:before {
  content: "\f2b7";
}
.fa-linode:before {
  content: "\f2b8";
}
.fa-address-book:before {
  content: "\f2b9";
}
.fa-address-book-o:before {
  content: "\f2ba";
}
.fa-vcard:before,
.fa-address-card:before {
  content: "\f2bb";
}
.fa-vcard-o:before,
.fa-address-card-o:before {
  content: "\f2bc";
}
.fa-user-circle:before {
  content: "\f2bd";
}
.fa-user-circle-o:before {
  content: "\f2be";
}
.fa-user-o:before {
  content: "\f2c0";
}
.fa-id-badge:before {
  content: "\f2c1";
}
.fa-drivers-license:before,
.fa-id-card:before {
  content: "\f2c2";
}
.fa-drivers-license-o:before,
.fa-id-card-o:before {
  content: "\f2c3";
}
.fa-quora:before {
  content: "\f2c4";
}
.fa-free-code-camp:before {
  content: "\f2c5";
}
.fa-telegram:before {
  content: "\f2c6";
}
.fa-thermometer-4:before,
.fa-thermometer:before,
.fa-thermometer-full:before {
  content: "\f2c7";
}
.fa-thermometer-3:before,
.fa-thermometer-three-quarters:before {
  content: "\f2c8";
}
.fa-thermometer-2:before,
.fa-thermometer-half:before {
  content: "\f2c9";
}
.fa-thermometer-1:before,
.fa-thermometer-quarter:before {
  content: "\f2ca";
}
.fa-thermometer-0:before,
.fa-thermometer-empty:before {
  content: "\f2cb";
}
.fa-shower:before {
  content: "\f2cc";
}
.fa-bathtub:before,
.fa-s15:before,
.fa-bath:before {
  content: "\f2cd";
}
.fa-podcast:before {
  content: "\f2ce";
}
.fa-window-maximize:before {
  content: "\f2d0";
}
.fa-window-minimize:before {
  content: "\f2d1";
}
.fa-window-restore:before {
  content: "\f2d2";
}
.fa-times-rectangle:before,
.fa-window-close:before {
  content: "\f2d3";
}
.fa-times-rectangle-o:before,
.fa-window-close-o:before {
  content: "\f2d4";
}
.fa-bandcamp:before {
  content: "\f2d5";
}
.fa-grav:before {
  content: "\f2d6";
}
.fa-etsy:before {
  content: "\f2d7";
}
.fa-imdb:before {
  content: "\f2d8";
}
.fa-ravelry:before {
  content: "\f2d9";
}
.fa-eercast:before {
  content: "\f2da";
}
.fa-microchip:before {
  content: "\f2db";
}
.fa-snowflake-o:before {
  content: "\f2dc";
}
.fa-superpowers:before {
  content: "\f2dd";
}
.fa-wpexplorer:before {
  content: "\f2de";
}
.fa-meetup:before {
  content: "\f2e0";
}
.sr-only {
  position: absolute;
  width: 1px;
  height: 1px;
  padding: 0;
  margin: -1px;
  overflow: hidden;
  clip: rect(0, 0, 0, 0);
  border: 0;
}
.sr-only-focusable:active,
.sr-only-focusable:focus {
  position: static;
  width: auto;
  height: auto;
  margin: 0;
  overflow: visible;
  clip: auto;
}
.sr-only-focusable:active,
.sr-only-focusable:focus {
  position: static;
  width: auto;
  height: auto;
  margin: 0;
  overflow: visible;
  clip: auto;
}
/*!
*
* IPython base
*
*/
.modal.fade .modal-dialog {
  -webkit-transform: translate(0, 0);
  -ms-transform: translate(0, 0);
  -o-transform: translate(0, 0);
  transform: translate(0, 0);
}
code {
  color: #000;
}
pre {
  font-size: inherit;
  line-height: inherit;
}
label {
  font-weight: normal;
}
/* Make the page background atleast 100% the height of the view port */
/* Make the page itself atleast 70% the height of the view port */
.border-box-sizing {
  box-sizing: border-box;
  -moz-box-sizing: border-box;
  -webkit-box-sizing: border-box;
}
.corner-all {
  border-radius: 2px;
}
.no-padding {
  padding: 0px;
}
/* Flexible box model classes */
/* Taken from Alex Russell http://infrequently.org/2009/08/css-3-progress/ */
/* This file is a compatability layer.  It allows the usage of flexible box 
model layouts accross multiple browsers, including older browsers.  The newest,
universal implementation of the flexible box model is used when available (see
`Modern browsers` comments below).  Browsers that are known to implement this 
new spec completely include:

    Firefox 28.0+
    Chrome 29.0+
    Internet Explorer 11+ 
    Opera 17.0+

Browsers not listed, including Safari, are supported via the styling under the
`Old browsers` comments below.
*/
.hbox {
  /* Old browsers */
  display: -webkit-box;
  -webkit-box-orient: horizontal;
  -webkit-box-align: stretch;
  display: -moz-box;
  -moz-box-orient: horizontal;
  -moz-box-align: stretch;
  display: box;
  box-orient: horizontal;
  box-align: stretch;
  /* Modern browsers */
  display: flex;
  flex-direction: row;
  align-items: stretch;
}
.hbox > * {
  /* Old browsers */
  -webkit-box-flex: 0;
  -moz-box-flex: 0;
  box-flex: 0;
  /* Modern browsers */
  flex: none;
}
.vbox {
  /* Old browsers */
  display: -webkit-box;
  -webkit-box-orient: vertical;
  -webkit-box-align: stretch;
  display: -moz-box;
  -moz-box-orient: vertical;
  -moz-box-align: stretch;
  display: box;
  box-orient: vertical;
  box-align: stretch;
  /* Modern browsers */
  display: flex;
  flex-direction: column;
  align-items: stretch;
}
.vbox > * {
  /* Old browsers */
  -webkit-box-flex: 0;
  -moz-box-flex: 0;
  box-flex: 0;
  /* Modern browsers */
  flex: none;
}
.hbox.reverse,
.vbox.reverse,
.reverse {
  /* Old browsers */
  -webkit-box-direction: reverse;
  -moz-box-direction: reverse;
  box-direction: reverse;
  /* Modern browsers */
  flex-direction: row-reverse;
}
.hbox.box-flex0,
.vbox.box-flex0,
.box-flex0 {
  /* Old browsers */
  -webkit-box-flex: 0;
  -moz-box-flex: 0;
  box-flex: 0;
  /* Modern browsers */
  flex: none;
  width: auto;
}
.hbox.box-flex1,
.vbox.box-flex1,
.box-flex1 {
  /* Old browsers */
  -webkit-box-flex: 1;
  -moz-box-flex: 1;
  box-flex: 1;
  /* Modern browsers */
  flex: 1;
}
.hbox.box-flex,
.vbox.box-flex,
.box-flex {
  /* Old browsers */
  /* Old browsers */
  -webkit-box-flex: 1;
  -moz-box-flex: 1;
  box-flex: 1;
  /* Modern browsers */
  flex: 1;
}
.hbox.box-flex2,
.vbox.box-flex2,
.box-flex2 {
  /* Old browsers */
  -webkit-box-flex: 2;
  -moz-box-flex: 2;
  box-flex: 2;
  /* Modern browsers */
  flex: 2;
}
.box-group1 {
  /*  Deprecated */
  -webkit-box-flex-group: 1;
  -moz-box-flex-group: 1;
  box-flex-group: 1;
}
.box-group2 {
  /* Deprecated */
  -webkit-box-flex-group: 2;
  -moz-box-flex-group: 2;
  box-flex-group: 2;
}
.hbox.start,
.vbox.start,
.start {
  /* Old browsers */
  -webkit-box-pack: start;
  -moz-box-pack: start;
  box-pack: start;
  /* Modern browsers */
  justify-content: flex-start;
}
.hbox.end,
.vbox.end,
.end {
  /* Old browsers */
  -webkit-box-pack: end;
  -moz-box-pack: end;
  box-pack: end;
  /* Modern browsers */
  justify-content: flex-end;
}
.hbox.center,
.vbox.center,
.center {
  /* Old browsers */
  -webkit-box-pack: center;
  -moz-box-pack: center;
  box-pack: center;
  /* Modern browsers */
  justify-content: center;
}
.hbox.baseline,
.vbox.baseline,
.baseline {
  /* Old browsers */
  -webkit-box-pack: baseline;
  -moz-box-pack: baseline;
  box-pack: baseline;
  /* Modern browsers */
  justify-content: baseline;
}
.hbox.stretch,
.vbox.stretch,
.stretch {
  /* Old browsers */
  -webkit-box-pack: stretch;
  -moz-box-pack: stretch;
  box-pack: stretch;
  /* Modern browsers */
  justify-content: stretch;
}
.hbox.align-start,
.vbox.align-start,
.align-start {
  /* Old browsers */
  -webkit-box-align: start;
  -moz-box-align: start;
  box-align: start;
  /* Modern browsers */
  align-items: flex-start;
}
.hbox.align-end,
.vbox.align-end,
.align-end {
  /* Old browsers */
  -webkit-box-align: end;
  -moz-box-align: end;
  box-align: end;
  /* Modern browsers */
  align-items: flex-end;
}
.hbox.align-center,
.vbox.align-center,
.align-center {
  /* Old browsers */
  -webkit-box-align: center;
  -moz-box-align: center;
  box-align: center;
  /* Modern browsers */
  align-items: center;
}
.hbox.align-baseline,
.vbox.align-baseline,
.align-baseline {
  /* Old browsers */
  -webkit-box-align: baseline;
  -moz-box-align: baseline;
  box-align: baseline;
  /* Modern browsers */
  align-items: baseline;
}
.hbox.align-stretch,
.vbox.align-stretch,
.align-stretch {
  /* Old browsers */
  -webkit-box-align: stretch;
  -moz-box-align: stretch;
  box-align: stretch;
  /* Modern browsers */
  align-items: stretch;
}
div.error {
  margin: 2em;
  text-align: center;
}
div.error > h1 {
  font-size: 500%;
  line-height: normal;
}
div.error > p {
  font-size: 200%;
  line-height: normal;
}
div.traceback-wrapper {
  text-align: left;
  max-width: 800px;
  margin: auto;
}
div.traceback-wrapper pre.traceback {
  max-height: 600px;
  overflow: auto;
}
/**
 * Primary styles
 *
 * Author: Jupyter Development Team
 */
body {
  background-color: #fff;
  /* This makes sure that the body covers the entire window and needs to
       be in a different element than the display: box in wrapper below */
  position: absolute;
  left: 0px;
  right: 0px;
  top: 0px;
  bottom: 0px;
  overflow: visible;
}
body > #header {
  /* Initially hidden to prevent FLOUC */
  display: none;
  background-color: #fff;
  /* Display over codemirror */
  position: relative;
  z-index: 100;
}
body > #header #header-container {
  display: flex;
  flex-direction: row;
  justify-content: space-between;
  padding: 5px;
  padding-bottom: 5px;
  padding-top: 5px;
  box-sizing: border-box;
  -moz-box-sizing: border-box;
  -webkit-box-sizing: border-box;
}
body > #header .header-bar {
  width: 100%;
  height: 1px;
  background: #e7e7e7;
  margin-bottom: -1px;
}
@media print {
  body > #header {
    display: none !important;
  }
}
#header-spacer {
  width: 100%;
  visibility: hidden;
}
@media print {
  #header-spacer {
    display: none;
  }
}
#ipython_notebook {
  padding-left: 0px;
  padding-top: 1px;
  padding-bottom: 1px;
}
[dir="rtl"] #ipython_notebook {
  margin-right: 10px;
  margin-left: 0;
}
[dir="rtl"] #ipython_notebook.pull-left {
  float: right !important;
  float: right;
}
.flex-spacer {
  flex: 1;
}
#noscript {
  width: auto;
  padding-top: 16px;
  padding-bottom: 16px;
  text-align: center;
  font-size: 22px;
  color: red;
  font-weight: bold;
}
#ipython_notebook img {
  height: 28px;
}
#site {
  width: 100%;
  display: none;
  box-sizing: border-box;
  -moz-box-sizing: border-box;
  -webkit-box-sizing: border-box;
  overflow: auto;
}
@media print {
  #site {
    height: auto !important;
  }
}
/* Smaller buttons */
.ui-button .ui-button-text {
  padding: 0.2em 0.8em;
  font-size: 77%;
}
input.ui-button {
  padding: 0.3em 0.9em;
}
span#kernel_logo_widget {
  margin: 0 10px;
}
span#login_widget {
  float: right;
}
[dir="rtl"] span#login_widget {
  float: left;
}
span#login_widget > .button,
#logout {
  color: #333;
  background-color: #fff;
  border-color: #ccc;
}
span#login_widget > .button:focus,
#logout:focus,
span#login_widget > .button.focus,
#logout.focus {
  color: #333;
  background-color: #e6e6e6;
  border-color: #8c8c8c;
}
span#login_widget > .button:hover,
#logout:hover {
  color: #333;
  background-color: #e6e6e6;
  border-color: #adadad;
}
span#login_widget > .button:active,
#logout:active,
span#login_widget > .button.active,
#logout.active,
.open > .dropdown-togglespan#login_widget > .button,
.open > .dropdown-toggle#logout {
  color: #333;
  background-color: #e6e6e6;
  border-color: #adadad;
}
span#login_widget > .button:active:hover,
#logout:active:hover,
span#login_widget > .button.active:hover,
#logout.active:hover,
.open > .dropdown-togglespan#login_widget > .button:hover,
.open > .dropdown-toggle#logout:hover,
span#login_widget > .button:active:focus,
#logout:active:focus,
span#login_widget > .button.active:focus,
#logout.active:focus,
.open > .dropdown-togglespan#login_widget > .button:focus,
.open > .dropdown-toggle#logout:focus,
span#login_widget > .button:active.focus,
#logout:active.focus,
span#login_widget > .button.active.focus,
#logout.active.focus,
.open > .dropdown-togglespan#login_widget > .button.focus,
.open > .dropdown-toggle#logout.focus {
  color: #333;
  background-color: #d4d4d4;
  border-color: #8c8c8c;
}
span#login_widget > .button:active,
#logout:active,
span#login_widget > .button.active,
#logout.active,
.open > .dropdown-togglespan#login_widget > .button,
.open > .dropdown-toggle#logout {
  background-image: none;
}
span#login_widget > .button.disabled:hover,
#logout.disabled:hover,
span#login_widget > .button[disabled]:hover,
#logout[disabled]:hover,
fieldset[disabled] span#login_widget > .button:hover,
fieldset[disabled] #logout:hover,
span#login_widget > .button.disabled:focus,
#logout.disabled:focus,
span#login_widget > .button[disabled]:focus,
#logout[disabled]:focus,
fieldset[disabled] span#login_widget > .button:focus,
fieldset[disabled] #logout:focus,
span#login_widget > .button.disabled.focus,
#logout.disabled.focus,
span#login_widget > .button[disabled].focus,
#logout[disabled].focus,
fieldset[disabled] span#login_widget > .button.focus,
fieldset[disabled] #logout.focus {
  background-color: #fff;
  border-color: #ccc;
}
span#login_widget > .button .badge,
#logout .badge {
  color: #fff;
  background-color: #333;
}
.nav-header {
  text-transform: none;
}
#header > span {
  margin-top: 10px;
}
.modal_stretch .modal-dialog {
  /* Old browsers */
  display: -webkit-box;
  -webkit-box-orient: vertical;
  -webkit-box-align: stretch;
  display: -moz-box;
  -moz-box-orient: vertical;
  -moz-box-align: stretch;
  display: box;
  box-orient: vertical;
  box-align: stretch;
  /* Modern browsers */
  display: flex;
  flex-direction: column;
  align-items: stretch;
  min-height: 80vh;
}
.modal_stretch .modal-dialog .modal-body {
  max-height: calc(100vh - 200px);
  overflow: auto;
  flex: 1;
}
.modal-header {
  cursor: move;
}
@media (min-width: 768px) {
  .modal .modal-dialog {
    width: 700px;
  }
}
@media (min-width: 768px) {
  select.form-control {
    margin-left: 12px;
    margin-right: 12px;
  }
}
/*!
*
* IPython auth
*
*/
.center-nav {
  display: inline-block;
  margin-bottom: -4px;
}
[dir="rtl"] .center-nav form.pull-left {
  float: right !important;
  float: right;
}
[dir="rtl"] .center-nav .navbar-text {
  float: right;
}
[dir="rtl"] .navbar-inner {
  text-align: right;
}
[dir="rtl"] div.text-left {
  text-align: right;
}
/*!
*
* IPython tree view
*
*/
/* We need an invisible input field on top of the sentense*/
/* "Drag file onto the list ..." */
.alternate_upload {
  background-color: none;
  display: inline;
}
.alternate_upload.form {
  padding: 0;
  margin: 0;
}
.alternate_upload input.fileinput {
  position: absolute;
  display: block;
  width: 100%;
  height: 100%;
  overflow: hidden;
  cursor: pointer;
  opacity: 0;
  z-index: 2;
}
.alternate_upload .btn-xs > input.fileinput {
  margin: -1px -5px;
}
.alternate_upload .btn-upload {
  position: relative;
  height: 22px;
}
::-webkit-file-upload-button {
  cursor: pointer;
}
/**
 * Primary styles
 *
 * Author: Jupyter Development Team
 */
ul#tabs {
  margin-bottom: 4px;
}
ul#tabs a {
  padding-top: 6px;
  padding-bottom: 4px;
}
[dir="rtl"] ul#tabs.nav-tabs > li {
  float: right;
}
[dir="rtl"] ul#tabs.nav.nav-tabs {
  padding-right: 0;
}
ul.breadcrumb a:focus,
ul.breadcrumb a:hover {
  text-decoration: none;
}
ul.breadcrumb i.icon-home {
  font-size: 16px;
  margin-right: 4px;
}
ul.breadcrumb span {
  color: #5e5e5e;
}
.list_toolbar {
  padding: 4px 0 4px 0;
  vertical-align: middle;
}
.list_toolbar .tree-buttons {
  padding-top: 1px;
}
[dir="rtl"] .list_toolbar .tree-buttons .pull-right {
  float: left !important;
  float: left;
}
[dir="rtl"] .list_toolbar .col-sm-4,
[dir="rtl"] .list_toolbar .col-sm-8 {
  float: right;
}
.dynamic-buttons {
  padding-top: 3px;
  display: inline-block;
}
.list_toolbar [class*="span"] {
  min-height: 24px;
}
.list_header {
  font-weight: bold;
  background-color: #EEE;
}
.list_placeholder {
  font-weight: bold;
  padding-top: 4px;
  padding-bottom: 4px;
  padding-left: 7px;
  padding-right: 7px;
}
.list_container {
  margin-top: 4px;
  margin-bottom: 20px;
  border: 1px solid #ddd;
  border-radius: 2px;
}
.list_container > div {
  border-bottom: 1px solid #ddd;
}
.list_container > div:hover .list-item {
  background-color: red;
}
.list_container > div:last-child {
  border: none;
}
.list_item:hover .list_item {
  background-color: #ddd;
}
.list_item a {
  text-decoration: none;
}
.list_item:hover {
  background-color: #fafafa;
}
.list_header > div,
.list_item > div {
  padding-top: 4px;
  padding-bottom: 4px;
  padding-left: 7px;
  padding-right: 7px;
  line-height: 22px;
}
.list_header > div input,
.list_item > div input {
  margin-right: 7px;
  margin-left: 14px;
  vertical-align: text-bottom;
  line-height: 22px;
  position: relative;
  top: -1px;
}
.list_header > div .item_link,
.list_item > div .item_link {
  margin-left: -1px;
  vertical-align: baseline;
  line-height: 22px;
}
[dir="rtl"] .list_item > div input {
  margin-right: 0;
}
.new-file input[type=checkbox] {
  visibility: hidden;
}
.item_name {
  line-height: 22px;
  height: 24px;
}
.item_icon {
  font-size: 14px;
  color: #5e5e5e;
  margin-right: 7px;
  margin-left: 7px;
  line-height: 22px;
  vertical-align: baseline;
}
.item_modified {
  margin-right: 7px;
  margin-left: 7px;
}
[dir="rtl"] .item_modified.pull-right {
  float: left !important;
  float: left;
}
.item_buttons {
  line-height: 1em;
  margin-left: -5px;
}
.item_buttons .btn,
.item_buttons .btn-group,
.item_buttons .input-group {
  float: left;
}
.item_buttons > .btn,
.item_buttons > .btn-group,
.item_buttons > .input-group {
  margin-left: 5px;
}
.item_buttons .btn {
  min-width: 13ex;
}
.item_buttons .running-indicator {
  padding-top: 4px;
  color: #5cb85c;
}
.item_buttons .kernel-name {
  padding-top: 4px;
  color: #5bc0de;
  margin-right: 7px;
  float: left;
}
[dir="rtl"] .item_buttons.pull-right {
  float: left !important;
  float: left;
}
[dir="rtl"] .item_buttons .kernel-name {
  margin-left: 7px;
  float: right;
}
.toolbar_info {
  height: 24px;
  line-height: 24px;
}
.list_item input:not([type=checkbox]) {
  padding-top: 3px;
  padding-bottom: 3px;
  height: 22px;
  line-height: 14px;
  margin: 0px;
}
.highlight_text {
  color: blue;
}
#project_name {
  display: inline-block;
  padding-left: 7px;
  margin-left: -2px;
}
#project_name > .breadcrumb {
  padding: 0px;
  margin-bottom: 0px;
  background-color: transparent;
  font-weight: bold;
}
.sort_button {
  display: inline-block;
  padding-left: 7px;
}
[dir="rtl"] .sort_button.pull-right {
  float: left !important;
  float: left;
}
#tree-selector {
  padding-right: 0px;
}
#button-select-all {
  min-width: 50px;
}
[dir="rtl"] #button-select-all.btn {
  float: right ;
}
#select-all {
  margin-left: 7px;
  margin-right: 2px;
  margin-top: 2px;
  height: 16px;
}
[dir="rtl"] #select-all.pull-left {
  float: right !important;
  float: right;
}
.menu_icon {
  margin-right: 2px;
}
.tab-content .row {
  margin-left: 0px;
  margin-right: 0px;
}
.folder_icon:before {
  display: inline-block;
  font: normal normal normal 14px/1 FontAwesome;
  font-size: inherit;
  text-rendering: auto;
  -webkit-font-smoothing: antialiased;
  -moz-osx-font-smoothing: grayscale;
  content: "\f114";
}
.folder_icon:before.fa-pull-left {
  margin-right: .3em;
}
.folder_icon:before.fa-pull-right {
  margin-left: .3em;
}
.folder_icon:before.pull-left {
  margin-right: .3em;
}
.folder_icon:before.pull-right {
  margin-left: .3em;
}
.notebook_icon:before {
  display: inline-block;
  font: normal normal normal 14px/1 FontAwesome;
  font-size: inherit;
  text-rendering: auto;
  -webkit-font-smoothing: antialiased;
  -moz-osx-font-smoothing: grayscale;
  content: "\f02d";
  position: relative;
  top: -1px;
}
.notebook_icon:before.fa-pull-left {
  margin-right: .3em;
}
.notebook_icon:before.fa-pull-right {
  margin-left: .3em;
}
.notebook_icon:before.pull-left {
  margin-right: .3em;
}
.notebook_icon:before.pull-right {
  margin-left: .3em;
}
.running_notebook_icon:before {
  display: inline-block;
  font: normal normal normal 14px/1 FontAwesome;
  font-size: inherit;
  text-rendering: auto;
  -webkit-font-smoothing: antialiased;
  -moz-osx-font-smoothing: grayscale;
  content: "\f02d";
  position: relative;
  top: -1px;
  color: #5cb85c;
}
.running_notebook_icon:before.fa-pull-left {
  margin-right: .3em;
}
.running_notebook_icon:before.fa-pull-right {
  margin-left: .3em;
}
.running_notebook_icon:before.pull-left {
  margin-right: .3em;
}
.running_notebook_icon:before.pull-right {
  margin-left: .3em;
}
.file_icon:before {
  display: inline-block;
  font: normal normal normal 14px/1 FontAwesome;
  font-size: inherit;
  text-rendering: auto;
  -webkit-font-smoothing: antialiased;
  -moz-osx-font-smoothing: grayscale;
  content: "\f016";
  position: relative;
  top: -2px;
}
.file_icon:before.fa-pull-left {
  margin-right: .3em;
}
.file_icon:before.fa-pull-right {
  margin-left: .3em;
}
.file_icon:before.pull-left {
  margin-right: .3em;
}
.file_icon:before.pull-right {
  margin-left: .3em;
}
#notebook_toolbar .pull-right {
  padding-top: 0px;
  margin-right: -1px;
}
ul#new-menu {
  left: auto;
  right: 0;
}
#new-menu .dropdown-header {
  font-size: 10px;
  border-bottom: 1px solid #e5e5e5;
  padding: 0 0 3px;
  margin: -3px 20px 0;
}
.kernel-menu-icon {
  padding-right: 12px;
  width: 24px;
  content: "\f096";
}
.kernel-menu-icon:before {
  content: "\f096";
}
.kernel-menu-icon-current:before {
  content: "\f00c";
}
#tab_content {
  padding-top: 20px;
}
#running .panel-group .panel {
  margin-top: 3px;
  margin-bottom: 1em;
}
#running .panel-group .panel .panel-heading {
  background-color: #EEE;
  padding-top: 4px;
  padding-bottom: 4px;
  padding-left: 7px;
  padding-right: 7px;
  line-height: 22px;
}
#running .panel-group .panel .panel-heading a:focus,
#running .panel-group .panel .panel-heading a:hover {
  text-decoration: none;
}
#running .panel-group .panel .panel-body {
  padding: 0px;
}
#running .panel-group .panel .panel-body .list_container {
  margin-top: 0px;
  margin-bottom: 0px;
  border: 0px;
  border-radius: 0px;
}
#running .panel-group .panel .panel-body .list_container .list_item {
  border-bottom: 1px solid #ddd;
}
#running .panel-group .panel .panel-body .list_container .list_item:last-child {
  border-bottom: 0px;
}
.delete-button {
  display: none;
}
.duplicate-button {
  display: none;
}
.rename-button {
  display: none;
}
.move-button {
  display: none;
}
.download-button {
  display: none;
}
.shutdown-button {
  display: none;
}
.dynamic-instructions {
  display: inline-block;
  padding-top: 4px;
}
/*!
*
* IPython text editor webapp
*
*/
.selected-keymap i.fa {
  padding: 0px 5px;
}
.selected-keymap i.fa:before {
  content: "\f00c";
}
#mode-menu {
  overflow: auto;
  max-height: 20em;
}
.edit_app #header {
  -webkit-box-shadow: 0px 0px 12px 1px rgba(87, 87, 87, 0.2);
  box-shadow: 0px 0px 12px 1px rgba(87, 87, 87, 0.2);
}
.edit_app #menubar .navbar {
  /* Use a negative 1 bottom margin, so the border overlaps the border of the
    header */
  margin-bottom: -1px;
}
.dirty-indicator {
  display: inline-block;
  font: normal normal normal 14px/1 FontAwesome;
  font-size: inherit;
  text-rendering: auto;
  -webkit-font-smoothing: antialiased;
  -moz-osx-font-smoothing: grayscale;
  width: 20px;
}
.dirty-indicator.fa-pull-left {
  margin-right: .3em;
}
.dirty-indicator.fa-pull-right {
  margin-left: .3em;
}
.dirty-indicator.pull-left {
  margin-right: .3em;
}
.dirty-indicator.pull-right {
  margin-left: .3em;
}
.dirty-indicator-dirty {
  display: inline-block;
  font: normal normal normal 14px/1 FontAwesome;
  font-size: inherit;
  text-rendering: auto;
  -webkit-font-smoothing: antialiased;
  -moz-osx-font-smoothing: grayscale;
  width: 20px;
}
.dirty-indicator-dirty.fa-pull-left {
  margin-right: .3em;
}
.dirty-indicator-dirty.fa-pull-right {
  margin-left: .3em;
}
.dirty-indicator-dirty.pull-left {
  margin-right: .3em;
}
.dirty-indicator-dirty.pull-right {
  margin-left: .3em;
}
.dirty-indicator-clean {
  display: inline-block;
  font: normal normal normal 14px/1 FontAwesome;
  font-size: inherit;
  text-rendering: auto;
  -webkit-font-smoothing: antialiased;
  -moz-osx-font-smoothing: grayscale;
  width: 20px;
}
.dirty-indicator-clean.fa-pull-left {
  margin-right: .3em;
}
.dirty-indicator-clean.fa-pull-right {
  margin-left: .3em;
}
.dirty-indicator-clean.pull-left {
  margin-right: .3em;
}
.dirty-indicator-clean.pull-right {
  margin-left: .3em;
}
.dirty-indicator-clean:before {
  display: inline-block;
  font: normal normal normal 14px/1 FontAwesome;
  font-size: inherit;
  text-rendering: auto;
  -webkit-font-smoothing: antialiased;
  -moz-osx-font-smoothing: grayscale;
  content: "\f00c";
}
.dirty-indicator-clean:before.fa-pull-left {
  margin-right: .3em;
}
.dirty-indicator-clean:before.fa-pull-right {
  margin-left: .3em;
}
.dirty-indicator-clean:before.pull-left {
  margin-right: .3em;
}
.dirty-indicator-clean:before.pull-right {
  margin-left: .3em;
}
#filename {
  font-size: 16pt;
  display: table;
  padding: 0px 5px;
}
#current-mode {
  padding-left: 5px;
  padding-right: 5px;
}
#texteditor-backdrop {
  padding-top: 20px;
  padding-bottom: 20px;
}
@media not print {
  #texteditor-backdrop {
    background-color: #EEE;
  }
}
@media print {
  #texteditor-backdrop #texteditor-container .CodeMirror-gutter,
  #texteditor-backdrop #texteditor-container .CodeMirror-gutters {
    background-color: #fff;
  }
}
@media not print {
  #texteditor-backdrop #texteditor-container .CodeMirror-gutter,
  #texteditor-backdrop #texteditor-container .CodeMirror-gutters {
    background-color: #fff;
  }
}
@media not print {
  #texteditor-backdrop #texteditor-container {
    padding: 0px;
    background-color: #fff;
    -webkit-box-shadow: 0px 0px 12px 1px rgba(87, 87, 87, 0.2);
    box-shadow: 0px 0px 12px 1px rgba(87, 87, 87, 0.2);
  }
}
.CodeMirror-dialog {
  background-color: #fff;
}
/*!
*
* IPython notebook
*
*/
/* CSS font colors for translated ANSI escape sequences */
/* The color values are a mix of
   http://www.xcolors.net/dl/baskerville-ivorylight and
   http://www.xcolors.net/dl/euphrasia */
.ansi-black-fg {
  color: #3E424D;
}
.ansi-black-bg {
  background-color: #3E424D;
}
.ansi-black-intense-fg {
  color: #282C36;
}
.ansi-black-intense-bg {
  background-color: #282C36;
}
.ansi-red-fg {
  color: #E75C58;
}
.ansi-red-bg {
  background-color: #E75C58;
}
.ansi-red-intense-fg {
  color: #B22B31;
}
.ansi-red-intense-bg {
  background-color: #B22B31;
}
.ansi-green-fg {
  color: #00A250;
}
.ansi-green-bg {
  background-color: #00A250;
}
.ansi-green-intense-fg {
  color: #007427;
}
.ansi-green-intense-bg {
  background-color: #007427;
}
.ansi-yellow-fg {
  color: #DDB62B;
}
.ansi-yellow-bg {
  background-color: #DDB62B;
}
.ansi-yellow-intense-fg {
  color: #B27D12;
}
.ansi-yellow-intense-bg {
  background-color: #B27D12;
}
.ansi-blue-fg {
  color: #208FFB;
}
.ansi-blue-bg {
  background-color: #208FFB;
}
.ansi-blue-intense-fg {
  color: #0065CA;
}
.ansi-blue-intense-bg {
  background-color: #0065CA;
}
.ansi-magenta-fg {
  color: #D160C4;
}
.ansi-magenta-bg {
  background-color: #D160C4;
}
.ansi-magenta-intense-fg {
  color: #A03196;
}
.ansi-magenta-intense-bg {
  background-color: #A03196;
}
.ansi-cyan-fg {
  color: #60C6C8;
}
.ansi-cyan-bg {
  background-color: #60C6C8;
}
.ansi-cyan-intense-fg {
  color: #258F8F;
}
.ansi-cyan-intense-bg {
  background-color: #258F8F;
}
.ansi-white-fg {
  color: #C5C1B4;
}
.ansi-white-bg {
  background-color: #C5C1B4;
}
.ansi-white-intense-fg {
  color: #A1A6B2;
}
.ansi-white-intense-bg {
  background-color: #A1A6B2;
}
.ansi-default-inverse-fg {
  color: #FFFFFF;
}
.ansi-default-inverse-bg {
  background-color: #000000;
}
.ansi-bold {
  font-weight: bold;
}
.ansi-underline {
  text-decoration: underline;
}
/* The following styles are deprecated an will be removed in a future version */
.ansibold {
  font-weight: bold;
}
.ansi-inverse {
  outline: 0.5px dotted;
}
/* use dark versions for foreground, to improve visibility */
.ansiblack {
  color: black;
}
.ansired {
  color: darkred;
}
.ansigreen {
  color: darkgreen;
}
.ansiyellow {
  color: #c4a000;
}
.ansiblue {
  color: darkblue;
}
.ansipurple {
  color: darkviolet;
}
.ansicyan {
  color: steelblue;
}
.ansigray {
  color: gray;
}
/* and light for background, for the same reason */
.ansibgblack {
  background-color: black;
}
.ansibgred {
  background-color: red;
}
.ansibggreen {
  background-color: green;
}
.ansibgyellow {
  background-color: yellow;
}
.ansibgblue {
  background-color: blue;
}
.ansibgpurple {
  background-color: magenta;
}
.ansibgcyan {
  background-color: cyan;
}
.ansibggray {
  background-color: gray;
}
div.cell {
  /* Old browsers */
  display: -webkit-box;
  -webkit-box-orient: vertical;
  -webkit-box-align: stretch;
  display: -moz-box;
  -moz-box-orient: vertical;
  -moz-box-align: stretch;
  display: box;
  box-orient: vertical;
  box-align: stretch;
  /* Modern browsers */
  display: flex;
  flex-direction: column;
  align-items: stretch;
  border-radius: 2px;
  box-sizing: border-box;
  -moz-box-sizing: border-box;
  -webkit-box-sizing: border-box;
  border-width: 1px;
  border-style: solid;
  border-color: transparent;
  width: 100%;
  padding: 5px;
  /* This acts as a spacer between cells, that is outside the border */
  margin: 0px;
  outline: none;
  position: relative;
  overflow: visible;
}
div.cell:before {
  position: absolute;
  display: block;
  top: -1px;
  left: -1px;
  width: 5px;
  height: calc(100% +  2px);
  content: '';
  background: transparent;
}
div.cell.jupyter-soft-selected {
  border-left-color: #E3F2FD;
  border-left-width: 1px;
  padding-left: 5px;
  border-right-color: #E3F2FD;
  border-right-width: 1px;
  background: #E3F2FD;
}
@media print {
  div.cell.jupyter-soft-selected {
    border-color: transparent;
  }
}
div.cell.selected,
div.cell.selected.jupyter-soft-selected {
  border-color: #ababab;
}
div.cell.selected:before,
div.cell.selected.jupyter-soft-selected:before {
  position: absolute;
  display: block;
  top: -1px;
  left: -1px;
  width: 5px;
  height: calc(100% +  2px);
  content: '';
  background: #42A5F5;
}
@media print {
  div.cell.selected,
  div.cell.selected.jupyter-soft-selected {
    border-color: transparent;
  }
}
.edit_mode div.cell.selected {
  border-color: #66BB6A;
}
.edit_mode div.cell.selected:before {
  position: absolute;
  display: block;
  top: -1px;
  left: -1px;
  width: 5px;
  height: calc(100% +  2px);
  content: '';
  background: #66BB6A;
}
@media print {
  .edit_mode div.cell.selected {
    border-color: transparent;
  }
}
.prompt {
  /* This needs to be wide enough for 3 digit prompt numbers: In[100]: */
  min-width: 14ex;
  /* This padding is tuned to match the padding on the CodeMirror editor. */
  padding: 0.4em;
  margin: 0px;
  font-family: monospace;
  text-align: right;
  /* This has to match that of the the CodeMirror class line-height below */
  line-height: 1.21429em;
  /* Don't highlight prompt number selection */
  -webkit-touch-callout: none;
  -webkit-user-select: none;
  -khtml-user-select: none;
  -moz-user-select: none;
  -ms-user-select: none;
  user-select: none;
  /* Use default cursor */
  cursor: default;
}
@media (max-width: 540px) {
  .prompt {
    text-align: left;
  }
}
div.inner_cell {
  min-width: 0;
  /* Old browsers */
  display: -webkit-box;
  -webkit-box-orient: vertical;
  -webkit-box-align: stretch;
  display: -moz-box;
  -moz-box-orient: vertical;
  -moz-box-align: stretch;
  display: box;
  box-orient: vertical;
  box-align: stretch;
  /* Modern browsers */
  display: flex;
  flex-direction: column;
  align-items: stretch;
  /* Old browsers */
  -webkit-box-flex: 1;
  -moz-box-flex: 1;
  box-flex: 1;
  /* Modern browsers */
  flex: 1;
}
/* input_area and input_prompt must match in top border and margin for alignment */
div.input_area {
  border: 1px solid #cfcfcf;
  border-radius: 2px;
  background: #f7f7f7;
  line-height: 1.21429em;
}
/* This is needed so that empty prompt areas can collapse to zero height when there
   is no content in the output_subarea and the prompt. The main purpose of this is
   to make sure that empty JavaScript output_subareas have no height. */
div.prompt:empty {
  padding-top: 0;
  padding-bottom: 0;
}
div.unrecognized_cell {
  padding: 5px 5px 5px 0px;
  /* Old browsers */
  display: -webkit-box;
  -webkit-box-orient: horizontal;
  -webkit-box-align: stretch;
  display: -moz-box;
  -moz-box-orient: horizontal;
  -moz-box-align: stretch;
  display: box;
  box-orient: horizontal;
  box-align: stretch;
  /* Modern browsers */
  display: flex;
  flex-direction: row;
  align-items: stretch;
}
div.unrecognized_cell .inner_cell {
  border-radius: 2px;
  padding: 5px;
  font-weight: bold;
  color: red;
  border: 1px solid #cfcfcf;
  background: #eaeaea;
}
div.unrecognized_cell .inner_cell a {
  color: inherit;
  text-decoration: none;
}
div.unrecognized_cell .inner_cell a:hover {
  color: inherit;
  text-decoration: none;
}
@media (max-width: 540px) {
  div.unrecognized_cell > div.prompt {
    display: none;
  }
}
div.code_cell {
  /* avoid page breaking on code cells when printing */
}
@media print {
  div.code_cell {
    page-break-inside: avoid;
  }
}
/* any special styling for code cells that are currently running goes here */
div.input {
  page-break-inside: avoid;
  /* Old browsers */
  display: -webkit-box;
  -webkit-box-orient: horizontal;
  -webkit-box-align: stretch;
  display: -moz-box;
  -moz-box-orient: horizontal;
  -moz-box-align: stretch;
  display: box;
  box-orient: horizontal;
  box-align: stretch;
  /* Modern browsers */
  display: flex;
  flex-direction: row;
  align-items: stretch;
}
@media (max-width: 540px) {
  div.input {
    /* Old browsers */
    display: -webkit-box;
    -webkit-box-orient: vertical;
    -webkit-box-align: stretch;
    display: -moz-box;
    -moz-box-orient: vertical;
    -moz-box-align: stretch;
    display: box;
    box-orient: vertical;
    box-align: stretch;
    /* Modern browsers */
    display: flex;
    flex-direction: column;
    align-items: stretch;
  }
}
/* input_area and input_prompt must match in top border and margin for alignment */
div.input_prompt {
  color: #303F9F;
  border-top: 1px solid transparent;
}
div.input_area > div.highlight {
  margin: 0.4em;
  border: none;
  padding: 0px;
  background-color: transparent;
}
div.input_area > div.highlight > pre {
  margin: 0px;
  border: none;
  padding: 0px;
  background-color: transparent;
}
/* The following gets added to the <head> if it is detected that the user has a
 * monospace font with inconsistent normal/bold/italic height.  See
 * notebookmain.js.  Such fonts will have keywords vertically offset with
 * respect to the rest of the text.  The user should select a better font.
 * See: https://github.com/ipython/ipython/issues/1503
 *
 * .CodeMirror span {
 *      vertical-align: bottom;
 * }
 */
.CodeMirror {
  line-height: 1.21429em;
  /* Changed from 1em to our global default */
  font-size: 14px;
  height: auto;
  /* Changed to auto to autogrow */
  background: none;
  /* Changed from white to allow our bg to show through */
}
.CodeMirror-scroll {
  /*  The CodeMirror docs are a bit fuzzy on if overflow-y should be hidden or visible.*/
  /*  We have found that if it is visible, vertical scrollbars appear with font size changes.*/
  overflow-y: hidden;
  overflow-x: auto;
}
.CodeMirror-lines {
  /* In CM2, this used to be 0.4em, but in CM3 it went to 4px. We need the em value because */
  /* we have set a different line-height and want this to scale with that. */
  /* Note that this should set vertical padding only, since CodeMirror assumes
       that horizontal padding will be set on CodeMirror pre */
  padding: 0.4em 0;
}
.CodeMirror-linenumber {
  padding: 0 8px 0 4px;
}
.CodeMirror-gutters {
  border-bottom-left-radius: 2px;
  border-top-left-radius: 2px;
}
.CodeMirror pre {
  /* In CM3 this went to 4px from 0 in CM2. This sets horizontal padding only,
    use .CodeMirror-lines for vertical */
  padding: 0 0.4em;
  border: 0;
  border-radius: 0;
}
.CodeMirror-cursor {
  border-left: 1.4px solid black;
}
@media screen and (min-width: 2138px) and (max-width: 4319px) {
  .CodeMirror-cursor {
    border-left: 2px solid black;
  }
}
@media screen and (min-width: 4320px) {
  .CodeMirror-cursor {
    border-left: 4px solid black;
  }
}
/*

Original style from softwaremaniacs.org (c) Ivan Sagalaev <Maniac@SoftwareManiacs.Org>
Adapted from GitHub theme

*/
.highlight-base {
  color: #000;
}
.highlight-variable {
  color: #000;
}
.highlight-variable-2 {
  color: #1a1a1a;
}
.highlight-variable-3 {
  color: #333333;
}
.highlight-string {
  color: #BA2121;
}
.highlight-comment {
  color: #408080;
  font-style: italic;
}
.highlight-number {
  color: #080;
}
.highlight-atom {
  color: #88F;
}
.highlight-keyword {
  color: #008000;
  font-weight: bold;
}
.highlight-builtin {
  color: #008000;
}
.highlight-error {
  color: #f00;
}
.highlight-operator {
  color: #AA22FF;
  font-weight: bold;
}
.highlight-meta {
  color: #AA22FF;
}
/* previously not defined, copying from default codemirror */
.highlight-def {
  color: #00f;
}
.highlight-string-2 {
  color: #f50;
}
.highlight-qualifier {
  color: #555;
}
.highlight-bracket {
  color: #997;
}
.highlight-tag {
  color: #170;
}
.highlight-attribute {
  color: #00c;
}
.highlight-header {
  color: blue;
}
.highlight-quote {
  color: #090;
}
.highlight-link {
  color: #00c;
}
/* apply the same style to codemirror */
.cm-s-ipython span.cm-keyword {
  color: #008000;
  font-weight: bold;
}
.cm-s-ipython span.cm-atom {
  color: #88F;
}
.cm-s-ipython span.cm-number {
  color: #080;
}
.cm-s-ipython span.cm-def {
  color: #00f;
}
.cm-s-ipython span.cm-variable {
  color: #000;
}
.cm-s-ipython span.cm-operator {
  color: #AA22FF;
  font-weight: bold;
}
.cm-s-ipython span.cm-variable-2 {
  color: #1a1a1a;
}
.cm-s-ipython span.cm-variable-3 {
  color: #333333;
}
.cm-s-ipython span.cm-comment {
  color: #408080;
  font-style: italic;
}
.cm-s-ipython span.cm-string {
  color: #BA2121;
}
.cm-s-ipython span.cm-string-2 {
  color: #f50;
}
.cm-s-ipython span.cm-meta {
  color: #AA22FF;
}
.cm-s-ipython span.cm-qualifier {
  color: #555;
}
.cm-s-ipython span.cm-builtin {
  color: #008000;
}
.cm-s-ipython span.cm-bracket {
  color: #997;
}
.cm-s-ipython span.cm-tag {
  color: #170;
}
.cm-s-ipython span.cm-attribute {
  color: #00c;
}
.cm-s-ipython span.cm-header {
  color: blue;
}
.cm-s-ipython span.cm-quote {
  color: #090;
}
.cm-s-ipython span.cm-link {
  color: #00c;
}
.cm-s-ipython span.cm-error {
  color: #f00;
}
.cm-s-ipython span.cm-tab {
  background: url(data:image/png;base64,iVBORw0KGgoAAAANSUhEUgAAADAAAAAMCAYAAAAkuj5RAAAAAXNSR0IArs4c6QAAAGFJREFUSMft1LsRQFAQheHPowAKoACx3IgEKtaEHujDjORSgWTH/ZOdnZOcM/sgk/kFFWY0qV8foQwS4MKBCS3qR6ixBJvElOobYAtivseIE120FaowJPN75GMu8j/LfMwNjh4HUpwg4LUAAAAASUVORK5CYII=);
  background-position: right;
  background-repeat: no-repeat;
}
div.output_wrapper {
  /* this position must be relative to enable descendents to be absolute within it */
  position: relative;
  /* Old browsers */
  display: -webkit-box;
  -webkit-box-orient: vertical;
  -webkit-box-align: stretch;
  display: -moz-box;
  -moz-box-orient: vertical;
  -moz-box-align: stretch;
  display: box;
  box-orient: vertical;
  box-align: stretch;
  /* Modern browsers */
  display: flex;
  flex-direction: column;
  align-items: stretch;
  z-index: 1;
}
/* class for the output area when it should be height-limited */
div.output_scroll {
  /* ideally, this would be max-height, but FF barfs all over that */
  height: 24em;
  /* FF needs this *and the wrapper* to specify full width, or it will shrinkwrap */
  width: 100%;
  overflow: auto;
  border-radius: 2px;
  -webkit-box-shadow: inset 0 2px 8px rgba(0, 0, 0, 0.8);
  box-shadow: inset 0 2px 8px rgba(0, 0, 0, 0.8);
  display: block;
}
/* output div while it is collapsed */
div.output_collapsed {
  margin: 0px;
  padding: 0px;
  /* Old browsers */
  display: -webkit-box;
  -webkit-box-orient: vertical;
  -webkit-box-align: stretch;
  display: -moz-box;
  -moz-box-orient: vertical;
  -moz-box-align: stretch;
  display: box;
  box-orient: vertical;
  box-align: stretch;
  /* Modern browsers */
  display: flex;
  flex-direction: column;
  align-items: stretch;
}
div.out_prompt_overlay {
  height: 100%;
  padding: 0px 0.4em;
  position: absolute;
  border-radius: 2px;
}
div.out_prompt_overlay:hover {
  /* use inner shadow to get border that is computed the same on WebKit/FF */
  -webkit-box-shadow: inset 0 0 1px #000;
  box-shadow: inset 0 0 1px #000;
  background: rgba(240, 240, 240, 0.5);
}
div.output_prompt {
  color: #D84315;
}
/* This class is the outer container of all output sections. */
div.output_area {
  padding: 0px;
  page-break-inside: avoid;
  /* Old browsers */
  display: -webkit-box;
  -webkit-box-orient: horizontal;
  -webkit-box-align: stretch;
  display: -moz-box;
  -moz-box-orient: horizontal;
  -moz-box-align: stretch;
  display: box;
  box-orient: horizontal;
  box-align: stretch;
  /* Modern browsers */
  display: flex;
  flex-direction: row;
  align-items: stretch;
}
div.output_area .MathJax_Display {
  text-align: left !important;
}
div.output_area .rendered_html table {
  margin-left: 0;
  margin-right: 0;
}
div.output_area .rendered_html img {
  margin-left: 0;
  margin-right: 0;
}
div.output_area img,
div.output_area svg {
  max-width: 100%;
  height: auto;
}
div.output_area img.unconfined,
div.output_area svg.unconfined {
  max-width: none;
}
div.output_area .mglyph > img {
  max-width: none;
}
/* This is needed to protect the pre formating from global settings such
   as that of bootstrap */
.output {
  /* Old browsers */
  display: -webkit-box;
  -webkit-box-orient: vertical;
  -webkit-box-align: stretch;
  display: -moz-box;
  -moz-box-orient: vertical;
  -moz-box-align: stretch;
  display: box;
  box-orient: vertical;
  box-align: stretch;
  /* Modern browsers */
  display: flex;
  flex-direction: column;
  align-items: stretch;
}
@media (max-width: 540px) {
  div.output_area {
    /* Old browsers */
    display: -webkit-box;
    -webkit-box-orient: vertical;
    -webkit-box-align: stretch;
    display: -moz-box;
    -moz-box-orient: vertical;
    -moz-box-align: stretch;
    display: box;
    box-orient: vertical;
    box-align: stretch;
    /* Modern browsers */
    display: flex;
    flex-direction: column;
    align-items: stretch;
  }
}
div.output_area pre {
  margin: 0;
  padding: 1px 0 1px 0;
  border: 0;
  vertical-align: baseline;
  color: black;
  background-color: transparent;
  border-radius: 0;
}
/* This class is for the output subarea inside the output_area and after
   the prompt div. */
div.output_subarea {
  overflow-x: auto;
  padding: 0.4em;
  /* Old browsers */
  -webkit-box-flex: 1;
  -moz-box-flex: 1;
  box-flex: 1;
  /* Modern browsers */
  flex: 1;
  max-width: calc(100% - 14ex);
}
div.output_scroll div.output_subarea {
  overflow-x: visible;
}
/* The rest of the output_* classes are for special styling of the different
   output types */
/* all text output has this class: */
div.output_text {
  text-align: left;
  color: #000;
  /* This has to match that of the the CodeMirror class line-height below */
  line-height: 1.21429em;
}
/* stdout/stderr are 'text' as well as 'stream', but execute_result/error are *not* streams */
div.output_stderr {
  background: #fdd;
  /* very light red background for stderr */
}
div.output_latex {
  text-align: left;
}
/* Empty output_javascript divs should have no height */
div.output_javascript:empty {
  padding: 0;
}
.js-error {
  color: darkred;
}
/* raw_input styles */
div.raw_input_container {
  line-height: 1.21429em;
  padding-top: 5px;
}
pre.raw_input_prompt {
  /* nothing needed here. */
}
input.raw_input {
  font-family: monospace;
  font-size: inherit;
  color: inherit;
  width: auto;
  /* make sure input baseline aligns with prompt */
  vertical-align: baseline;
  /* padding + margin = 0.5em between prompt and cursor */
  padding: 0em 0.25em;
  margin: 0em 0.25em;
}
input.raw_input:focus {
  box-shadow: none;
}
p.p-space {
  margin-bottom: 10px;
}
div.output_unrecognized {
  padding: 5px;
  font-weight: bold;
  color: red;
}
div.output_unrecognized a {
  color: inherit;
  text-decoration: none;
}
div.output_unrecognized a:hover {
  color: inherit;
  text-decoration: none;
}
.rendered_html {
  color: #000;
  /* any extras will just be numbers: */
}
.rendered_html em {
  font-style: italic;
}
.rendered_html strong {
  font-weight: bold;
}
.rendered_html u {
  text-decoration: underline;
}
.rendered_html :link {
  text-decoration: underline;
}
.rendered_html :visited {
  text-decoration: underline;
}
.rendered_html h1 {
  font-size: 185.7%;
  margin: 1.08em 0 0 0;
  font-weight: bold;
  line-height: 1.0;
}
.rendered_html h2 {
  font-size: 157.1%;
  margin: 1.27em 0 0 0;
  font-weight: bold;
  line-height: 1.0;
}
.rendered_html h3 {
  font-size: 128.6%;
  margin: 1.55em 0 0 0;
  font-weight: bold;
  line-height: 1.0;
}
.rendered_html h4 {
  font-size: 100%;
  margin: 2em 0 0 0;
  font-weight: bold;
  line-height: 1.0;
}
.rendered_html h5 {
  font-size: 100%;
  margin: 2em 0 0 0;
  font-weight: bold;
  line-height: 1.0;
  font-style: italic;
}
.rendered_html h6 {
  font-size: 100%;
  margin: 2em 0 0 0;
  font-weight: bold;
  line-height: 1.0;
  font-style: italic;
}
.rendered_html h1:first-child {
  margin-top: 0.538em;
}
.rendered_html h2:first-child {
  margin-top: 0.636em;
}
.rendered_html h3:first-child {
  margin-top: 0.777em;
}
.rendered_html h4:first-child {
  margin-top: 1em;
}
.rendered_html h5:first-child {
  margin-top: 1em;
}
.rendered_html h6:first-child {
  margin-top: 1em;
}
.rendered_html ul:not(.list-inline),
.rendered_html ol:not(.list-inline) {
  padding-left: 2em;
}
.rendered_html ul {
  list-style: disc;
}
.rendered_html ul ul {
  list-style: square;
  margin-top: 0;
}
.rendered_html ul ul ul {
  list-style: circle;
}
.rendered_html ol {
  list-style: decimal;
}
.rendered_html ol ol {
  list-style: upper-alpha;
  margin-top: 0;
}
.rendered_html ol ol ol {
  list-style: lower-alpha;
}
.rendered_html ol ol ol ol {
  list-style: lower-roman;
}
.rendered_html ol ol ol ol ol {
  list-style: decimal;
}
.rendered_html * + ul {
  margin-top: 1em;
}
.rendered_html * + ol {
  margin-top: 1em;
}
.rendered_html hr {
  color: black;
  background-color: black;
}
.rendered_html pre {
  margin: 1em 2em;
  padding: 0px;
  background-color: #fff;
}
.rendered_html code {
  background-color: #eff0f1;
}
.rendered_html p code {
  padding: 1px 5px;
}
.rendered_html pre code {
  background-color: #fff;
}
.rendered_html pre,
.rendered_html code {
  border: 0;
  color: #000;
  font-size: 100%;
}
.rendered_html blockquote {
  margin: 1em 2em;
}
.rendered_html table {
  margin-left: auto;
  margin-right: auto;
  border: none;
  border-collapse: collapse;
  border-spacing: 0;
  color: black;
  font-size: 12px;
  table-layout: fixed;
}
.rendered_html thead {
  border-bottom: 1px solid black;
  vertical-align: bottom;
}
.rendered_html tr,
.rendered_html th,
.rendered_html td {
  text-align: right;
  vertical-align: middle;
  padding: 0.5em 0.5em;
  line-height: normal;
  white-space: normal;
  max-width: none;
  border: none;
}
.rendered_html th {
  font-weight: bold;
}
.rendered_html tbody tr:nth-child(odd) {
  background: #f5f5f5;
}
.rendered_html tbody tr:hover {
  background: rgba(66, 165, 245, 0.2);
}
.rendered_html * + table {
  margin-top: 1em;
}
.rendered_html p {
  text-align: left;
}
.rendered_html * + p {
  margin-top: 1em;
}
.rendered_html img {
  display: block;
  margin-left: auto;
  margin-right: auto;
}
.rendered_html * + img {
  margin-top: 1em;
}
.rendered_html img,
.rendered_html svg {
  max-width: 100%;
  height: auto;
}
.rendered_html img.unconfined,
.rendered_html svg.unconfined {
  max-width: none;
}
.rendered_html .alert {
  margin-bottom: initial;
}
.rendered_html * + .alert {
  margin-top: 1em;
}
[dir="rtl"] .rendered_html p {
  text-align: right;
}
div.text_cell {
  /* Old browsers */
  display: -webkit-box;
  -webkit-box-orient: horizontal;
  -webkit-box-align: stretch;
  display: -moz-box;
  -moz-box-orient: horizontal;
  -moz-box-align: stretch;
  display: box;
  box-orient: horizontal;
  box-align: stretch;
  /* Modern browsers */
  display: flex;
  flex-direction: row;
  align-items: stretch;
}
@media (max-width: 540px) {
  div.text_cell > div.prompt {
    display: none;
  }
}
div.text_cell_render {
  /*font-family: "Helvetica Neue", Arial, Helvetica, Geneva, sans-serif;*/
  outline: none;
  resize: none;
  width: inherit;
  border-style: none;
  padding: 0.5em 0.5em 0.5em 0.4em;
  color: #000;
  box-sizing: border-box;
  -moz-box-sizing: border-box;
  -webkit-box-sizing: border-box;
}
a.anchor-link:link {
  text-decoration: none;
  padding: 0px 20px;
  visibility: hidden;
}
h1:hover .anchor-link,
h2:hover .anchor-link,
h3:hover .anchor-link,
h4:hover .anchor-link,
h5:hover .anchor-link,
h6:hover .anchor-link {
  visibility: visible;
}
.text_cell.rendered .input_area {
  display: none;
}
.text_cell.rendered .rendered_html {
  overflow-x: auto;
  overflow-y: hidden;
}
.text_cell.rendered .rendered_html tr,
.text_cell.rendered .rendered_html th,
.text_cell.rendered .rendered_html td {
  max-width: none;
}
.text_cell.unrendered .text_cell_render {
  display: none;
}
.text_cell .dropzone .input_area {
  border: 2px dashed #bababa;
  margin: -1px;
}
.cm-header-1,
.cm-header-2,
.cm-header-3,
.cm-header-4,
.cm-header-5,
.cm-header-6 {
  font-weight: bold;
  font-family: "Helvetica Neue", Helvetica, Arial, sans-serif;
}
.cm-header-1 {
  font-size: 185.7%;
}
.cm-header-2 {
  font-size: 157.1%;
}
.cm-header-3 {
  font-size: 128.6%;
}
.cm-header-4 {
  font-size: 110%;
}
.cm-header-5 {
  font-size: 100%;
  font-style: italic;
}
.cm-header-6 {
  font-size: 100%;
  font-style: italic;
}
/*!
*
* IPython notebook webapp
*
*/
@media (max-width: 767px) {
  .notebook_app {
    padding-left: 0px;
    padding-right: 0px;
  }
}
#ipython-main-app {
  box-sizing: border-box;
  -moz-box-sizing: border-box;
  -webkit-box-sizing: border-box;
  height: 100%;
}
div#notebook_panel {
  margin: 0px;
  padding: 0px;
  box-sizing: border-box;
  -moz-box-sizing: border-box;
  -webkit-box-sizing: border-box;
  height: 100%;
}
div#notebook {
  font-size: 14px;
  line-height: 20px;
  overflow-y: hidden;
  overflow-x: auto;
  width: 100%;
  /* This spaces the page away from the edge of the notebook area */
  padding-top: 20px;
  margin: 0px;
  outline: none;
  box-sizing: border-box;
  -moz-box-sizing: border-box;
  -webkit-box-sizing: border-box;
  min-height: 100%;
}
@media not print {
  #notebook-container {
    padding: 15px;
    background-color: #fff;
    min-height: 0;
    -webkit-box-shadow: 0px 0px 12px 1px rgba(87, 87, 87, 0.2);
    box-shadow: 0px 0px 12px 1px rgba(87, 87, 87, 0.2);
  }
}
@media print {
  #notebook-container {
    width: 100%;
  }
}
div.ui-widget-content {
  border: 1px solid #ababab;
  outline: none;
}
pre.dialog {
  background-color: #f7f7f7;
  border: 1px solid #ddd;
  border-radius: 2px;
  padding: 0.4em;
  padding-left: 2em;
}
p.dialog {
  padding: 0.2em;
}
/* Word-wrap output correctly.  This is the CSS3 spelling, though Firefox seems
   to not honor it correctly.  Webkit browsers (Chrome, rekonq, Safari) do.
 */
pre,
code,
kbd,
samp {
  white-space: pre-wrap;
}
#fonttest {
  font-family: monospace;
}
p {
  margin-bottom: 0;
}
.end_space {
  min-height: 100px;
  transition: height .2s ease;
}
.notebook_app > #header {
  -webkit-box-shadow: 0px 0px 12px 1px rgba(87, 87, 87, 0.2);
  box-shadow: 0px 0px 12px 1px rgba(87, 87, 87, 0.2);
}
@media not print {
  .notebook_app {
    background-color: #EEE;
  }
}
kbd {
  border-style: solid;
  border-width: 1px;
  box-shadow: none;
  margin: 2px;
  padding-left: 2px;
  padding-right: 2px;
  padding-top: 1px;
  padding-bottom: 1px;
}
.jupyter-keybindings {
  padding: 1px;
  line-height: 24px;
  border-bottom: 1px solid gray;
}
.jupyter-keybindings input {
  margin: 0;
  padding: 0;
  border: none;
}
.jupyter-keybindings i {
  padding: 6px;
}
.well code {
  background-color: #ffffff;
  border-color: #ababab;
  border-width: 1px;
  border-style: solid;
  padding: 2px;
  padding-top: 1px;
  padding-bottom: 1px;
}
/* CSS for the cell toolbar */
.celltoolbar {
  border: thin solid #CFCFCF;
  border-bottom: none;
  background: #EEE;
  border-radius: 2px 2px 0px 0px;
  width: 100%;
  height: 29px;
  padding-right: 4px;
  /* Old browsers */
  display: -webkit-box;
  -webkit-box-orient: horizontal;
  -webkit-box-align: stretch;
  display: -moz-box;
  -moz-box-orient: horizontal;
  -moz-box-align: stretch;
  display: box;
  box-orient: horizontal;
  box-align: stretch;
  /* Modern browsers */
  display: flex;
  flex-direction: row;
  align-items: stretch;
  /* Old browsers */
  -webkit-box-pack: end;
  -moz-box-pack: end;
  box-pack: end;
  /* Modern browsers */
  justify-content: flex-end;
  display: -webkit-flex;
}
@media print {
  .celltoolbar {
    display: none;
  }
}
.ctb_hideshow {
  display: none;
  vertical-align: bottom;
}
/* ctb_show is added to the ctb_hideshow div to show the cell toolbar.
   Cell toolbars are only shown when the ctb_global_show class is also set.
*/
.ctb_global_show .ctb_show.ctb_hideshow {
  display: block;
}
.ctb_global_show .ctb_show + .input_area,
.ctb_global_show .ctb_show + div.text_cell_input,
.ctb_global_show .ctb_show ~ div.text_cell_render {
  border-top-right-radius: 0px;
  border-top-left-radius: 0px;
}
.ctb_global_show .ctb_show ~ div.text_cell_render {
  border: 1px solid #cfcfcf;
}
.celltoolbar {
  font-size: 87%;
  padding-top: 3px;
}
.celltoolbar select {
  display: block;
  width: 100%;
  height: 32px;
  padding: 6px 12px;
  font-size: 13px;
  line-height: 1.42857143;
  color: #555555;
  background-color: #fff;
  background-image: none;
  border: 1px solid #ccc;
  border-radius: 2px;
  -webkit-box-shadow: inset 0 1px 1px rgba(0, 0, 0, 0.075);
  box-shadow: inset 0 1px 1px rgba(0, 0, 0, 0.075);
  -webkit-transition: border-color ease-in-out .15s, box-shadow ease-in-out .15s;
  -o-transition: border-color ease-in-out .15s, box-shadow ease-in-out .15s;
  transition: border-color ease-in-out .15s, box-shadow ease-in-out .15s;
  height: 30px;
  padding: 5px 10px;
  font-size: 12px;
  line-height: 1.5;
  border-radius: 1px;
  width: inherit;
  font-size: inherit;
  height: 22px;
  padding: 0px;
  display: inline-block;
}
.celltoolbar select:focus {
  border-color: #66afe9;
  outline: 0;
  -webkit-box-shadow: inset 0 1px 1px rgba(0,0,0,.075), 0 0 8px rgba(102, 175, 233, 0.6);
  box-shadow: inset 0 1px 1px rgba(0,0,0,.075), 0 0 8px rgba(102, 175, 233, 0.6);
}
.celltoolbar select::-moz-placeholder {
  color: #999;
  opacity: 1;
}
.celltoolbar select:-ms-input-placeholder {
  color: #999;
}
.celltoolbar select::-webkit-input-placeholder {
  color: #999;
}
.celltoolbar select::-ms-expand {
  border: 0;
  background-color: transparent;
}
.celltoolbar select[disabled],
.celltoolbar select[readonly],
fieldset[disabled] .celltoolbar select {
  background-color: #eeeeee;
  opacity: 1;
}
.celltoolbar select[disabled],
fieldset[disabled] .celltoolbar select {
  cursor: not-allowed;
}
textarea.celltoolbar select {
  height: auto;
}
select.celltoolbar select {
  height: 30px;
  line-height: 30px;
}
textarea.celltoolbar select,
select[multiple].celltoolbar select {
  height: auto;
}
.celltoolbar label {
  margin-left: 5px;
  margin-right: 5px;
}
.tags_button_container {
  width: 100%;
  display: flex;
}
.tag-container {
  display: flex;
  flex-direction: row;
  flex-grow: 1;
  overflow: hidden;
  position: relative;
}
.tag-container > * {
  margin: 0 4px;
}
.remove-tag-btn {
  margin-left: 4px;
}
.tags-input {
  display: flex;
}
.cell-tag:last-child:after {
  content: "";
  position: absolute;
  right: 0;
  width: 40px;
  height: 100%;
  /* Fade to background color of cell toolbar */
  background: linear-gradient(to right, rgba(0, 0, 0, 0), #EEE);
}
.tags-input > * {
  margin-left: 4px;
}
.cell-tag,
.tags-input input,
.tags-input button {
  display: block;
  width: 100%;
  height: 32px;
  padding: 6px 12px;
  font-size: 13px;
  line-height: 1.42857143;
  color: #555555;
  background-color: #fff;
  background-image: none;
  border: 1px solid #ccc;
  border-radius: 2px;
  -webkit-box-shadow: inset 0 1px 1px rgba(0, 0, 0, 0.075);
  box-shadow: inset 0 1px 1px rgba(0, 0, 0, 0.075);
  -webkit-transition: border-color ease-in-out .15s, box-shadow ease-in-out .15s;
  -o-transition: border-color ease-in-out .15s, box-shadow ease-in-out .15s;
  transition: border-color ease-in-out .15s, box-shadow ease-in-out .15s;
  height: 30px;
  padding: 5px 10px;
  font-size: 12px;
  line-height: 1.5;
  border-radius: 1px;
  box-shadow: none;
  width: inherit;
  font-size: inherit;
  height: 22px;
  line-height: 22px;
  padding: 0px 4px;
  display: inline-block;
}
.cell-tag:focus,
.tags-input input:focus,
.tags-input button:focus {
  border-color: #66afe9;
  outline: 0;
  -webkit-box-shadow: inset 0 1px 1px rgba(0,0,0,.075), 0 0 8px rgba(102, 175, 233, 0.6);
  box-shadow: inset 0 1px 1px rgba(0,0,0,.075), 0 0 8px rgba(102, 175, 233, 0.6);
}
.cell-tag::-moz-placeholder,
.tags-input input::-moz-placeholder,
.tags-input button::-moz-placeholder {
  color: #999;
  opacity: 1;
}
.cell-tag:-ms-input-placeholder,
.tags-input input:-ms-input-placeholder,
.tags-input button:-ms-input-placeholder {
  color: #999;
}
.cell-tag::-webkit-input-placeholder,
.tags-input input::-webkit-input-placeholder,
.tags-input button::-webkit-input-placeholder {
  color: #999;
}
.cell-tag::-ms-expand,
.tags-input input::-ms-expand,
.tags-input button::-ms-expand {
  border: 0;
  background-color: transparent;
}
.cell-tag[disabled],
.tags-input input[disabled],
.tags-input button[disabled],
.cell-tag[readonly],
.tags-input input[readonly],
.tags-input button[readonly],
fieldset[disabled] .cell-tag,
fieldset[disabled] .tags-input input,
fieldset[disabled] .tags-input button {
  background-color: #eeeeee;
  opacity: 1;
}
.cell-tag[disabled],
.tags-input input[disabled],
.tags-input button[disabled],
fieldset[disabled] .cell-tag,
fieldset[disabled] .tags-input input,
fieldset[disabled] .tags-input button {
  cursor: not-allowed;
}
textarea.cell-tag,
textarea.tags-input input,
textarea.tags-input button {
  height: auto;
}
select.cell-tag,
select.tags-input input,
select.tags-input button {
  height: 30px;
  line-height: 30px;
}
textarea.cell-tag,
textarea.tags-input input,
textarea.tags-input button,
select[multiple].cell-tag,
select[multiple].tags-input input,
select[multiple].tags-input button {
  height: auto;
}
.cell-tag,
.tags-input button {
  padding: 0px 4px;
}
.cell-tag {
  background-color: #fff;
  white-space: nowrap;
}
.tags-input input[type=text]:focus {
  outline: none;
  box-shadow: none;
  border-color: #ccc;
}
.completions {
  position: absolute;
  z-index: 110;
  overflow: hidden;
  border: 1px solid #ababab;
  border-radius: 2px;
  -webkit-box-shadow: 0px 6px 10px -1px #adadad;
  box-shadow: 0px 6px 10px -1px #adadad;
  line-height: 1;
}
.completions select {
  background: white;
  outline: none;
  border: none;
  padding: 0px;
  margin: 0px;
  overflow: auto;
  font-family: monospace;
  font-size: 110%;
  color: #000;
  width: auto;
}
.completions select option.context {
  color: #286090;
}
#kernel_logo_widget .current_kernel_logo {
  display: none;
  margin-top: -1px;
  margin-bottom: -1px;
  width: 32px;
  height: 32px;
}
[dir="rtl"] #kernel_logo_widget {
  float: left !important;
  float: left;
}
.modal .modal-body .move-path {
  display: flex;
  flex-direction: row;
  justify-content: space;
  align-items: center;
}
.modal .modal-body .move-path .server-root {
  padding-right: 20px;
}
.modal .modal-body .move-path .path-input {
  flex: 1;
}
#menubar {
  box-sizing: border-box;
  -moz-box-sizing: border-box;
  -webkit-box-sizing: border-box;
  margin-top: 1px;
}
#menubar .navbar {
  border-top: 1px;
  border-radius: 0px 0px 2px 2px;
  margin-bottom: 0px;
}
#menubar .navbar-toggle {
  float: left;
  padding-top: 7px;
  padding-bottom: 7px;
  border: none;
}
#menubar .navbar-collapse {
  clear: left;
}
[dir="rtl"] #menubar .navbar-toggle {
  float: right;
}
[dir="rtl"] #menubar .navbar-collapse {
  clear: right;
}
[dir="rtl"] #menubar .navbar-nav {
  float: right;
}
[dir="rtl"] #menubar .nav {
  padding-right: 0px;
}
[dir="rtl"] #menubar .navbar-nav > li {
  float: right;
}
[dir="rtl"] #menubar .navbar-right {
  float: left !important;
}
[dir="rtl"] ul.dropdown-menu {
  text-align: right;
  left: auto;
}
[dir="rtl"] ul#new-menu.dropdown-menu {
  right: auto;
  left: 0;
}
.nav-wrapper {
  border-bottom: 1px solid #e7e7e7;
}
i.menu-icon {
  padding-top: 4px;
}
[dir="rtl"] i.menu-icon.pull-right {
  float: left !important;
  float: left;
}
ul#help_menu li a {
  overflow: hidden;
  padding-right: 2.2em;
}
ul#help_menu li a i {
  margin-right: -1.2em;
}
[dir="rtl"] ul#help_menu li a {
  padding-left: 2.2em;
}
[dir="rtl"] ul#help_menu li a i {
  margin-right: 0;
  margin-left: -1.2em;
}
[dir="rtl"] ul#help_menu li a i.pull-right {
  float: left !important;
  float: left;
}
.dropdown-submenu {
  position: relative;
}
.dropdown-submenu > .dropdown-menu {
  top: 0;
  left: 100%;
  margin-top: -6px;
  margin-left: -1px;
}
[dir="rtl"] .dropdown-submenu > .dropdown-menu {
  right: 100%;
  margin-right: -1px;
}
.dropdown-submenu:hover > .dropdown-menu {
  display: block;
}
.dropdown-submenu > a:after {
  display: inline-block;
  font: normal normal normal 14px/1 FontAwesome;
  font-size: inherit;
  text-rendering: auto;
  -webkit-font-smoothing: antialiased;
  -moz-osx-font-smoothing: grayscale;
  display: block;
  content: "\f0da";
  float: right;
  color: #333333;
  margin-top: 2px;
  margin-right: -10px;
}
.dropdown-submenu > a:after.fa-pull-left {
  margin-right: .3em;
}
.dropdown-submenu > a:after.fa-pull-right {
  margin-left: .3em;
}
.dropdown-submenu > a:after.pull-left {
  margin-right: .3em;
}
.dropdown-submenu > a:after.pull-right {
  margin-left: .3em;
}
[dir="rtl"] .dropdown-submenu > a:after {
  float: left;
  content: "\f0d9";
  margin-right: 0;
  margin-left: -10px;
}
.dropdown-submenu:hover > a:after {
  color: #262626;
}
.dropdown-submenu.pull-left {
  float: none;
}
.dropdown-submenu.pull-left > .dropdown-menu {
  left: -100%;
  margin-left: 10px;
}
#notification_area {
  float: right !important;
  float: right;
  z-index: 10;
}
[dir="rtl"] #notification_area {
  float: left !important;
  float: left;
}
.indicator_area {
  float: right !important;
  float: right;
  color: #777;
  margin-left: 5px;
  margin-right: 5px;
  width: 11px;
  z-index: 10;
  text-align: center;
  width: auto;
}
[dir="rtl"] .indicator_area {
  float: left !important;
  float: left;
}
#kernel_indicator {
  float: right !important;
  float: right;
  color: #777;
  margin-left: 5px;
  margin-right: 5px;
  width: 11px;
  z-index: 10;
  text-align: center;
  width: auto;
  border-left: 1px solid;
}
#kernel_indicator .kernel_indicator_name {
  padding-left: 5px;
  padding-right: 5px;
}
[dir="rtl"] #kernel_indicator {
  float: left !important;
  float: left;
  border-left: 0;
  border-right: 1px solid;
}
#modal_indicator {
  float: right !important;
  float: right;
  color: #777;
  margin-left: 5px;
  margin-right: 5px;
  width: 11px;
  z-index: 10;
  text-align: center;
  width: auto;
}
[dir="rtl"] #modal_indicator {
  float: left !important;
  float: left;
}
#readonly-indicator {
  float: right !important;
  float: right;
  color: #777;
  margin-left: 5px;
  margin-right: 5px;
  width: 11px;
  z-index: 10;
  text-align: center;
  width: auto;
  margin-top: 2px;
  margin-bottom: 0px;
  margin-left: 0px;
  margin-right: 0px;
  display: none;
}
.modal_indicator:before {
  width: 1.28571429em;
  text-align: center;
}
.edit_mode .modal_indicator:before {
  display: inline-block;
  font: normal normal normal 14px/1 FontAwesome;
  font-size: inherit;
  text-rendering: auto;
  -webkit-font-smoothing: antialiased;
  -moz-osx-font-smoothing: grayscale;
  content: "\f040";
}
.edit_mode .modal_indicator:before.fa-pull-left {
  margin-right: .3em;
}
.edit_mode .modal_indicator:before.fa-pull-right {
  margin-left: .3em;
}
.edit_mode .modal_indicator:before.pull-left {
  margin-right: .3em;
}
.edit_mode .modal_indicator:before.pull-right {
  margin-left: .3em;
}
.command_mode .modal_indicator:before {
  display: inline-block;
  font: normal normal normal 14px/1 FontAwesome;
  font-size: inherit;
  text-rendering: auto;
  -webkit-font-smoothing: antialiased;
  -moz-osx-font-smoothing: grayscale;
  content: ' ';
}
.command_mode .modal_indicator:before.fa-pull-left {
  margin-right: .3em;
}
.command_mode .modal_indicator:before.fa-pull-right {
  margin-left: .3em;
}
.command_mode .modal_indicator:before.pull-left {
  margin-right: .3em;
}
.command_mode .modal_indicator:before.pull-right {
  margin-left: .3em;
}
.kernel_idle_icon:before {
  display: inline-block;
  font: normal normal normal 14px/1 FontAwesome;
  font-size: inherit;
  text-rendering: auto;
  -webkit-font-smoothing: antialiased;
  -moz-osx-font-smoothing: grayscale;
  content: "\f10c";
}
.kernel_idle_icon:before.fa-pull-left {
  margin-right: .3em;
}
.kernel_idle_icon:before.fa-pull-right {
  margin-left: .3em;
}
.kernel_idle_icon:before.pull-left {
  margin-right: .3em;
}
.kernel_idle_icon:before.pull-right {
  margin-left: .3em;
}
.kernel_busy_icon:before {
  display: inline-block;
  font: normal normal normal 14px/1 FontAwesome;
  font-size: inherit;
  text-rendering: auto;
  -webkit-font-smoothing: antialiased;
  -moz-osx-font-smoothing: grayscale;
  content: "\f111";
}
.kernel_busy_icon:before.fa-pull-left {
  margin-right: .3em;
}
.kernel_busy_icon:before.fa-pull-right {
  margin-left: .3em;
}
.kernel_busy_icon:before.pull-left {
  margin-right: .3em;
}
.kernel_busy_icon:before.pull-right {
  margin-left: .3em;
}
.kernel_dead_icon:before {
  display: inline-block;
  font: normal normal normal 14px/1 FontAwesome;
  font-size: inherit;
  text-rendering: auto;
  -webkit-font-smoothing: antialiased;
  -moz-osx-font-smoothing: grayscale;
  content: "\f1e2";
}
.kernel_dead_icon:before.fa-pull-left {
  margin-right: .3em;
}
.kernel_dead_icon:before.fa-pull-right {
  margin-left: .3em;
}
.kernel_dead_icon:before.pull-left {
  margin-right: .3em;
}
.kernel_dead_icon:before.pull-right {
  margin-left: .3em;
}
.kernel_disconnected_icon:before {
  display: inline-block;
  font: normal normal normal 14px/1 FontAwesome;
  font-size: inherit;
  text-rendering: auto;
  -webkit-font-smoothing: antialiased;
  -moz-osx-font-smoothing: grayscale;
  content: "\f127";
}
.kernel_disconnected_icon:before.fa-pull-left {
  margin-right: .3em;
}
.kernel_disconnected_icon:before.fa-pull-right {
  margin-left: .3em;
}
.kernel_disconnected_icon:before.pull-left {
  margin-right: .3em;
}
.kernel_disconnected_icon:before.pull-right {
  margin-left: .3em;
}
.notification_widget {
  color: #777;
  z-index: 10;
  background: rgba(240, 240, 240, 0.5);
  margin-right: 4px;
  color: #333;
  background-color: #fff;
  border-color: #ccc;
}
.notification_widget:focus,
.notification_widget.focus {
  color: #333;
  background-color: #e6e6e6;
  border-color: #8c8c8c;
}
.notification_widget:hover {
  color: #333;
  background-color: #e6e6e6;
  border-color: #adadad;
}
.notification_widget:active,
.notification_widget.active,
.open > .dropdown-toggle.notification_widget {
  color: #333;
  background-color: #e6e6e6;
  border-color: #adadad;
}
.notification_widget:active:hover,
.notification_widget.active:hover,
.open > .dropdown-toggle.notification_widget:hover,
.notification_widget:active:focus,
.notification_widget.active:focus,
.open > .dropdown-toggle.notification_widget:focus,
.notification_widget:active.focus,
.notification_widget.active.focus,
.open > .dropdown-toggle.notification_widget.focus {
  color: #333;
  background-color: #d4d4d4;
  border-color: #8c8c8c;
}
.notification_widget:active,
.notification_widget.active,
.open > .dropdown-toggle.notification_widget {
  background-image: none;
}
.notification_widget.disabled:hover,
.notification_widget[disabled]:hover,
fieldset[disabled] .notification_widget:hover,
.notification_widget.disabled:focus,
.notification_widget[disabled]:focus,
fieldset[disabled] .notification_widget:focus,
.notification_widget.disabled.focus,
.notification_widget[disabled].focus,
fieldset[disabled] .notification_widget.focus {
  background-color: #fff;
  border-color: #ccc;
}
.notification_widget .badge {
  color: #fff;
  background-color: #333;
}
.notification_widget.warning {
  color: #fff;
  background-color: #f0ad4e;
  border-color: #eea236;
}
.notification_widget.warning:focus,
.notification_widget.warning.focus {
  color: #fff;
  background-color: #ec971f;
  border-color: #985f0d;
}
.notification_widget.warning:hover {
  color: #fff;
  background-color: #ec971f;
  border-color: #d58512;
}
.notification_widget.warning:active,
.notification_widget.warning.active,
.open > .dropdown-toggle.notification_widget.warning {
  color: #fff;
  background-color: #ec971f;
  border-color: #d58512;
}
.notification_widget.warning:active:hover,
.notification_widget.warning.active:hover,
.open > .dropdown-toggle.notification_widget.warning:hover,
.notification_widget.warning:active:focus,
.notification_widget.warning.active:focus,
.open > .dropdown-toggle.notification_widget.warning:focus,
.notification_widget.warning:active.focus,
.notification_widget.warning.active.focus,
.open > .dropdown-toggle.notification_widget.warning.focus {
  color: #fff;
  background-color: #d58512;
  border-color: #985f0d;
}
.notification_widget.warning:active,
.notification_widget.warning.active,
.open > .dropdown-toggle.notification_widget.warning {
  background-image: none;
}
.notification_widget.warning.disabled:hover,
.notification_widget.warning[disabled]:hover,
fieldset[disabled] .notification_widget.warning:hover,
.notification_widget.warning.disabled:focus,
.notification_widget.warning[disabled]:focus,
fieldset[disabled] .notification_widget.warning:focus,
.notification_widget.warning.disabled.focus,
.notification_widget.warning[disabled].focus,
fieldset[disabled] .notification_widget.warning.focus {
  background-color: #f0ad4e;
  border-color: #eea236;
}
.notification_widget.warning .badge {
  color: #f0ad4e;
  background-color: #fff;
}
.notification_widget.success {
  color: #fff;
  background-color: #5cb85c;
  border-color: #4cae4c;
}
.notification_widget.success:focus,
.notification_widget.success.focus {
  color: #fff;
  background-color: #449d44;
  border-color: #255625;
}
.notification_widget.success:hover {
  color: #fff;
  background-color: #449d44;
  border-color: #398439;
}
.notification_widget.success:active,
.notification_widget.success.active,
.open > .dropdown-toggle.notification_widget.success {
  color: #fff;
  background-color: #449d44;
  border-color: #398439;
}
.notification_widget.success:active:hover,
.notification_widget.success.active:hover,
.open > .dropdown-toggle.notification_widget.success:hover,
.notification_widget.success:active:focus,
.notification_widget.success.active:focus,
.open > .dropdown-toggle.notification_widget.success:focus,
.notification_widget.success:active.focus,
.notification_widget.success.active.focus,
.open > .dropdown-toggle.notification_widget.success.focus {
  color: #fff;
  background-color: #398439;
  border-color: #255625;
}
.notification_widget.success:active,
.notification_widget.success.active,
.open > .dropdown-toggle.notification_widget.success {
  background-image: none;
}
.notification_widget.success.disabled:hover,
.notification_widget.success[disabled]:hover,
fieldset[disabled] .notification_widget.success:hover,
.notification_widget.success.disabled:focus,
.notification_widget.success[disabled]:focus,
fieldset[disabled] .notification_widget.success:focus,
.notification_widget.success.disabled.focus,
.notification_widget.success[disabled].focus,
fieldset[disabled] .notification_widget.success.focus {
  background-color: #5cb85c;
  border-color: #4cae4c;
}
.notification_widget.success .badge {
  color: #5cb85c;
  background-color: #fff;
}
.notification_widget.info {
  color: #fff;
  background-color: #5bc0de;
  border-color: #46b8da;
}
.notification_widget.info:focus,
.notification_widget.info.focus {
  color: #fff;
  background-color: #31b0d5;
  border-color: #1b6d85;
}
.notification_widget.info:hover {
  color: #fff;
  background-color: #31b0d5;
  border-color: #269abc;
}
.notification_widget.info:active,
.notification_widget.info.active,
.open > .dropdown-toggle.notification_widget.info {
  color: #fff;
  background-color: #31b0d5;
  border-color: #269abc;
}
.notification_widget.info:active:hover,
.notification_widget.info.active:hover,
.open > .dropdown-toggle.notification_widget.info:hover,
.notification_widget.info:active:focus,
.notification_widget.info.active:focus,
.open > .dropdown-toggle.notification_widget.info:focus,
.notification_widget.info:active.focus,
.notification_widget.info.active.focus,
.open > .dropdown-toggle.notification_widget.info.focus {
  color: #fff;
  background-color: #269abc;
  border-color: #1b6d85;
}
.notification_widget.info:active,
.notification_widget.info.active,
.open > .dropdown-toggle.notification_widget.info {
  background-image: none;
}
.notification_widget.info.disabled:hover,
.notification_widget.info[disabled]:hover,
fieldset[disabled] .notification_widget.info:hover,
.notification_widget.info.disabled:focus,
.notification_widget.info[disabled]:focus,
fieldset[disabled] .notification_widget.info:focus,
.notification_widget.info.disabled.focus,
.notification_widget.info[disabled].focus,
fieldset[disabled] .notification_widget.info.focus {
  background-color: #5bc0de;
  border-color: #46b8da;
}
.notification_widget.info .badge {
  color: #5bc0de;
  background-color: #fff;
}
.notification_widget.danger {
  color: #fff;
  background-color: #d9534f;
  border-color: #d43f3a;
}
.notification_widget.danger:focus,
.notification_widget.danger.focus {
  color: #fff;
  background-color: #c9302c;
  border-color: #761c19;
}
.notification_widget.danger:hover {
  color: #fff;
  background-color: #c9302c;
  border-color: #ac2925;
}
.notification_widget.danger:active,
.notification_widget.danger.active,
.open > .dropdown-toggle.notification_widget.danger {
  color: #fff;
  background-color: #c9302c;
  border-color: #ac2925;
}
.notification_widget.danger:active:hover,
.notification_widget.danger.active:hover,
.open > .dropdown-toggle.notification_widget.danger:hover,
.notification_widget.danger:active:focus,
.notification_widget.danger.active:focus,
.open > .dropdown-toggle.notification_widget.danger:focus,
.notification_widget.danger:active.focus,
.notification_widget.danger.active.focus,
.open > .dropdown-toggle.notification_widget.danger.focus {
  color: #fff;
  background-color: #ac2925;
  border-color: #761c19;
}
.notification_widget.danger:active,
.notification_widget.danger.active,
.open > .dropdown-toggle.notification_widget.danger {
  background-image: none;
}
.notification_widget.danger.disabled:hover,
.notification_widget.danger[disabled]:hover,
fieldset[disabled] .notification_widget.danger:hover,
.notification_widget.danger.disabled:focus,
.notification_widget.danger[disabled]:focus,
fieldset[disabled] .notification_widget.danger:focus,
.notification_widget.danger.disabled.focus,
.notification_widget.danger[disabled].focus,
fieldset[disabled] .notification_widget.danger.focus {
  background-color: #d9534f;
  border-color: #d43f3a;
}
.notification_widget.danger .badge {
  color: #d9534f;
  background-color: #fff;
}
div#pager {
  background-color: #fff;
  font-size: 14px;
  line-height: 20px;
  overflow: hidden;
  display: none;
  position: fixed;
  bottom: 0px;
  width: 100%;
  max-height: 50%;
  padding-top: 8px;
  -webkit-box-shadow: 0px 0px 12px 1px rgba(87, 87, 87, 0.2);
  box-shadow: 0px 0px 12px 1px rgba(87, 87, 87, 0.2);
  /* Display over codemirror */
  z-index: 100;
  /* Hack which prevents jquery ui resizable from changing top. */
  top: auto !important;
}
div#pager pre {
  line-height: 1.21429em;
  color: #000;
  background-color: #f7f7f7;
  padding: 0.4em;
}
div#pager #pager-button-area {
  position: absolute;
  top: 8px;
  right: 20px;
}
div#pager #pager-contents {
  position: relative;
  overflow: auto;
  width: 100%;
  height: 100%;
}
div#pager #pager-contents #pager-container {
  position: relative;
  padding: 15px 0px;
  box-sizing: border-box;
  -moz-box-sizing: border-box;
  -webkit-box-sizing: border-box;
}
div#pager .ui-resizable-handle {
  top: 0px;
  height: 8px;
  background: #f7f7f7;
  border-top: 1px solid #cfcfcf;
  border-bottom: 1px solid #cfcfcf;
  /* This injects handle bars (a short, wide = symbol) for 
        the resize handle. */
}
div#pager .ui-resizable-handle::after {
  content: '';
  top: 2px;
  left: 50%;
  height: 3px;
  width: 30px;
  margin-left: -15px;
  position: absolute;
  border-top: 1px solid #cfcfcf;
}
.quickhelp {
  /* Old browsers */
  display: -webkit-box;
  -webkit-box-orient: horizontal;
  -webkit-box-align: stretch;
  display: -moz-box;
  -moz-box-orient: horizontal;
  -moz-box-align: stretch;
  display: box;
  box-orient: horizontal;
  box-align: stretch;
  /* Modern browsers */
  display: flex;
  flex-direction: row;
  align-items: stretch;
  line-height: 1.8em;
}
.shortcut_key {
  display: inline-block;
  width: 21ex;
  text-align: right;
  font-family: monospace;
}
.shortcut_descr {
  display: inline-block;
  /* Old browsers */
  -webkit-box-flex: 1;
  -moz-box-flex: 1;
  box-flex: 1;
  /* Modern browsers */
  flex: 1;
}
span.save_widget {
  height: 30px;
  margin-top: 4px;
  display: flex;
  justify-content: flex-start;
  align-items: baseline;
  width: 50%;
  flex: 1;
}
span.save_widget span.filename {
  height: 100%;
  line-height: 1em;
  margin-left: 16px;
  border: none;
  font-size: 146.5%;
  text-overflow: ellipsis;
  overflow: hidden;
  white-space: nowrap;
  border-radius: 2px;
}
span.save_widget span.filename:hover {
  background-color: #e6e6e6;
}
[dir="rtl"] span.save_widget.pull-left {
  float: right !important;
  float: right;
}
[dir="rtl"] span.save_widget span.filename {
  margin-left: 0;
  margin-right: 16px;
}
span.checkpoint_status,
span.autosave_status {
  font-size: small;
  white-space: nowrap;
  padding: 0 5px;
}
@media (max-width: 767px) {
  span.save_widget {
    font-size: small;
    padding: 0 0 0 5px;
  }
  span.checkpoint_status,
  span.autosave_status {
    display: none;
  }
}
@media (min-width: 768px) and (max-width: 991px) {
  span.checkpoint_status {
    display: none;
  }
  span.autosave_status {
    font-size: x-small;
  }
}
.toolbar {
  padding: 0px;
  margin-left: -5px;
  margin-top: 2px;
  margin-bottom: 5px;
  box-sizing: border-box;
  -moz-box-sizing: border-box;
  -webkit-box-sizing: border-box;
}
.toolbar select,
.toolbar label {
  width: auto;
  vertical-align: middle;
  margin-right: 2px;
  margin-bottom: 0px;
  display: inline;
  font-size: 92%;
  margin-left: 0.3em;
  margin-right: 0.3em;
  padding: 0px;
  padding-top: 3px;
}
.toolbar .btn {
  padding: 2px 8px;
}
.toolbar .btn-group {
  margin-top: 0px;
  margin-left: 5px;
}
.toolbar-btn-label {
  margin-left: 6px;
}
#maintoolbar {
  margin-bottom: -3px;
  margin-top: -8px;
  border: 0px;
  min-height: 27px;
  margin-left: 0px;
  padding-top: 11px;
  padding-bottom: 3px;
}
#maintoolbar .navbar-text {
  float: none;
  vertical-align: middle;
  text-align: right;
  margin-left: 5px;
  margin-right: 0px;
  margin-top: 0px;
}
.select-xs {
  height: 24px;
}
[dir="rtl"] .btn-group > .btn,
.btn-group-vertical > .btn {
  float: right;
}
.pulse,
.dropdown-menu > li > a.pulse,
li.pulse > a.dropdown-toggle,
li.pulse.open > a.dropdown-toggle {
  background-color: #F37626;
  color: white;
}
/**
 * Primary styles
 *
 * Author: Jupyter Development Team
 */
/** WARNING IF YOU ARE EDITTING THIS FILE, if this is a .css file, It has a lot
 * of chance of beeing generated from the ../less/[samename].less file, you can
 * try to get back the less file by reverting somme commit in history
 **/
/*
 * We'll try to get something pretty, so we
 * have some strange css to have the scroll bar on
 * the left with fix button on the top right of the tooltip
 */
@-moz-keyframes fadeOut {
  from {
    opacity: 1;
  }
  to {
    opacity: 0;
  }
}
@-webkit-keyframes fadeOut {
  from {
    opacity: 1;
  }
  to {
    opacity: 0;
  }
}
@-moz-keyframes fadeIn {
  from {
    opacity: 0;
  }
  to {
    opacity: 1;
  }
}
@-webkit-keyframes fadeIn {
  from {
    opacity: 0;
  }
  to {
    opacity: 1;
  }
}
/*properties of tooltip after "expand"*/
.bigtooltip {
  overflow: auto;
  height: 200px;
  -webkit-transition-property: height;
  -webkit-transition-duration: 500ms;
  -moz-transition-property: height;
  -moz-transition-duration: 500ms;
  transition-property: height;
  transition-duration: 500ms;
}
/*properties of tooltip before "expand"*/
.smalltooltip {
  -webkit-transition-property: height;
  -webkit-transition-duration: 500ms;
  -moz-transition-property: height;
  -moz-transition-duration: 500ms;
  transition-property: height;
  transition-duration: 500ms;
  text-overflow: ellipsis;
  overflow: hidden;
  height: 80px;
}
.tooltipbuttons {
  position: absolute;
  padding-right: 15px;
  top: 0px;
  right: 0px;
}
.tooltiptext {
  /*avoid the button to overlap on some docstring*/
  padding-right: 30px;
}
.ipython_tooltip {
  max-width: 700px;
  /*fade-in animation when inserted*/
  -webkit-animation: fadeOut 400ms;
  -moz-animation: fadeOut 400ms;
  animation: fadeOut 400ms;
  -webkit-animation: fadeIn 400ms;
  -moz-animation: fadeIn 400ms;
  animation: fadeIn 400ms;
  vertical-align: middle;
  background-color: #f7f7f7;
  overflow: visible;
  border: #ababab 1px solid;
  outline: none;
  padding: 3px;
  margin: 0px;
  padding-left: 7px;
  font-family: monospace;
  min-height: 50px;
  -moz-box-shadow: 0px 6px 10px -1px #adadad;
  -webkit-box-shadow: 0px 6px 10px -1px #adadad;
  box-shadow: 0px 6px 10px -1px #adadad;
  border-radius: 2px;
  position: absolute;
  z-index: 1000;
}
.ipython_tooltip a {
  float: right;
}
.ipython_tooltip .tooltiptext pre {
  border: 0;
  border-radius: 0;
  font-size: 100%;
  background-color: #f7f7f7;
}
.pretooltiparrow {
  left: 0px;
  margin: 0px;
  top: -16px;
  width: 40px;
  height: 16px;
  overflow: hidden;
  position: absolute;
}
.pretooltiparrow:before {
  background-color: #f7f7f7;
  border: 1px #ababab solid;
  z-index: 11;
  content: "";
  position: absolute;
  left: 15px;
  top: 10px;
  width: 25px;
  height: 25px;
  -webkit-transform: rotate(45deg);
  -moz-transform: rotate(45deg);
  -ms-transform: rotate(45deg);
  -o-transform: rotate(45deg);
}
ul.typeahead-list i {
  margin-left: -10px;
  width: 18px;
}
[dir="rtl"] ul.typeahead-list i {
  margin-left: 0;
  margin-right: -10px;
}
ul.typeahead-list {
  max-height: 80vh;
  overflow: auto;
}
ul.typeahead-list > li > a {
  /** Firefox bug **/
  /* see https://github.com/jupyter/notebook/issues/559 */
  white-space: normal;
}
ul.typeahead-list  > li > a.pull-right {
  float: left !important;
  float: left;
}
[dir="rtl"] .typeahead-list {
  text-align: right;
}
.cmd-palette .modal-body {
  padding: 7px;
}
.cmd-palette form {
  background: white;
}
.cmd-palette input {
  outline: none;
}
.no-shortcut {
  min-width: 20px;
  color: transparent;
}
[dir="rtl"] .no-shortcut.pull-right {
  float: left !important;
  float: left;
}
[dir="rtl"] .command-shortcut.pull-right {
  float: left !important;
  float: left;
}
.command-shortcut:before {
  content: "(command mode)";
  padding-right: 3px;
  color: #777777;
}
.edit-shortcut:before {
  content: "(edit)";
  padding-right: 3px;
  color: #777777;
}
[dir="rtl"] .edit-shortcut.pull-right {
  float: left !important;
  float: left;
}
#find-and-replace #replace-preview .match,
#find-and-replace #replace-preview .insert {
  background-color: #BBDEFB;
  border-color: #90CAF9;
  border-style: solid;
  border-width: 1px;
  border-radius: 0px;
}
[dir="ltr"] #find-and-replace .input-group-btn + .form-control {
  border-left: none;
}
[dir="rtl"] #find-and-replace .input-group-btn + .form-control {
  border-right: none;
}
#find-and-replace #replace-preview .replace .match {
  background-color: #FFCDD2;
  border-color: #EF9A9A;
  border-radius: 0px;
}
#find-and-replace #replace-preview .replace .insert {
  background-color: #C8E6C9;
  border-color: #A5D6A7;
  border-radius: 0px;
}
#find-and-replace #replace-preview {
  max-height: 60vh;
  overflow: auto;
}
#find-and-replace #replace-preview pre {
  padding: 5px 10px;
}
.terminal-app {
  background: #EEE;
}
.terminal-app #header {
  background: #fff;
  -webkit-box-shadow: 0px 0px 12px 1px rgba(87, 87, 87, 0.2);
  box-shadow: 0px 0px 12px 1px rgba(87, 87, 87, 0.2);
}
.terminal-app .terminal {
  width: 100%;
  float: left;
  font-family: monospace;
  color: white;
  background: black;
  padding: 0.4em;
  border-radius: 2px;
  -webkit-box-shadow: 0px 0px 12px 1px rgba(87, 87, 87, 0.4);
  box-shadow: 0px 0px 12px 1px rgba(87, 87, 87, 0.4);
}
.terminal-app .terminal,
.terminal-app .terminal dummy-screen {
  line-height: 1em;
  font-size: 14px;
}
.terminal-app .terminal .xterm-rows {
  padding: 10px;
}
.terminal-app .terminal-cursor {
  color: black;
  background: white;
}
.terminal-app #terminado-container {
  margin-top: 20px;
}
/*# sourceMappingURL=style.min.css.map */
    </style>
<style type="text/css">
    .highlight .hll { background-color: #ffffcc }
.highlight  { background: #f8f8f8; }
.highlight .c { color: #408080; font-style: italic } /* Comment */
.highlight .err { border: 1px solid #FF0000 } /* Error */
.highlight .k { color: #008000; font-weight: bold } /* Keyword */
.highlight .o { color: #666666 } /* Operator */
.highlight .ch { color: #408080; font-style: italic } /* Comment.Hashbang */
.highlight .cm { color: #408080; font-style: italic } /* Comment.Multiline */
.highlight .cp { color: #BC7A00 } /* Comment.Preproc */
.highlight .cpf { color: #408080; font-style: italic } /* Comment.PreprocFile */
.highlight .c1 { color: #408080; font-style: italic } /* Comment.Single */
.highlight .cs { color: #408080; font-style: italic } /* Comment.Special */
.highlight .gd { color: #A00000 } /* Generic.Deleted */
.highlight .ge { font-style: italic } /* Generic.Emph */
.highlight .gr { color: #FF0000 } /* Generic.Error */
.highlight .gh { color: #000080; font-weight: bold } /* Generic.Heading */
.highlight .gi { color: #00A000 } /* Generic.Inserted */
.highlight .go { color: #888888 } /* Generic.Output */
.highlight .gp { color: #000080; font-weight: bold } /* Generic.Prompt */
.highlight .gs { font-weight: bold } /* Generic.Strong */
.highlight .gu { color: #800080; font-weight: bold } /* Generic.Subheading */
.highlight .gt { color: #0044DD } /* Generic.Traceback */
.highlight .kc { color: #008000; font-weight: bold } /* Keyword.Constant */
.highlight .kd { color: #008000; font-weight: bold } /* Keyword.Declaration */
.highlight .kn { color: #008000; font-weight: bold } /* Keyword.Namespace */
.highlight .kp { color: #008000 } /* Keyword.Pseudo */
.highlight .kr { color: #008000; font-weight: bold } /* Keyword.Reserved */
.highlight .kt { color: #B00040 } /* Keyword.Type */
.highlight .m { color: #666666 } /* Literal.Number */
.highlight .s { color: #BA2121 } /* Literal.String */
.highlight .na { color: #7D9029 } /* Name.Attribute */
.highlight .nb { color: #008000 } /* Name.Builtin */
.highlight .nc { color: #0000FF; font-weight: bold } /* Name.Class */
.highlight .no { color: #880000 } /* Name.Constant */
.highlight .nd { color: #AA22FF } /* Name.Decorator */
.highlight .ni { color: #999999; font-weight: bold } /* Name.Entity */
.highlight .ne { color: #D2413A; font-weight: bold } /* Name.Exception */
.highlight .nf { color: #0000FF } /* Name.Function */
.highlight .nl { color: #A0A000 } /* Name.Label */
.highlight .nn { color: #0000FF; font-weight: bold } /* Name.Namespace */
.highlight .nt { color: #008000; font-weight: bold } /* Name.Tag */
.highlight .nv { color: #19177C } /* Name.Variable */
.highlight .ow { color: #AA22FF; font-weight: bold } /* Operator.Word */
.highlight .w { color: #bbbbbb } /* Text.Whitespace */
.highlight .mb { color: #666666 } /* Literal.Number.Bin */
.highlight .mf { color: #666666 } /* Literal.Number.Float */
.highlight .mh { color: #666666 } /* Literal.Number.Hex */
.highlight .mi { color: #666666 } /* Literal.Number.Integer */
.highlight .mo { color: #666666 } /* Literal.Number.Oct */
.highlight .sa { color: #BA2121 } /* Literal.String.Affix */
.highlight .sb { color: #BA2121 } /* Literal.String.Backtick */
.highlight .sc { color: #BA2121 } /* Literal.String.Char */
.highlight .dl { color: #BA2121 } /* Literal.String.Delimiter */
.highlight .sd { color: #BA2121; font-style: italic } /* Literal.String.Doc */
.highlight .s2 { color: #BA2121 } /* Literal.String.Double */
.highlight .se { color: #BB6622; font-weight: bold } /* Literal.String.Escape */
.highlight .sh { color: #BA2121 } /* Literal.String.Heredoc */
.highlight .si { color: #BB6688; font-weight: bold } /* Literal.String.Interpol */
.highlight .sx { color: #008000 } /* Literal.String.Other */
.highlight .sr { color: #BB6688 } /* Literal.String.Regex */
.highlight .s1 { color: #BA2121 } /* Literal.String.Single */
.highlight .ss { color: #19177C } /* Literal.String.Symbol */
.highlight .bp { color: #008000 } /* Name.Builtin.Pseudo */
.highlight .fm { color: #0000FF } /* Name.Function.Magic */
.highlight .vc { color: #19177C } /* Name.Variable.Class */
.highlight .vg { color: #19177C } /* Name.Variable.Global */
.highlight .vi { color: #19177C } /* Name.Variable.Instance */
.highlight .vm { color: #19177C } /* Name.Variable.Magic */
.highlight .il { color: #666666 } /* Literal.Number.Integer.Long */
    </style>
<style type="text/css">
    
/* Temporary definitions which will become obsolete with Notebook release 5.0 */
.ansi-black-fg { color: #3E424D; }
.ansi-black-bg { background-color: #3E424D; }
.ansi-black-intense-fg { color: #282C36; }
.ansi-black-intense-bg { background-color: #282C36; }
.ansi-red-fg { color: #E75C58; }
.ansi-red-bg { background-color: #E75C58; }
.ansi-red-intense-fg { color: #B22B31; }
.ansi-red-intense-bg { background-color: #B22B31; }
.ansi-green-fg { color: #00A250; }
.ansi-green-bg { background-color: #00A250; }
.ansi-green-intense-fg { color: #007427; }
.ansi-green-intense-bg { background-color: #007427; }
.ansi-yellow-fg { color: #DDB62B; }
.ansi-yellow-bg { background-color: #DDB62B; }
.ansi-yellow-intense-fg { color: #B27D12; }
.ansi-yellow-intense-bg { background-color: #B27D12; }
.ansi-blue-fg { color: #208FFB; }
.ansi-blue-bg { background-color: #208FFB; }
.ansi-blue-intense-fg { color: #0065CA; }
.ansi-blue-intense-bg { background-color: #0065CA; }
.ansi-magenta-fg { color: #D160C4; }
.ansi-magenta-bg { background-color: #D160C4; }
.ansi-magenta-intense-fg { color: #A03196; }
.ansi-magenta-intense-bg { background-color: #A03196; }
.ansi-cyan-fg { color: #60C6C8; }
.ansi-cyan-bg { background-color: #60C6C8; }
.ansi-cyan-intense-fg { color: #258F8F; }
.ansi-cyan-intense-bg { background-color: #258F8F; }
.ansi-white-fg { color: #C5C1B4; }
.ansi-white-bg { background-color: #C5C1B4; }
.ansi-white-intense-fg { color: #A1A6B2; }
.ansi-white-intense-bg { background-color: #A1A6B2; }

.ansi-bold { font-weight: bold; }

    </style>
<style type="text/css">
    body[data-notebook-name] > #header #header-container:not(.show-panel), /* body has data-notebook-name attribute when 
a notebook is open. this rule won't be applied when the notebook is not open (in 404 view for example) */
body[data-notebook-name] #menubar-container #maintoolbar:not(.show-panel),
body[data-notebook-name] #menubar-container ul.navbar-nav:not(.show-panel) {
  display: none;
}

#menubar.only-panel #menus.navbar-default {
    background: #fff;
    border-color: #fff;
}

.toolbar.with-statusbar{
    margin-top: 3px;
    margin-bottom: 0;
}

    </style>


<style type="text/css">
/* Overrides of notebook CSS for static HTML export */
body {
  overflow: visible;
  padding: 8px;
}

div#notebook {
  overflow: visible;
  border-top: none;
}@media print {
  div.cell {
    display: block;
    page-break-inside: avoid;
  } 
  div.output_wrapper { 
    display: block;
    page-break-inside: avoid; 
  }
  div.output { 
    display: block;
    page-break-inside: avoid; 
  }
}
</style>

<!-- Custom stylesheet, it must be in the same directory as the html file -->
<link rel="stylesheet" href="custom.css">

<!-- Loading mathjax macro -->
<!-- Load mathjax -->
    <script src="https://cdnjs.cloudflare.com/ajax/libs/mathjax/2.7.1/MathJax.js?config=TeX-AMS_HTML"></script>
    <!-- MathJax configuration -->
    <script type="text/x-mathjax-config">
    MathJax.Hub.Config({
        tex2jax: {
            inlineMath: [ ['$','$'], ["\\(","\\)"] ],
            displayMath: [ ['$$','$$'], ["\\[","\\]"] ],
            processEscapes: true,
            processEnvironments: true
        },
        // Center justify equations in code and markdown cells. Elsewhere
        // we use CSS to left justify single line equations in code cells.
        displayAlign: 'center',
        "HTML-CSS": {
            styles: {'.MathJax_Display': {"margin": 0}},
            linebreaks: { automatic: true }
        }
    });
    </script>
    <!-- End of mathjax configuration --></head>
<body>
  <div tabindex="-1" id="notebook" class="border-box-sizing">
    <div class="container" id="notebook-container">

<div class="cell border-box-sizing text_cell rendered"><div class="prompt input_prompt">
</div><div class="inner_cell">
<div class="text_cell_render border-box-sizing rendered_html">
<blockquote><p><strong>Tip</strong>: Welcome to the Investigate a Dataset project! You will find tips in quoted sections like this to help organize your approach to your investigation. Before submitting your project, it will be a good idea to go back through your report and remove these sections to make the presentation of your work as tidy as possible. First things first, you might want to double-click this Markdown cell and change the title so that it reflects your dataset and investigation.</p>
</blockquote>
<h1 id="Project:-Investigate-a-Dataset-(No_Show_Appointments)">Project: Investigate a Dataset (No_Show_Appointments)<a class="anchor-link" href="#Project:-Investigate-a-Dataset-(No_Show_Appointments)">&#182;</a></h1><h2 id="Table-of-Contents">Table of Contents<a class="anchor-link" href="#Table-of-Contents">&#182;</a></h2><ul>
<li><a href="#intro">Introduction</a></li>
<li><a href="#wrangling">Data Wrangling</a></li>
<li><a href="#eda">Exploratory Data Analysis</a></li>
<li><a href="#Gender">Is there a correlation between Gender & No_show?</a></li>
<li><a href="#SMS_Received">Does the SMS_Received will affect the number of people who showed up?</a></li>
<li><a href="#age">Does age affects those who come and those who did not come?</a></li>
<li><a href="#conclusions">Does age affects those who come and those who did not come?</a></li>
<li><a href="#Diabetes">For people who got Diabetes?</a></li>
<li><a href="#Hypertension">Analysing in terms of Hypertension?</a></li>
<li><a href="#Scholarship">About the Scholarship?</a></li>
<li><a href="#Alcoholism">For people who got Alcoholism?</a></li>
<li><a href="#conclusions">Conclusions</a></li>
</ul>
</div>
</div>
</div>
<div class="cell border-box-sizing text_cell rendered"><div class="prompt input_prompt">
</div><div class="inner_cell">
<div class="text_cell_render border-box-sizing rendered_html">
<p><a id='intro'></a></p>
<h2 id="Introduction">Introduction<a class="anchor-link" href="#Introduction">&#182;</a></h2><blockquote><p><strong>Tip</strong>:</p>
<ul>
<li>the dataset that i have selected called "No-show appointments" and in this dataset i am being required to analyze if the people would show up for their appoiment or not based on the given columns i have to presume or to analyze if the answer is gonna be yes they would show up or they would be not</li>
<li>The dataset consist of 14 columns and 110528 rows and they do need to be processing then cleanning and then analyzing and the final phase will be the outcomes of the analysis   </li>
</ul>
</blockquote>

</div>
</div>
</div>
<div class="cell border-box-sizing code_cell rendered">
<div class="input">
<div class="prompt input_prompt">In&nbsp;[2]:</div>
<div class="inner_cell">
    <div class="input_area">
<div class=" highlight hl-ipython3"><pre><span></span><span class="c1"># Use this cell to set up import statements for all of the packages that you</span>
<span class="kn">import</span> <span class="nn">pandas</span> <span class="k">as</span> <span class="nn">pd</span>
<span class="kn">import</span> <span class="nn">numpy</span> <span class="k">as</span> <span class="nn">np</span>
<span class="kn">import</span> <span class="nn">seaborn</span> <span class="k">as</span> <span class="nn">sns</span>
<span class="kn">import</span> <span class="nn">matplotlib.pyplot</span> <span class="k">as</span> <span class="nn">plt</span>
<span class="o">%</span> <span class="n">matplotlib</span> <span class="n">inline</span>
<span class="n">df</span> <span class="o">=</span> <span class="n">pd</span><span class="o">.</span><span class="n">read_csv</span><span class="p">(</span><span class="s1">&#39;noshowappointments-kagglev2-may-2016.csv&#39;</span><span class="p">)</span>
<span class="n">df</span><span class="o">.</span><span class="n">head</span><span class="p">()</span>
</pre></div>

    </div>
</div>
</div>

<div class="output_wrapper">
<div class="output">


<div class="output_area">

    <div class="prompt output_prompt">Out[2]:</div>



<div class="output_html rendered_html output_subarea output_execute_result">
<div>
<style scoped>
    .dataframe tbody tr th:only-of-type {
        vertical-align: middle;
    }

    .dataframe tbody tr th {
        vertical-align: top;
    }

    .dataframe thead th {
        text-align: right;
    }
</style>
<table border="1" class="dataframe">
  <thead>
    <tr style="text-align: right;">
      <th></th>
      <th>PatientId</th>
      <th>AppointmentID</th>
      <th>Gender</th>
      <th>ScheduledDay</th>
      <th>AppointmentDay</th>
      <th>Age</th>
      <th>Neighbourhood</th>
      <th>Scholarship</th>
      <th>Hipertension</th>
      <th>Diabetes</th>
      <th>Alcoholism</th>
      <th>Handcap</th>
      <th>SMS_received</th>
      <th>No-show</th>
    </tr>
  </thead>
  <tbody>
    <tr>
      <th>0</th>
      <td>2.987250e+13</td>
      <td>5642903</td>
      <td>F</td>
      <td>2016-04-29T18:38:08Z</td>
      <td>2016-04-29T00:00:00Z</td>
      <td>62</td>
      <td>JARDIM DA PENHA</td>
      <td>0</td>
      <td>1</td>
      <td>0</td>
      <td>0</td>
      <td>0</td>
      <td>0</td>
      <td>No</td>
    </tr>
    <tr>
      <th>1</th>
      <td>5.589978e+14</td>
      <td>5642503</td>
      <td>M</td>
      <td>2016-04-29T16:08:27Z</td>
      <td>2016-04-29T00:00:00Z</td>
      <td>56</td>
      <td>JARDIM DA PENHA</td>
      <td>0</td>
      <td>0</td>
      <td>0</td>
      <td>0</td>
      <td>0</td>
      <td>0</td>
      <td>No</td>
    </tr>
    <tr>
      <th>2</th>
      <td>4.262962e+12</td>
      <td>5642549</td>
      <td>F</td>
      <td>2016-04-29T16:19:04Z</td>
      <td>2016-04-29T00:00:00Z</td>
      <td>62</td>
      <td>MATA DA PRAIA</td>
      <td>0</td>
      <td>0</td>
      <td>0</td>
      <td>0</td>
      <td>0</td>
      <td>0</td>
      <td>No</td>
    </tr>
    <tr>
      <th>3</th>
      <td>8.679512e+11</td>
      <td>5642828</td>
      <td>F</td>
      <td>2016-04-29T17:29:31Z</td>
      <td>2016-04-29T00:00:00Z</td>
      <td>8</td>
      <td>PONTAL DE CAMBURI</td>
      <td>0</td>
      <td>0</td>
      <td>0</td>
      <td>0</td>
      <td>0</td>
      <td>0</td>
      <td>No</td>
    </tr>
    <tr>
      <th>4</th>
      <td>8.841186e+12</td>
      <td>5642494</td>
      <td>F</td>
      <td>2016-04-29T16:07:23Z</td>
      <td>2016-04-29T00:00:00Z</td>
      <td>56</td>
      <td>JARDIM DA PENHA</td>
      <td>0</td>
      <td>1</td>
      <td>1</td>
      <td>0</td>
      <td>0</td>
      <td>0</td>
      <td>No</td>
    </tr>
  </tbody>
</table>
</div>
</div>

</div>

</div>
</div>

</div>
<div class="cell border-box-sizing text_cell rendered"><div class="prompt input_prompt">
</div><div class="inner_cell">
<div class="text_cell_render border-box-sizing rendered_html">
<p><a id='wrangling'></a></p>
<h2 id="Data-Wrangling">Data Wrangling<a class="anchor-link" href="#Data-Wrangling">&#182;</a></h2><blockquote><p><strong>Tip</strong>: In this section of the report, you will load in the data, check for cleanliness, and then trim and clean your dataset for analysis. Make sure that you document your steps carefully and justify your cleaning decisions.</p>
</blockquote>
<h3 id="General-Properties">General Properties<a class="anchor-link" href="#General-Properties">&#182;</a></h3>
</div>
</div>
</div>
<div class="cell border-box-sizing code_cell rendered">
<div class="input">
<div class="prompt input_prompt">In&nbsp;[121]:</div>
<div class="inner_cell">
    <div class="input_area">
<div class=" highlight hl-ipython3"><pre><span></span><span class="c1"># Load your data and print out a few lines. Perform operations to inspect data</span>
<span class="n">df</span> <span class="o">=</span> <span class="n">df</span><span class="o">.</span><span class="n">copy</span><span class="p">()</span>
<span class="c1">#   types and look for instances of missing or possibly errant data.</span>
<span class="n">df</span><span class="o">.</span><span class="n">isnull</span><span class="p">()</span><span class="o">.</span><span class="n">sum</span><span class="p">()</span>
</pre></div>

    </div>
</div>
</div>

<div class="output_wrapper">
<div class="output">


<div class="output_area">

    <div class="prompt output_prompt">Out[121]:</div>




<div class="output_text output_subarea output_execute_result">
<pre>PatientId         0
AppointmentID     0
Gender            0
ScheduledDay      0
AppointmentDay    0
Age               0
Neighbourhood     0
Scholarship       0
Hipertension      0
Diabetes          0
Alcoholism        0
Handcap           0
SMS_received      0
No-show           0
dtype: int64</pre>
</div>

</div>

</div>
</div>

</div>
<div class="cell border-box-sizing code_cell rendered">
<div class="input">
<div class="prompt input_prompt">In&nbsp;[122]:</div>
<div class="inner_cell">
    <div class="input_area">
<div class=" highlight hl-ipython3"><pre><span></span><span class="n">df</span><span class="o">.</span><span class="n">info</span><span class="p">()</span>
</pre></div>

    </div>
</div>
</div>

<div class="output_wrapper">
<div class="output">


<div class="output_area">

    <div class="prompt"></div>


<div class="output_subarea output_stream output_stdout output_text">
<pre>&lt;class &#39;pandas.core.frame.DataFrame&#39;&gt;
RangeIndex: 110527 entries, 0 to 110526
Data columns (total 14 columns):
PatientId         110527 non-null float64
AppointmentID     110527 non-null int64
Gender            110527 non-null object
ScheduledDay      110527 non-null object
AppointmentDay    110527 non-null object
Age               110527 non-null int64
Neighbourhood     110527 non-null object
Scholarship       110527 non-null int64
Hipertension      110527 non-null int64
Diabetes          110527 non-null int64
Alcoholism        110527 non-null int64
Handcap           110527 non-null int64
SMS_received      110527 non-null int64
No-show           110527 non-null object
dtypes: float64(1), int64(8), object(5)
memory usage: 11.8+ MB
</pre>
</div>
</div>

</div>
</div>

</div>
<div class="cell border-box-sizing code_cell rendered">
<div class="input">
<div class="prompt input_prompt">In&nbsp;[123]:</div>
<div class="inner_cell">
    <div class="input_area">
<div class=" highlight hl-ipython3"><pre><span></span><span class="n">df</span><span class="o">.</span><span class="n">shape</span>
</pre></div>

    </div>
</div>
</div>

<div class="output_wrapper">
<div class="output">


<div class="output_area">

    <div class="prompt output_prompt">Out[123]:</div>




<div class="output_text output_subarea output_execute_result">
<pre>(110527, 14)</pre>
</div>

</div>

</div>
</div>

</div>
<div class="cell border-box-sizing code_cell rendered">
<div class="input">
<div class="prompt input_prompt">In&nbsp;[124]:</div>
<div class="inner_cell">
    <div class="input_area">
<div class=" highlight hl-ipython3"><pre><span></span><span class="n">df</span><span class="o">.</span><span class="n">info</span><span class="p">()</span>
</pre></div>

    </div>
</div>
</div>

<div class="output_wrapper">
<div class="output">


<div class="output_area">

    <div class="prompt"></div>


<div class="output_subarea output_stream output_stdout output_text">
<pre>&lt;class &#39;pandas.core.frame.DataFrame&#39;&gt;
RangeIndex: 110527 entries, 0 to 110526
Data columns (total 14 columns):
PatientId         110527 non-null float64
AppointmentID     110527 non-null int64
Gender            110527 non-null object
ScheduledDay      110527 non-null object
AppointmentDay    110527 non-null object
Age               110527 non-null int64
Neighbourhood     110527 non-null object
Scholarship       110527 non-null int64
Hipertension      110527 non-null int64
Diabetes          110527 non-null int64
Alcoholism        110527 non-null int64
Handcap           110527 non-null int64
SMS_received      110527 non-null int64
No-show           110527 non-null object
dtypes: float64(1), int64(8), object(5)
memory usage: 11.8+ MB
</pre>
</div>
</div>

</div>
</div>

</div>
<div class="cell border-box-sizing code_cell rendered">
<div class="input">
<div class="prompt input_prompt">In&nbsp;[125]:</div>
<div class="inner_cell">
    <div class="input_area">
<div class=" highlight hl-ipython3"><pre><span></span><span class="n">df</span><span class="o">.</span><span class="n">describe</span><span class="p">()</span>
</pre></div>

    </div>
</div>
</div>

<div class="output_wrapper">
<div class="output">


<div class="output_area">

    <div class="prompt output_prompt">Out[125]:</div>



<div class="output_html rendered_html output_subarea output_execute_result">
<div>
<style scoped>
    .dataframe tbody tr th:only-of-type {
        vertical-align: middle;
    }

    .dataframe tbody tr th {
        vertical-align: top;
    }

    .dataframe thead th {
        text-align: right;
    }
</style>
<table border="1" class="dataframe">
  <thead>
    <tr style="text-align: right;">
      <th></th>
      <th>PatientId</th>
      <th>AppointmentID</th>
      <th>Age</th>
      <th>Scholarship</th>
      <th>Hipertension</th>
      <th>Diabetes</th>
      <th>Alcoholism</th>
      <th>Handcap</th>
      <th>SMS_received</th>
    </tr>
  </thead>
  <tbody>
    <tr>
      <th>count</th>
      <td>1.105270e+05</td>
      <td>1.105270e+05</td>
      <td>110527.000000</td>
      <td>110527.000000</td>
      <td>110527.000000</td>
      <td>110527.000000</td>
      <td>110527.000000</td>
      <td>110527.000000</td>
      <td>110527.000000</td>
    </tr>
    <tr>
      <th>mean</th>
      <td>1.474963e+14</td>
      <td>5.675305e+06</td>
      <td>37.088874</td>
      <td>0.098266</td>
      <td>0.197246</td>
      <td>0.071865</td>
      <td>0.030400</td>
      <td>0.022248</td>
      <td>0.321026</td>
    </tr>
    <tr>
      <th>std</th>
      <td>2.560949e+14</td>
      <td>7.129575e+04</td>
      <td>23.110205</td>
      <td>0.297675</td>
      <td>0.397921</td>
      <td>0.258265</td>
      <td>0.171686</td>
      <td>0.161543</td>
      <td>0.466873</td>
    </tr>
    <tr>
      <th>min</th>
      <td>3.921784e+04</td>
      <td>5.030230e+06</td>
      <td>-1.000000</td>
      <td>0.000000</td>
      <td>0.000000</td>
      <td>0.000000</td>
      <td>0.000000</td>
      <td>0.000000</td>
      <td>0.000000</td>
    </tr>
    <tr>
      <th>25%</th>
      <td>4.172614e+12</td>
      <td>5.640286e+06</td>
      <td>18.000000</td>
      <td>0.000000</td>
      <td>0.000000</td>
      <td>0.000000</td>
      <td>0.000000</td>
      <td>0.000000</td>
      <td>0.000000</td>
    </tr>
    <tr>
      <th>50%</th>
      <td>3.173184e+13</td>
      <td>5.680573e+06</td>
      <td>37.000000</td>
      <td>0.000000</td>
      <td>0.000000</td>
      <td>0.000000</td>
      <td>0.000000</td>
      <td>0.000000</td>
      <td>0.000000</td>
    </tr>
    <tr>
      <th>75%</th>
      <td>9.439172e+13</td>
      <td>5.725524e+06</td>
      <td>55.000000</td>
      <td>0.000000</td>
      <td>0.000000</td>
      <td>0.000000</td>
      <td>0.000000</td>
      <td>0.000000</td>
      <td>1.000000</td>
    </tr>
    <tr>
      <th>max</th>
      <td>9.999816e+14</td>
      <td>5.790484e+06</td>
      <td>115.000000</td>
      <td>1.000000</td>
      <td>1.000000</td>
      <td>1.000000</td>
      <td>1.000000</td>
      <td>4.000000</td>
      <td>1.000000</td>
    </tr>
  </tbody>
</table>
</div>
</div>

</div>

</div>
</div>

</div>
<div class="cell border-box-sizing text_cell rendered"><div class="prompt input_prompt">
</div><div class="inner_cell">
<div class="text_cell_render border-box-sizing rendered_html">
<blockquote><p><strong>Tip</strong>: You should <em>not</em> perform too many operations in each cell. Create cells freely to explore your data. One option that you can take with this project is to do a lot of explorations in an initial notebook. These don't have to be organized, but make sure you use enough comments to understand the purpose of each code cell. Then, after you're done with your analysis, create a duplicate notebook where you will trim the excess and organize your steps so that you have a flowing, cohesive report.</p>
<p><strong>Tip</strong>: Make sure that you keep your reader informed on the steps that you are taking in your investigation. Follow every code cell, or every set of related code cells, with a markdown cell to describe to the reader what was found in the preceding cell(s). Try to make it so that the reader can then understand what they will be seeing in the following cell(s).</p>
</blockquote>
<h3 id="Data-Cleaning-(Replace-this-with-more-specific-notes!)">Data Cleaning (Replace this with more specific notes!)<a class="anchor-link" href="#Data-Cleaning-(Replace-this-with-more-specific-notes!)">&#182;</a></h3>
</div>
</div>
</div>
<div class="cell border-box-sizing code_cell rendered">
<div class="input">
<div class="prompt input_prompt">In&nbsp;[126]:</div>
<div class="inner_cell">
    <div class="input_area">
<div class=" highlight hl-ipython3"><pre><span></span><span class="c1"># Most likely we&#39;re not going to use the &quot;Patient_ID&quot; &amp; Appointment_ID so i am going to drop them out</span>
<span class="n">df</span><span class="o">.</span><span class="n">drop</span><span class="p">([</span><span class="s1">&#39;PatientId&#39;</span><span class="p">,</span> <span class="s1">&#39;AppointmentID&#39;</span><span class="p">],</span> <span class="n">axis</span><span class="o">=</span><span class="mi">1</span><span class="p">,</span> <span class="n">inplace</span><span class="o">=</span><span class="kc">True</span><span class="p">)</span>
</pre></div>

    </div>
</div>
</div>

</div>
<div class="cell border-box-sizing code_cell rendered">
<div class="input">
<div class="prompt input_prompt">In&nbsp;[3]:</div>
<div class="inner_cell">
    <div class="input_area">
<div class=" highlight hl-ipython3"><pre><span></span><span class="c1"># in this step i was renaming the columns to be more conveninen and facalitate the analysis</span>
<span class="n">df</span><span class="o">.</span><span class="n">rename</span><span class="p">(</span><span class="n">columns</span> <span class="o">=</span> <span class="p">{</span>    <span class="s1">&#39;Hipertension&#39;</span><span class="p">:</span>   <span class="s1">&#39;Hypertension&#39;</span><span class="p">,</span>
                           <span class="s1">&#39;ScheduledDay&#39;</span><span class="p">:</span>   <span class="s1">&#39;Scheduled_Day&#39;</span><span class="p">,</span>
                           <span class="s1">&#39;AppointmentDay&#39;</span><span class="p">:</span> <span class="s1">&#39;Appointment_Day&#39;</span><span class="p">,</span>
                           <span class="s1">&#39;No-show&#39;</span><span class="p">:</span>        <span class="s1">&#39;No_show&#39;</span><span class="p">,</span>
                           <span class="s1">&#39;Hiper_tension&#39;</span><span class="p">:</span>  <span class="s1">&#39;Hypertension&#39;</span><span class="p">},</span> <span class="n">inplace</span><span class="o">=</span><span class="kc">True</span><span class="p">)</span>
</pre></div>

    </div>
</div>
</div>

</div>
<div class="cell border-box-sizing code_cell rendered">
<div class="input">
<div class="prompt input_prompt">In&nbsp;[4]:</div>
<div class="inner_cell">
    <div class="input_area">
<div class=" highlight hl-ipython3"><pre><span></span><span class="c1"># Coverting Scheduled_Day &amp; Appointment_Day into a time date</span>
<span class="n">df</span><span class="p">[</span><span class="s1">&#39;Scheduled_Day&#39;</span><span class="p">]</span> <span class="o">=</span> <span class="n">pd</span><span class="o">.</span><span class="n">to_datetime</span><span class="p">(</span><span class="n">df</span><span class="p">[</span><span class="s1">&#39;Scheduled_Day&#39;</span><span class="p">])</span>
<span class="n">df</span><span class="p">[</span><span class="s1">&#39;Appointment_Day&#39;</span><span class="p">]</span> <span class="o">=</span> <span class="n">pd</span><span class="o">.</span><span class="n">to_datetime</span><span class="p">(</span><span class="n">df</span><span class="p">[</span><span class="s1">&#39;Appointment_Day&#39;</span><span class="p">])</span>
</pre></div>

    </div>
</div>
</div>

</div>
<div class="cell border-box-sizing code_cell rendered">
<div class="input">
<div class="prompt input_prompt">In&nbsp;[129]:</div>
<div class="inner_cell">
    <div class="input_area">
<div class=" highlight hl-ipython3"><pre><span></span><span class="c1"># This code is to get rid of the mins sign (-) in &quot;Age&quot;</span>
<span class="n">df</span><span class="p">[</span><span class="s1">&#39;Age&#39;</span><span class="p">]</span><span class="o">.</span><span class="n">replace</span><span class="p">({</span><span class="o">-</span><span class="mi">1</span><span class="p">:</span> <span class="n">np</span><span class="o">.</span><span class="n">nan</span><span class="p">},</span> <span class="n">inplace</span> <span class="o">=</span> <span class="kc">True</span><span class="p">)</span>
</pre></div>

    </div>
</div>
</div>

</div>
<div class="cell border-box-sizing code_cell rendered">
<div class="input">
<div class="prompt input_prompt">In&nbsp;[130]:</div>
<div class="inner_cell">
    <div class="input_area">
<div class=" highlight hl-ipython3"><pre><span></span><span class="c1"># i decided to reassign No_show in order to make it easier in terms of visualising</span>
<span class="n">show</span> <span class="o">=</span> <span class="n">df</span><span class="o">.</span><span class="n">No_show</span> <span class="o">==</span> <span class="s1">&#39;No&#39;</span>
<span class="n">no_show</span> <span class="o">=</span> <span class="n">df</span><span class="o">.</span><span class="n">No_show</span> <span class="o">==</span> <span class="s1">&#39;Yes&#39;</span>
</pre></div>

    </div>
</div>
</div>

</div>
<div class="cell border-box-sizing code_cell rendered">
<div class="input">
<div class="prompt input_prompt">In&nbsp;[131]:</div>
<div class="inner_cell">
    <div class="input_area">
<div class=" highlight hl-ipython3"><pre><span></span><span class="n">df</span><span class="o">.</span><span class="n">info</span><span class="p">()</span>
</pre></div>

    </div>
</div>
</div>

<div class="output_wrapper">
<div class="output">


<div class="output_area">

    <div class="prompt"></div>


<div class="output_subarea output_stream output_stdout output_text">
<pre>&lt;class &#39;pandas.core.frame.DataFrame&#39;&gt;
RangeIndex: 110527 entries, 0 to 110526
Data columns (total 12 columns):
Gender             110527 non-null object
Scheduled_Day      110527 non-null datetime64[ns]
Appointment_Day    110527 non-null datetime64[ns]
Age                110526 non-null float64
Neighbourhood      110527 non-null object
Scholarship        110527 non-null int64
Hipertension       110527 non-null int64
Diabetes           110527 non-null int64
Alcoholism         110527 non-null int64
Handcap            110527 non-null int64
SMS_received       110527 non-null int64
No_show            110527 non-null object
dtypes: datetime64[ns](2), float64(1), int64(6), object(3)
memory usage: 10.1+ MB
</pre>
</div>
</div>

</div>
</div>

</div>
<div class="cell border-box-sizing text_cell rendered"><div class="prompt input_prompt">
</div><div class="inner_cell">
<div class="text_cell_render border-box-sizing rendered_html">
<p><a id='eda'></a></p>
<h2 id="Exploratory-Data-Analysis">Exploratory Data Analysis<a class="anchor-link" href="#Exploratory-Data-Analysis">&#182;</a></h2><blockquote><p><strong>Tip</strong>: Now that you've trimmed and cleaned your data, you're ready to move on to exploration. Compute statistics and create visualizations with the goal of addressing the research questions that you posed in the Introduction section. It is recommended that you be systematic with your approach. Look at one variable at a time, and then follow it up by looking at relationships between variables.</p>
</blockquote>
<h3 id="Research-Question-1-(visualising-the-whole-dataset)">Research Question 1 (visualising the whole dataset)<a class="anchor-link" href="#Research-Question-1-(visualising-the-whole-dataset)">&#182;</a></h3>
</div>
</div>
</div>
<div class="cell border-box-sizing code_cell rendered">
<div class="input">
<div class="prompt input_prompt">In&nbsp;[132]:</div>
<div class="inner_cell">
    <div class="input_area">
<div class=" highlight hl-ipython3"><pre><span></span><span class="c1"># i wanted to visualize the whole dataset in order to have an overview </span>
<span class="n">df</span><span class="o">.</span><span class="n">hist</span><span class="p">(</span><span class="n">figsize</span><span class="o">=</span> <span class="p">(</span><span class="mi">16</span><span class="p">,</span> <span class="mi">14</span><span class="p">))</span>
</pre></div>

    </div>
</div>
</div>

<div class="output_wrapper">
<div class="output">


<div class="output_area">

    <div class="prompt output_prompt">Out[132]:</div>




<div class="output_text output_subarea output_execute_result">
<pre>array([[&lt;matplotlib.axes._subplots.AxesSubplot object at 0x7f74409591d0&gt;,
        &lt;matplotlib.axes._subplots.AxesSubplot object at 0x7f744096c9b0&gt;,
        &lt;matplotlib.axes._subplots.AxesSubplot object at 0x7f74408339b0&gt;],
       [&lt;matplotlib.axes._subplots.AxesSubplot object at 0x7f7440cbca20&gt;,
        &lt;matplotlib.axes._subplots.AxesSubplot object at 0x7f7440f89cf8&gt;,
        &lt;matplotlib.axes._subplots.AxesSubplot object at 0x7f7440f89240&gt;],
       [&lt;matplotlib.axes._subplots.AxesSubplot object at 0x7f7441160d30&gt;,
        &lt;matplotlib.axes._subplots.AxesSubplot object at 0x7f74411f40f0&gt;,
        &lt;matplotlib.axes._subplots.AxesSubplot object at 0x7f744127cf28&gt;]], dtype=object)</pre>
</div>

</div>

<div class="output_area">

    <div class="prompt"></div>




<div class="output_png output_subarea ">
<img src="data:image/png;base64,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
"
>
</div>

</div>

</div>
</div>

</div>
<div class="cell border-box-sizing text_cell rendered"><div class="prompt input_prompt">
</div><div class="inner_cell">
<div class="text_cell_render border-box-sizing rendered_html">
<h3 id="Is-there-a-correlation-between-Gender-&amp;-No_show?">Is there a correlation between Gender &amp; No_show?<a class="anchor-link" href="#Is-there-a-correlation-between-Gender-&amp;-No_show?">&#182;</a></h3>
</div>
</div>
</div>
<div class="cell border-box-sizing code_cell rendered">
<div class="input">
<div class="prompt input_prompt">In&nbsp;[133]:</div>
<div class="inner_cell">
    <div class="input_area">
<div class=" highlight hl-ipython3"><pre><span></span><span class="c1"># Trying to search for a correlation in terms of Gender and No_show</span>

<span class="n">df</span><span class="p">[</span><span class="s1">&#39;Gender&#39;</span><span class="p">]</span><span class="o">.</span><span class="n">value_counts</span><span class="p">()</span>
</pre></div>

    </div>
</div>
</div>

<div class="output_wrapper">
<div class="output">


<div class="output_area">

    <div class="prompt output_prompt">Out[133]:</div>




<div class="output_text output_subarea output_execute_result">
<pre>F    71840
M    38687
Name: Gender, dtype: int64</pre>
</div>

</div>

</div>
</div>

</div>
<div class="cell border-box-sizing code_cell rendered">
<div class="input">
<div class="prompt input_prompt">In&nbsp;[134]:</div>
<div class="inner_cell">
    <div class="input_area">
<div class=" highlight hl-ipython3"><pre><span></span><span class="n">df</span><span class="o">.</span><span class="n">groupby</span><span class="p">(</span><span class="s1">&#39;Gender&#39;</span><span class="p">)</span><span class="o">.</span><span class="n">No_show</span><span class="o">.</span><span class="n">value_counts</span><span class="p">()</span>
</pre></div>

    </div>
</div>
</div>

<div class="output_wrapper">
<div class="output">


<div class="output_area">

    <div class="prompt output_prompt">Out[134]:</div>




<div class="output_text output_subarea output_execute_result">
<pre>Gender  No_show
F       No         57246
        Yes        14594
M       No         30962
        Yes         7725
Name: No_show, dtype: int64</pre>
</div>

</div>

</div>
</div>

</div>
<div class="cell border-box-sizing code_cell rendered">
<div class="input">
<div class="prompt input_prompt">In&nbsp;[135]:</div>
<div class="inner_cell">
    <div class="input_area">
<div class=" highlight hl-ipython3"><pre><span></span><span class="c1"># We&#39;re gonna see if there&#39;d be a correlation in terms of Gender &amp; No_show</span>


<span class="n">check</span> <span class="o">=</span> <span class="n">sns</span><span class="o">.</span><span class="n">countplot</span><span class="p">(</span><span class="n">x</span><span class="o">=</span><span class="n">df</span><span class="o">.</span><span class="n">Gender</span><span class="p">,</span> <span class="n">hue</span><span class="o">=</span><span class="n">df</span><span class="o">.</span><span class="n">No_show</span><span class="p">,</span> <span class="n">data</span><span class="o">=</span><span class="n">df</span><span class="p">)</span>
<span class="n">check</span><span class="o">.</span><span class="n">set_title</span><span class="p">(</span><span class="s1">&#39;Show/No_Show in terms of Males &amp; Females&#39;</span><span class="p">)</span>
<span class="n">x_ticks_label</span><span class="o">=</span><span class="p">[</span><span class="s1">&#39;Female&#39;</span><span class="p">,</span> <span class="s1">&#39;Male&#39;</span><span class="p">]</span>
<span class="n">check</span><span class="o">.</span><span class="n">set_xticklabels</span><span class="p">(</span><span class="n">x_ticks_label</span><span class="p">)</span>
<span class="n">plt</span><span class="o">.</span><span class="n">show</span><span class="p">()</span>
</pre></div>

    </div>
</div>
</div>

<div class="output_wrapper">
<div class="output">


<div class="output_area">

    <div class="prompt"></div>




<div class="output_png output_subarea ">
<img src="data:image/png;base64,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
"
>
</div>

</div>

</div>
</div>

</div>
<div class="cell border-box-sizing text_cell rendered"><div class="prompt input_prompt">
</div><div class="inner_cell">
<div class="text_cell_render border-box-sizing rendered_html">
<p>As we can see from the above chart, the majority of people who went to their appointments are "Female" by 57246
as for Females who didn't go to their appointments are 14594 
while the minority are Males by 30962 
as for Males who didn't come to their appointments are 7725</p>

</div>
</div>
</div>
<div class="cell border-box-sizing text_cell rendered"><div class="prompt input_prompt">
</div><div class="inner_cell">
<div class="text_cell_render border-box-sizing rendered_html">
<h3 id="Does-the-SMS_Received-will-affect-the-number-of-people-who-showed-up?">Does the SMS_Received will affect the number of people who showed up?<a class="anchor-link" href="#Does-the-SMS_Received-will-affect-the-number-of-people-who-showed-up?">&#182;</a></h3>
</div>
</div>
</div>
<div class="cell border-box-sizing code_cell rendered">
<div class="input">
<div class="prompt input_prompt">In&nbsp;[136]:</div>
<div class="inner_cell">
    <div class="input_area">
<div class=" highlight hl-ipython3"><pre><span></span><span class="c1"># trying to find a correlation between SMS_received &amp; No_Show</span>

<span class="n">df</span><span class="p">[</span><span class="s1">&#39;SMS_received&#39;</span><span class="p">]</span><span class="o">.</span><span class="n">value_counts</span><span class="p">()</span>
</pre></div>

    </div>
</div>
</div>

<div class="output_wrapper">
<div class="output">


<div class="output_area">

    <div class="prompt output_prompt">Out[136]:</div>




<div class="output_text output_subarea output_execute_result">
<pre>0    75045
1    35482
Name: SMS_received, dtype: int64</pre>
</div>

</div>

</div>
</div>

</div>
<div class="cell border-box-sizing code_cell rendered">
<div class="input">
<div class="prompt input_prompt">In&nbsp;[137]:</div>
<div class="inner_cell">
    <div class="input_area">
<div class=" highlight hl-ipython3"><pre><span></span><span class="n">df</span><span class="o">.</span><span class="n">groupby</span><span class="p">(</span><span class="s1">&#39;SMS_received&#39;</span><span class="p">)</span><span class="o">.</span><span class="n">No_show</span><span class="o">.</span><span class="n">value_counts</span><span class="p">()</span>
</pre></div>

    </div>
</div>
</div>

<div class="output_wrapper">
<div class="output">


<div class="output_area">

    <div class="prompt output_prompt">Out[137]:</div>




<div class="output_text output_subarea output_execute_result">
<pre>SMS_received  No_show
0             No         62510
              Yes        12535
1             No         25698
              Yes         9784
Name: No_show, dtype: int64</pre>
</div>

</div>

</div>
</div>

</div>
<div class="cell border-box-sizing code_cell rendered">
<div class="input">
<div class="prompt input_prompt">In&nbsp;[138]:</div>
<div class="inner_cell">
    <div class="input_area">
<div class=" highlight hl-ipython3"><pre><span></span><span class="n">check_1</span> <span class="o">=</span> <span class="n">sns</span><span class="o">.</span><span class="n">countplot</span><span class="p">(</span><span class="n">x</span><span class="o">=</span><span class="n">df</span><span class="o">.</span><span class="n">SMS_received</span><span class="p">,</span> <span class="n">hue</span><span class="o">=</span><span class="n">df</span><span class="o">.</span><span class="n">No_show</span><span class="p">,</span> <span class="n">data</span><span class="o">=</span><span class="n">df</span><span class="p">)</span>
<span class="n">check_1</span><span class="o">.</span><span class="n">set_title</span><span class="p">(</span><span class="s1">&#39;Show/No_Show in terms of SMS_received&#39;</span><span class="p">)</span>
<span class="n">plt</span><span class="o">.</span><span class="n">show</span><span class="p">()</span>
</pre></div>

    </div>
</div>
</div>

<div class="output_wrapper">
<div class="output">


<div class="output_area">

    <div class="prompt"></div>




<div class="output_png output_subarea ">
<img src="data:image/png;base64,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
"
>
</div>

</div>

</div>
</div>

</div>
<div class="cell border-box-sizing text_cell rendered"><div class="prompt input_prompt">
</div><div class="inner_cell">
<div class="text_cell_render border-box-sizing rendered_html">
<ul>
<li>People who got SMS are 35482 </li>
<li>as for people who went to their appointments and they do got the SMS are 25698</li>
</ul>

</div>
</div>
</div>
<div class="cell border-box-sizing text_cell rendered"><div class="prompt input_prompt">
</div><div class="inner_cell">
<div class="text_cell_render border-box-sizing rendered_html">
<h3 id="Does-age-affects-those-who-come-and-those-who-did-not-come?">Does age affects those who come and those who did not come?<a class="anchor-link" href="#Does-age-affects-those-who-come-and-those-who-did-not-come?">&#182;</a></h3>
</div>
</div>
</div>
<div class="cell border-box-sizing code_cell rendered">
<div class="input">
<div class="prompt input_prompt">In&nbsp;[139]:</div>
<div class="inner_cell">
    <div class="input_area">
<div class=" highlight hl-ipython3"><pre><span></span><span class="n">df</span><span class="p">[</span><span class="s1">&#39;Age&#39;</span><span class="p">]</span><span class="o">.</span><span class="n">unique</span><span class="p">()</span>
</pre></div>

    </div>
</div>
</div>

<div class="output_wrapper">
<div class="output">


<div class="output_area">

    <div class="prompt output_prompt">Out[139]:</div>




<div class="output_text output_subarea output_execute_result">
<pre>array([  62.,   56.,    8.,   76.,   23.,   39.,   21.,   19.,   30.,
         29.,   22.,   28.,   54.,   15.,   50.,   40.,   46.,    4.,
         13.,   65.,   45.,   51.,   32.,   12.,   61.,   38.,   79.,
         18.,   63.,   64.,   85.,   59.,   55.,   71.,   49.,   78.,
         31.,   58.,   27.,    6.,    2.,   11.,    7.,    0.,    3.,
          1.,   69.,   68.,   60.,   67.,   36.,   10.,   35.,   20.,
         26.,   34.,   33.,   16.,   42.,    5.,   47.,   17.,   41.,
         44.,   37.,   24.,   66.,   77.,   81.,   70.,   53.,   75.,
         73.,   52.,   74.,   43.,   89.,   57.,   14.,    9.,   48.,
         83.,   72.,   25.,   80.,   87.,   88.,   84.,   82.,   90.,
         94.,   86.,   91.,   98.,   92.,   96.,   93.,   95.,   97.,
        102.,  115.,  100.,   99.,   nan])</pre>
</div>

</div>

</div>
</div>

</div>
<div class="cell border-box-sizing code_cell rendered">
<div class="input">
<div class="prompt input_prompt">In&nbsp;[141]:</div>
<div class="inner_cell">
    <div class="input_area">
<div class=" highlight hl-ipython3"><pre><span></span><span class="c1"># We&#39;re gonna see if there&#39;d be a correlation in terms of Age &amp; No_show</span>


<span class="n">plt</span><span class="o">.</span><span class="n">figure</span><span class="p">(</span><span class="n">figsize</span><span class="o">=</span><span class="p">(</span><span class="mi">15</span><span class="p">,</span><span class="mi">5</span><span class="p">))</span>
<span class="n">plt</span><span class="o">.</span><span class="n">xticks</span><span class="p">(</span><span class="n">rotation</span><span class="o">=</span><span class="mi">90</span><span class="p">)</span>
<span class="n">check_3</span> <span class="o">=</span> <span class="n">sns</span><span class="o">.</span><span class="n">countplot</span><span class="p">(</span><span class="n">x</span><span class="o">=</span><span class="n">df</span><span class="o">.</span><span class="n">Age</span><span class="p">,</span> <span class="n">hue</span><span class="o">=</span><span class="n">df</span><span class="o">.</span><span class="n">No_show</span><span class="p">,</span> <span class="n">data</span><span class="o">=</span><span class="n">df</span><span class="p">)</span>
<span class="n">check_3</span><span class="o">.</span><span class="n">set_title</span><span class="p">(</span><span class="s1">&#39;Show/No_Show in terms of Age&#39;</span><span class="p">)</span>
<span class="n">plt</span><span class="o">.</span><span class="n">show</span><span class="p">()</span>
</pre></div>

    </div>
</div>
</div>

<div class="output_wrapper">
<div class="output">


<div class="output_area">

    <div class="prompt"></div>




<div class="output_png output_subarea ">
<img src="data:image/png;base64,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
"
>
</div>

</div>

</div>
</div>

</div>
<div class="cell border-box-sizing text_cell rendered"><div class="prompt input_prompt">
</div><div class="inner_cell">
<div class="text_cell_render border-box-sizing rendered_html">
<ul>
<li>There is no major correlation with respect to Age &amp; No_show </li>
<li>But we could say the mojority of people were in age (0, 1)</li>
</ul>

</div>
</div>
</div>
<div class="cell border-box-sizing code_cell rendered">
<div class="input">
<div class="prompt input_prompt">In&nbsp;[142]:</div>
<div class="inner_cell">
    <div class="input_area">
<div class=" highlight hl-ipython3"><pre><span></span><span class="c1"># We&#39;re gonna see if there&#39;d be a correlation in terms of Neighbourhood &amp; No_show</span>


<span class="n">plt</span><span class="o">.</span><span class="n">figure</span><span class="p">(</span><span class="n">figsize</span><span class="o">=</span><span class="p">(</span><span class="mi">15</span><span class="p">,</span> <span class="mi">5</span><span class="p">))</span>
<span class="n">plt</span><span class="o">.</span><span class="n">xticks</span><span class="p">(</span><span class="n">rotation</span> <span class="o">=</span> <span class="mi">90</span><span class="p">)</span>
<span class="n">check_4</span> <span class="o">=</span> <span class="n">sns</span><span class="o">.</span><span class="n">countplot</span><span class="p">(</span><span class="n">x</span><span class="o">=</span><span class="n">df</span><span class="o">.</span><span class="n">Neighbourhood</span><span class="p">,</span> <span class="n">hue</span><span class="o">=</span><span class="n">df</span><span class="o">.</span><span class="n">No_show</span><span class="p">,</span> <span class="n">data</span><span class="o">=</span><span class="n">df</span><span class="p">)</span>
<span class="n">check_4</span><span class="o">.</span><span class="n">set_title</span><span class="p">(</span><span class="s1">&#39;Show/No_show in terms of Neighbourhood&#39;</span><span class="p">)</span>
<span class="n">plt</span><span class="o">.</span><span class="n">show</span><span class="p">()</span>
</pre></div>

    </div>
</div>
</div>

<div class="output_wrapper">
<div class="output">


<div class="output_area">

    <div class="prompt"></div>




<div class="output_png output_subarea ">
<img src="data:image/png;base64,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
"
>
</div>

</div>

</div>
</div>

</div>
<div class="cell border-box-sizing text_cell rendered"><div class="prompt input_prompt">
</div><div class="inner_cell">
<div class="text_cell_render border-box-sizing rendered_html">
<ul>
<li>There is no major correlation but,</li>
<li>Based on the outcome, the mojority of people who went to their appoitments do live in "Jardim Camburi" &amp; "Maria Ortiz"</li>
</ul>

</div>
</div>
</div>
<div class="cell border-box-sizing text_cell rendered"><div class="prompt input_prompt">
</div><div class="inner_cell">
<div class="text_cell_render border-box-sizing rendered_html">
<h3 id="About-the-Scholarship?">About the Scholarship?<a class="anchor-link" href="#About-the-Scholarship?">&#182;</a></h3>
</div>
</div>
</div>
<div class="cell border-box-sizing code_cell rendered">
<div class="input">
<div class="prompt input_prompt">In&nbsp;[143]:</div>
<div class="inner_cell">
    <div class="input_area">
<div class=" highlight hl-ipython3"><pre><span></span><span class="c1"># Trying to know how many people got the Scholarship</span>

<span class="n">df</span><span class="p">[</span><span class="s1">&#39;Scholarship&#39;</span><span class="p">]</span><span class="o">.</span><span class="n">value_counts</span><span class="p">()</span>
<span class="nb">print</span><span class="p">(</span><span class="s1">&#39;</span><span class="se">\n</span><span class="s1">&#39;</span><span class="p">,</span> <span class="n">df</span><span class="o">.</span><span class="n">groupby</span><span class="p">(</span><span class="s1">&#39;Scholarship&#39;</span><span class="p">)</span><span class="o">.</span><span class="n">No_show</span><span class="o">.</span><span class="n">value_counts</span><span class="p">())</span>
</pre></div>

    </div>
</div>
</div>

<div class="output_wrapper">
<div class="output">


<div class="output_area">

    <div class="prompt"></div>


<div class="output_subarea output_stream output_stdout output_text">
<pre>
 Scholarship  No_show
0            No         79925
             Yes        19741
1            No          8283
             Yes         2578
Name: No_show, dtype: int64
</pre>
</div>
</div>

</div>
</div>

</div>
<div class="cell border-box-sizing code_cell rendered">
<div class="input">
<div class="prompt input_prompt">In&nbsp;[144]:</div>
<div class="inner_cell">
    <div class="input_area">
<div class=" highlight hl-ipython3"><pre><span></span><span class="c1"># Visualsing if there&#39;d be a correlation in terms of Scholarship &amp; No_show</span>

<span class="n">check_5</span> <span class="o">=</span> <span class="n">sns</span><span class="o">.</span><span class="n">countplot</span><span class="p">(</span><span class="n">x</span><span class="o">=</span><span class="n">df</span><span class="o">.</span><span class="n">Scholarship</span><span class="p">,</span> <span class="n">hue</span><span class="o">=</span><span class="n">df</span><span class="o">.</span><span class="n">No_show</span><span class="p">,</span> <span class="n">data</span><span class="o">=</span><span class="n">df</span><span class="p">)</span>
<span class="n">check_5</span><span class="o">.</span><span class="n">set_title</span><span class="o">=</span><span class="p">(</span><span class="s1">&#39;Show/No_show in terms of Scholarship &amp; No_Show&#39;</span><span class="p">)</span>
<span class="n">plt</span><span class="o">.</span><span class="n">show</span><span class="p">()</span>
</pre></div>

    </div>
</div>
</div>

<div class="output_wrapper">
<div class="output">


<div class="output_area">

    <div class="prompt"></div>




<div class="output_png output_subarea ">
<img src="data:image/png;base64,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
"
>
</div>

</div>

</div>
</div>

</div>
<div class="cell border-box-sizing text_cell rendered"><div class="prompt input_prompt">
</div><div class="inner_cell">
<div class="text_cell_render border-box-sizing rendered_html">
<ul>
<li>insignificant relationship between Scholarship &amp; No_show</li>
<li>People who did not have Scholarship did go to their appointments </li>
<li>people who got Scholarship are 10861 and for those who went to their appointemnts are 8283</li>
<li>as for people who did not get the Scholarship are 99666 and for those who went to their appointemnts are 79925</li>
</ul>

</div>
</div>
</div>
<div class="cell border-box-sizing text_cell rendered"><div class="prompt input_prompt">
</div><div class="inner_cell">
<div class="text_cell_render border-box-sizing rendered_html">
<h3 id="For-people-who-got-Diabetes?">For people who got Diabetes?<a class="anchor-link" href="#For-people-who-got-Diabetes?">&#182;</a></h3>
</div>
</div>
</div>
<div class="cell border-box-sizing code_cell rendered">
<div class="input">
<div class="prompt input_prompt">In&nbsp;[145]:</div>
<div class="inner_cell">
    <div class="input_area">
<div class=" highlight hl-ipython3"><pre><span></span><span class="n">df</span><span class="p">[</span><span class="s1">&#39;Diabetes&#39;</span><span class="p">]</span><span class="o">.</span><span class="n">value_counts</span><span class="p">()</span>
</pre></div>

    </div>
</div>
</div>

<div class="output_wrapper">
<div class="output">


<div class="output_area">

    <div class="prompt output_prompt">Out[145]:</div>




<div class="output_text output_subarea output_execute_result">
<pre>0    102584
1      7943
Name: Diabetes, dtype: int64</pre>
</div>

</div>

</div>
</div>

</div>
<div class="cell border-box-sizing code_cell rendered">
<div class="input">
<div class="prompt input_prompt">In&nbsp;[146]:</div>
<div class="inner_cell">
    <div class="input_area">
<div class=" highlight hl-ipython3"><pre><span></span><span class="n">df</span><span class="o">.</span><span class="n">groupby</span><span class="p">(</span><span class="s1">&#39;Diabetes&#39;</span><span class="p">)</span><span class="o">.</span><span class="n">No_show</span><span class="o">.</span><span class="n">value_counts</span><span class="p">()</span>
</pre></div>

    </div>
</div>
</div>

<div class="output_wrapper">
<div class="output">


<div class="output_area">

    <div class="prompt output_prompt">Out[146]:</div>




<div class="output_text output_subarea output_execute_result">
<pre>Diabetes  No_show
0         No         81695
          Yes        20889
1         No          6513
          Yes         1430
Name: No_show, dtype: int64</pre>
</div>

</div>

</div>
</div>

</div>
<div class="cell border-box-sizing code_cell rendered">
<div class="input">
<div class="prompt input_prompt">In&nbsp;[147]:</div>
<div class="inner_cell">
    <div class="input_area">
<div class=" highlight hl-ipython3"><pre><span></span><span class="c1"># Visualsing if there&#39;d be a correlation in terms of Diabetes &amp; No_show</span>


<span class="n">check_6</span> <span class="o">=</span> <span class="n">sns</span><span class="o">.</span><span class="n">countplot</span><span class="p">(</span><span class="n">x</span><span class="o">=</span><span class="n">df</span><span class="o">.</span><span class="n">Diabetes</span><span class="p">,</span> <span class="n">hue</span><span class="o">=</span><span class="n">df</span><span class="o">.</span><span class="n">No_show</span><span class="p">,</span> <span class="n">data</span><span class="o">=</span><span class="n">df</span><span class="p">)</span>
<span class="n">check_6</span><span class="o">.</span><span class="n">set_title</span><span class="p">(</span><span class="s1">&#39;Show/No_show in terms of Diabetes &amp; No_Show&#39;</span><span class="p">)</span>
<span class="n">plt</span><span class="o">.</span><span class="n">show</span><span class="p">()</span>
</pre></div>

    </div>
</div>
</div>

<div class="output_wrapper">
<div class="output">


<div class="output_area">

    <div class="prompt"></div>




<div class="output_png output_subarea ">
<img src="data:image/png;base64,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
"
>
</div>

</div>

</div>
</div>

</div>
<div class="cell border-box-sizing text_cell rendered"><div class="prompt input_prompt">
</div><div class="inner_cell">
<div class="text_cell_render border-box-sizing rendered_html">
<ul>
<li>People who got "Diabetes" are 7943 </li>
<li>as for people who went to their appointments while having "Diabetes" are 6513</li>
</ul>

</div>
</div>
</div>
<div class="cell border-box-sizing text_cell rendered"><div class="prompt input_prompt">
</div><div class="inner_cell">
<div class="text_cell_render border-box-sizing rendered_html">
<h3 id="Analysing-in-terms-of-Hypertension?">Analysing in terms of Hypertension?<a class="anchor-link" href="#Analysing-in-terms-of-Hypertension?">&#182;</a></h3>
</div>
</div>
</div>
<div class="cell border-box-sizing code_cell rendered">
<div class="input">
<div class="prompt input_prompt">In&nbsp;[151]:</div>
<div class="inner_cell">
    <div class="input_area">
<div class=" highlight hl-ipython3"><pre><span></span><span class="c1"># Trying to know how many patients got Hypertension and relate it with No_show</span>

<span class="n">df</span><span class="o">.</span><span class="n">groupby</span><span class="p">(</span><span class="s1">&#39;Hypertension&#39;</span><span class="p">)</span><span class="o">.</span><span class="n">No_show</span><span class="o">.</span><span class="n">value_counts</span><span class="p">()</span>
</pre></div>

    </div>
</div>
</div>

<div class="output_wrapper">
<div class="output">


<div class="output_area">

    <div class="prompt output_prompt">Out[151]:</div>




<div class="output_text output_subarea output_execute_result">
<pre>Hypertension  No_show
0             No         70179
              Yes        18547
1             No         18029
              Yes         3772
Name: No_show, dtype: int64</pre>
</div>

</div>

</div>
</div>

</div>
<div class="cell border-box-sizing code_cell rendered">
<div class="input">
<div class="prompt input_prompt">In&nbsp;[152]:</div>
<div class="inner_cell">
    <div class="input_area">
<div class=" highlight hl-ipython3"><pre><span></span><span class="n">df</span><span class="p">[</span><span class="s1">&#39;Hypertension&#39;</span><span class="p">]</span><span class="o">.</span><span class="n">value_counts</span><span class="p">()</span>
</pre></div>

    </div>
</div>
</div>

<div class="output_wrapper">
<div class="output">


<div class="output_area">

    <div class="prompt output_prompt">Out[152]:</div>




<div class="output_text output_subarea output_execute_result">
<pre>0    88726
1    21801
Name: Hypertension, dtype: int64</pre>
</div>

</div>

</div>
</div>

</div>
<div class="cell border-box-sizing code_cell rendered">
<div class="input">
<div class="prompt input_prompt">In&nbsp;[153]:</div>
<div class="inner_cell">
    <div class="input_area">
<div class=" highlight hl-ipython3"><pre><span></span><span class="c1"># Visualsing if there&#39;d be a correlation in terms of Hypertension &amp; No_show</span>


<span class="n">check_6</span> <span class="o">=</span> <span class="n">sns</span><span class="o">.</span><span class="n">countplot</span><span class="p">(</span><span class="n">x</span><span class="o">=</span><span class="n">df</span><span class="o">.</span><span class="n">Hypertension</span><span class="p">,</span> <span class="n">hue</span><span class="o">=</span><span class="n">df</span><span class="o">.</span><span class="n">No_show</span><span class="p">,</span> <span class="n">data</span><span class="o">=</span><span class="n">df</span><span class="p">)</span>
<span class="n">check_6</span><span class="o">.</span><span class="n">set_title</span><span class="p">(</span><span class="s1">&#39;Show/No_show in terms of Hypertension &amp; No_Show&#39;</span><span class="p">)</span>
<span class="n">plt</span><span class="o">.</span><span class="n">show</span><span class="p">()</span>
</pre></div>

    </div>
</div>
</div>

<div class="output_wrapper">
<div class="output">


<div class="output_area">

    <div class="prompt"></div>




<div class="output_png output_subarea ">
<img src="data:image/png;base64,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
"
>
</div>

</div>

</div>
</div>

</div>
<div class="cell border-box-sizing text_cell rendered"><div class="prompt input_prompt">
</div><div class="inner_cell">
<div class="text_cell_render border-box-sizing rendered_html">
<ul>
<li>After visualizing people who got "Hyptertension" are 21801 </li>
<li>as for people who went to their appointments while they do have "Hyptertension" are 18029</li>
</ul>

</div>
</div>
</div>
<div class="cell border-box-sizing text_cell rendered"><div class="prompt input_prompt">
</div><div class="inner_cell">
<div class="text_cell_render border-box-sizing rendered_html">
<h3 id="For-people-who-got-Alcoholism?">For people who got Alcoholism?<a class="anchor-link" href="#For-people-who-got-Alcoholism?">&#182;</a></h3>
</div>
</div>
</div>
<div class="cell border-box-sizing code_cell rendered">
<div class="input">
<div class="prompt input_prompt">In&nbsp;[154]:</div>
<div class="inner_cell">
    <div class="input_area">
<div class=" highlight hl-ipython3"><pre><span></span><span class="n">df</span><span class="p">[</span><span class="s1">&#39;Alcoholism&#39;</span><span class="p">]</span><span class="o">.</span><span class="n">value_counts</span><span class="p">()</span>
</pre></div>

    </div>
</div>
</div>

<div class="output_wrapper">
<div class="output">


<div class="output_area">

    <div class="prompt output_prompt">Out[154]:</div>




<div class="output_text output_subarea output_execute_result">
<pre>0    107167
1      3360
Name: Alcoholism, dtype: int64</pre>
</div>

</div>

</div>
</div>

</div>
<div class="cell border-box-sizing code_cell rendered">
<div class="input">
<div class="prompt input_prompt">In&nbsp;[155]:</div>
<div class="inner_cell">
    <div class="input_area">
<div class=" highlight hl-ipython3"><pre><span></span><span class="n">df</span><span class="o">.</span><span class="n">groupby</span><span class="p">(</span><span class="s1">&#39;Alcoholism&#39;</span><span class="p">)</span><span class="o">.</span><span class="n">No_show</span><span class="o">.</span><span class="n">value_counts</span><span class="p">()</span>
</pre></div>

    </div>
</div>
</div>

<div class="output_wrapper">
<div class="output">


<div class="output_area">

    <div class="prompt output_prompt">Out[155]:</div>




<div class="output_text output_subarea output_execute_result">
<pre>Alcoholism  No_show
0           No         85525
            Yes        21642
1           No          2683
            Yes          677
Name: No_show, dtype: int64</pre>
</div>

</div>

</div>
</div>

</div>
<div class="cell border-box-sizing code_cell rendered">
<div class="input">
<div class="prompt input_prompt">In&nbsp;[156]:</div>
<div class="inner_cell">
    <div class="input_area">
<div class=" highlight hl-ipython3"><pre><span></span><span class="c1"># Visualsing if there&#39;d be a correlation in terms of Alcoholism &amp; No_show</span>


<span class="n">check_7</span> <span class="o">=</span> <span class="n">sns</span><span class="o">.</span><span class="n">countplot</span><span class="p">(</span><span class="n">x</span><span class="o">=</span><span class="n">df</span><span class="o">.</span><span class="n">Alcoholism</span><span class="p">,</span> <span class="n">hue</span><span class="o">=</span><span class="n">df</span><span class="o">.</span><span class="n">No_show</span><span class="p">,</span> <span class="n">data</span><span class="o">=</span><span class="n">df</span><span class="p">)</span>
<span class="n">check_7</span><span class="o">.</span><span class="n">set_title</span><span class="p">(</span><span class="s1">&#39;Show/No_show in terms of Diabetes &amp; No_Show&#39;</span><span class="p">)</span>
<span class="n">plt</span><span class="o">.</span><span class="n">show</span><span class="p">()</span>
</pre></div>

    </div>
</div>
</div>

<div class="output_wrapper">
<div class="output">


<div class="output_area">

    <div class="prompt"></div>




<div class="output_png output_subarea ">
<img src="data:image/png;base64,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
"
>
</div>

</div>

</div>
</div>

</div>
<div class="cell border-box-sizing text_cell rendered"><div class="prompt input_prompt">
</div><div class="inner_cell">
<div class="text_cell_render border-box-sizing rendered_html">
<ul>
<li>People who got Alcoholism "addiction" are 3360 </li>
<li>as for people who went to their appointments while they do have that sort of "addiction" are 2683</li>
<li>The correlation is insignfiecat</li>
</ul>

</div>
</div>
</div>
<div class="cell border-box-sizing text_cell rendered"><div class="prompt input_prompt">
</div><div class="inner_cell">
<div class="text_cell_render border-box-sizing rendered_html">
<h3 id="What-factors-are-important-for-us-to-know-in-order-to-predict-if-a-patient-will-show-up-for-their-scheduled-appointment?">What factors are important for us to know in order to predict if a patient will show up for their scheduled appointment?<a class="anchor-link" href="#What-factors-are-important-for-us-to-know-in-order-to-predict-if-a-patient-will-show-up-for-their-scheduled-appointment?">&#182;</a></h3>
</div>
</div>
</div>
<div class="cell border-box-sizing text_cell rendered"><div class="prompt input_prompt">
</div><div class="inner_cell">
<div class="text_cell_render border-box-sizing rendered_html">
<p>based on the analysis above i believe the columns which affect on the patients in terms if they would show up or not are</p>
<ul>
<li><p>"Gender" cause according the analysis it says if the patient was a Female then most likely she would show up for the appoitment</p>
</li>
<li><p>"SMS_Received" it has no major effect most the mojority of people who received the SMS they eventually showed up</p>
</li>
<li><p>"Neighbourhood" it isn't major but people who locate in "Jardim Camburi" &amp; "Maria Ortiz" most likey seemed to be showing up for their appoitment rather than the other areas so the mojority goes for the people who locate in "Jardim Camburi" &amp; "Maria Ortiz"</p>
</li>
</ul>

</div>
</div>
</div>
<div class="cell border-box-sizing text_cell rendered"><div class="prompt input_prompt">
</div><div class="inner_cell">
<div class="text_cell_render border-box-sizing rendered_html">
<p><a id='conclusions'></a></p>
<h2 id="Conclusions">Conclusions<a class="anchor-link" href="#Conclusions">&#182;</a></h2><p>Based on the analysis above i do presume that there is no major correlation between the given columns and the people who would show up for their appointments but i think,</p>
<ul>
<li><p>SMS_Received did have a slight effect, the people who received the SMS are 35482 and 25698 of them showed up for their appoitments so i would say that's quite a lot and the SMS would affect if the patient would show up for his appoitment or not</p>
</li>
<li><p>Gender could have an effect on the patient him/herself, cause the majority of patients who showed up were Females and that means if the patient was a Female so most likely she would show up for the appoitment</p>
</li>
<li><p>Age i thought it'd have major effect on the dataset but the outcome of the analysis seems to be normal and i could say the age (0, 1) they were mostly committed to their appoitment</p>
</li>
<li><p>Neighbourhood according to the analysis, it seems there are some regoin where people are committed to their appoitment rather than the other regions, for example region like "Jardim Camburi" &amp; "Maria Ortiz" and a patient located in this region most likely he would show up for the appoitment</p>
</li>
</ul>
<p>so eventually i would say if there would be a driven decsion making, then the decsion would not be taking based on that analysis cause there are some constraing the the data i got is not really suffienet in terms of columns 
i do believe that there would be other factors which would affect on the patient if he/she would go for their appoitment or not</p>

</div>
</div>
</div>
<div class="cell border-box-sizing code_cell rendered">
<div class="input">
<div class="prompt input_prompt">In&nbsp;[5]:</div>
<div class="inner_cell">
    <div class="input_area">
<div class=" highlight hl-ipython3"><pre><span></span><span class="kn">from</span> <span class="nn">subprocess</span> <span class="k">import</span> <span class="n">call</span>
<span class="n">call</span><span class="p">([</span><span class="s1">&#39;python&#39;</span><span class="p">,</span> <span class="s1">&#39;-m&#39;</span><span class="p">,</span> <span class="s1">&#39;nbconvert&#39;</span><span class="p">,</span> <span class="s1">&#39;Investigate_a_Dataset.ipynb&#39;</span><span class="p">])</span>
</pre></div>

    </div>
</div>
</div>

<div class="output_wrapper">
<div class="output">


<div class="output_area">

    <div class="prompt output_prompt">Out[5]:</div>




<div class="output_text output_subarea output_execute_result">
<pre>0</pre>
</div>

</div>

</div>
</div>

</div>
<div class="cell border-box-sizing code_cell rendered">
<div class="input">
<div class="prompt input_prompt">In&nbsp;[&nbsp;]:</div>
<div class="inner_cell">
    <div class="input_area">
<div class=" highlight hl-ipython3"><pre><span></span> 
</pre></div>

    </div>
</div>
</div>

</div>
    </div>
  </div>
</body>

 


</html>
